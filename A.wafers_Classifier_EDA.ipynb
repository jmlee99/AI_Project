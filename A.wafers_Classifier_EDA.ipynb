{
 "cells": [
  {
   "cell_type": "code",
   "execution_count": 3,
   "id": "afecefdf",
   "metadata": {},
   "outputs": [],
   "source": [
    "import numpy as np\n",
    "import pandas as pd\n",
    "import matplotlib.pyplot as plt\n",
    "import seaborn as sns\n",
    "import os\n",
    "import pickle\n",
    "import time\n",
    "os.environ[\"CUDA_VISIBLE_DEVICES\"] = \"0\"\n",
    "\n",
    "from tensorflow import keras\n",
    "import tensorflow as tf"
   ]
  },
  {
   "cell_type": "code",
   "execution_count": 4,
   "id": "2cd37128",
   "metadata": {},
   "outputs": [],
   "source": [
    "# 리눅스 한글 설정\n",
    "plt.rc('font', family = 'NanumGothic')"
   ]
  },
  {
   "cell_type": "markdown",
   "id": "e1586476",
   "metadata": {},
   "source": [
    "import matplotlib as mpl\n",
    "import matplotlib.font_manager as fm\n",
    "\n",
    "font_path = 'C:\\\\Windows\\\\Fonts\\\\gulim.ttc'\n",
    "font = fm.FontProperties(fname=font_path).get_name()\n",
    "mpl.rc('font', family=font)"
   ]
  },
  {
   "cell_type": "code",
   "execution_count": 5,
   "id": "36f57d41",
   "metadata": {},
   "outputs": [],
   "source": [
    "df = pd.read_pickle('mywafer.pkl')"
   ]
  },
  {
   "cell_type": "code",
   "execution_count": 8,
   "id": "44548417",
   "metadata": {},
   "outputs": [
    {
     "data": {
      "text/html": [
       "<div>\n",
       "<style scoped>\n",
       "    .dataframe tbody tr th:only-of-type {\n",
       "        vertical-align: middle;\n",
       "    }\n",
       "\n",
       "    .dataframe tbody tr th {\n",
       "        vertical-align: top;\n",
       "    }\n",
       "\n",
       "    .dataframe thead th {\n",
       "        text-align: right;\n",
       "    }\n",
       "</style>\n",
       "<table border=\"1\" class=\"dataframe\">\n",
       "  <thead>\n",
       "    <tr style=\"text-align: right;\">\n",
       "      <th></th>\n",
       "      <th>index</th>\n",
       "      <th>diesize</th>\n",
       "      <th>lotname</th>\n",
       "      <th>waferindex</th>\n",
       "      <th>waferdims</th>\n",
       "      <th>train_test_label</th>\n",
       "      <th>failure_type</th>\n",
       "      <th>check_tuple</th>\n",
       "      <th>wafermap_reshape</th>\n",
       "    </tr>\n",
       "  </thead>\n",
       "  <tbody>\n",
       "    <tr>\n",
       "      <th>0</th>\n",
       "      <td>0</td>\n",
       "      <td>1683.0</td>\n",
       "      <td>lot1</td>\n",
       "      <td>1.0</td>\n",
       "      <td>(45, 48)</td>\n",
       "      <td>Training</td>\n",
       "      <td>none</td>\n",
       "      <td>True</td>\n",
       "      <td>[[0, 0, 0, 0, 0, 0, 0, 0, 0, 0, 0, 0, 0, 0, 0,...</td>\n",
       "    </tr>\n",
       "    <tr>\n",
       "      <th>1</th>\n",
       "      <td>1</td>\n",
       "      <td>1683.0</td>\n",
       "      <td>lot1</td>\n",
       "      <td>2.0</td>\n",
       "      <td>(45, 48)</td>\n",
       "      <td>Training</td>\n",
       "      <td>none</td>\n",
       "      <td>True</td>\n",
       "      <td>[[0, 0, 0, 0, 0, 0, 0, 0, 0, 0, 0, 0, 0, 0, 0,...</td>\n",
       "    </tr>\n",
       "    <tr>\n",
       "      <th>2</th>\n",
       "      <td>2</td>\n",
       "      <td>1683.0</td>\n",
       "      <td>lot1</td>\n",
       "      <td>3.0</td>\n",
       "      <td>(45, 48)</td>\n",
       "      <td>Training</td>\n",
       "      <td>none</td>\n",
       "      <td>True</td>\n",
       "      <td>[[0, 0, 0, 0, 0, 0, 0, 0, 0, 0, 0, 0, 0, 0, 0,...</td>\n",
       "    </tr>\n",
       "    <tr>\n",
       "      <th>3</th>\n",
       "      <td>3</td>\n",
       "      <td>1683.0</td>\n",
       "      <td>lot1</td>\n",
       "      <td>4.0</td>\n",
       "      <td>(45, 48)</td>\n",
       "      <td>Training</td>\n",
       "      <td>none</td>\n",
       "      <td>True</td>\n",
       "      <td>[[0, 0, 0, 0, 0, 0, 0, 0, 0, 0, 0, 0, 0, 0, 0,...</td>\n",
       "    </tr>\n",
       "    <tr>\n",
       "      <th>4</th>\n",
       "      <td>4</td>\n",
       "      <td>1683.0</td>\n",
       "      <td>lot1</td>\n",
       "      <td>5.0</td>\n",
       "      <td>(45, 48)</td>\n",
       "      <td>Training</td>\n",
       "      <td>none</td>\n",
       "      <td>True</td>\n",
       "      <td>[[0, 0, 0, 0, 0, 0, 0, 0, 0, 0, 0, 0, 0, 0, 0,...</td>\n",
       "    </tr>\n",
       "  </tbody>\n",
       "</table>\n",
       "</div>"
      ],
      "text/plain": [
       "   index  diesize lotname  waferindex waferdims train_test_label failure_type  \\\n",
       "0      0   1683.0    lot1         1.0  (45, 48)         Training         none   \n",
       "1      1   1683.0    lot1         2.0  (45, 48)         Training         none   \n",
       "2      2   1683.0    lot1         3.0  (45, 48)         Training         none   \n",
       "3      3   1683.0    lot1         4.0  (45, 48)         Training         none   \n",
       "4      4   1683.0    lot1         5.0  (45, 48)         Training         none   \n",
       "\n",
       "   check_tuple                                   wafermap_reshape  \n",
       "0         True  [[0, 0, 0, 0, 0, 0, 0, 0, 0, 0, 0, 0, 0, 0, 0,...  \n",
       "1         True  [[0, 0, 0, 0, 0, 0, 0, 0, 0, 0, 0, 0, 0, 0, 0,...  \n",
       "2         True  [[0, 0, 0, 0, 0, 0, 0, 0, 0, 0, 0, 0, 0, 0, 0,...  \n",
       "3         True  [[0, 0, 0, 0, 0, 0, 0, 0, 0, 0, 0, 0, 0, 0, 0,...  \n",
       "4         True  [[0, 0, 0, 0, 0, 0, 0, 0, 0, 0, 0, 0, 0, 0, 0,...  "
      ]
     },
     "execution_count": 8,
     "metadata": {},
     "output_type": "execute_result"
    }
   ],
   "source": [
    "df.head()"
   ]
  },
  {
   "cell_type": "code",
   "execution_count": 9,
   "id": "118f1b5a",
   "metadata": {},
   "outputs": [
    {
     "name": "stdout",
     "output_type": "stream",
     "text": [
      "<class 'pandas.core.frame.DataFrame'>\n",
      "RangeIndex: 745630 entries, 0 to 745629\n",
      "Data columns (total 9 columns):\n",
      " #   Column            Non-Null Count   Dtype  \n",
      "---  ------            --------------   -----  \n",
      " 0   index             745630 non-null  int64  \n",
      " 1   diesize           745630 non-null  float64\n",
      " 2   lotname           745630 non-null  object \n",
      " 3   waferindex        745630 non-null  float64\n",
      " 4   waferdims         745630 non-null  object \n",
      " 5   train_test_label  171350 non-null  object \n",
      " 6   failure_type      171350 non-null  object \n",
      " 7   check_tuple       745630 non-null  bool   \n",
      " 8   wafermap_reshape  745630 non-null  object \n",
      "dtypes: bool(1), float64(2), int64(1), object(5)\n",
      "memory usage: 46.2+ MB\n"
     ]
    }
   ],
   "source": [
    "df.info()"
   ]
  },
  {
   "cell_type": "code",
   "execution_count": 10,
   "id": "c428fb74",
   "metadata": {},
   "outputs": [],
   "source": [
    "df_train = df[df['train_test_label']=='Training']\n",
    "df_test = df[df['train_test_label']=='Test']\n",
    "df_real = df[df['train_test_label'].isna()]"
   ]
  },
  {
   "cell_type": "code",
   "execution_count": 11,
   "id": "97c9fdad",
   "metadata": {},
   "outputs": [
    {
     "name": "stdout",
     "output_type": "stream",
     "text": [
      "   level_0  index  diesize lotname  waferindex waferdims train_test_label  \\\n",
      "0        0      0   1683.0    lot1         1.0  (45, 48)         Training   \n",
      "1        1      1   1683.0    lot1         2.0  (45, 48)         Training   \n",
      "2        2      2   1683.0    lot1         3.0  (45, 48)         Training   \n",
      "3        3      3   1683.0    lot1         4.0  (45, 48)         Training   \n",
      "4        4      4   1683.0    lot1         5.0  (45, 48)         Training   \n",
      "\n",
      "  failure_type  check_tuple                                   wafermap_reshape  \n",
      "0         none         True  [[0, 0, 0, 0, 0, 0, 0, 0, 0, 0, 0, 0, 0, 0, 0,...  \n",
      "1         none         True  [[0, 0, 0, 0, 0, 0, 0, 0, 0, 0, 0, 0, 0, 0, 0,...  \n",
      "2         none         True  [[0, 0, 0, 0, 0, 0, 0, 0, 0, 0, 0, 0, 0, 0, 0,...  \n",
      "3         none         True  [[0, 0, 0, 0, 0, 0, 0, 0, 0, 0, 0, 0, 0, 0, 0,...  \n",
      "4         none         True  [[0, 0, 0, 0, 0, 0, 0, 0, 0, 0, 0, 0, 0, 0, 0,...      level_0   index  diesize   lotname  waferindex waferdims train_test_label  \\\n",
      "0   573986  639663    533.0  lot40328         1.0  (26, 26)             Test   \n",
      "1   573987  639664    533.0  lot40328         2.0  (26, 26)             Test   \n",
      "2   573988  639665    533.0  lot40328         3.0  (26, 26)             Test   \n",
      "3   573989  639666    533.0  lot40328         4.0  (26, 26)             Test   \n",
      "4   573990  639667    533.0  lot40328         5.0  (26, 26)             Test   \n",
      "\n",
      "  failure_type  check_tuple                                   wafermap_reshape  \n",
      "0         none         True  [[0, 0, 0, 0, 0, 0, 0, 0, 0, 0, 0, 0, 0, 0, 0,...  \n",
      "1         none         True  [[0, 0, 0, 0, 0, 0, 0, 0, 0, 0, 0, 0, 0, 0, 0,...  \n",
      "2         none         True  [[0, 0, 0, 0, 0, 0, 0, 0, 0, 0, 0, 0, 0, 0, 0,...  \n",
      "3         none         True  [[0, 0, 0, 0, 0, 0, 0, 0, 0, 0, 0, 0, 0, 0, 0,...  \n",
      "4         none         True  [[0, 0, 0, 0, 0, 0, 0, 0, 0, 0, 0, 0, 0, 0, 0,...      level_0  index  diesize lotname  waferindex waferdims train_test_label  \\\n",
      "0       35     35   2460.0    lot2        11.0  (53, 58)              NaN   \n",
      "1       45     45   2460.0    lot2        21.0  (53, 58)              NaN   \n",
      "2       69     69   2460.0    lot3        20.0  (53, 58)              NaN   \n",
      "3      120    120   2460.0    lot5        21.0  (53, 58)              NaN   \n",
      "4      158    158    533.0    lot7         9.0  (26, 26)              NaN   \n",
      "\n",
      "  failure_type  check_tuple                                   wafermap_reshape  \n",
      "0          NaN         True  [[0, 0, 0, 0, 0, 0, 0, 0, 0, 0, 0, 0, 0, 0, 0,...  \n",
      "1          NaN         True  [[0, 0, 0, 0, 0, 0, 0, 0, 0, 0, 0, 0, 0, 0, 0,...  \n",
      "2          NaN         True  [[0, 0, 0, 0, 0, 0, 0, 0, 0, 0, 0, 0, 0, 0, 0,...  \n",
      "3          NaN         True  [[0, 0, 0, 0, 0, 0, 0, 0, 0, 0, 0, 0, 0, 0, 0,...  \n",
      "4          NaN         True  [[0, 0, 0, 0, 0, 0, 0, 0, 0, 0, 0, 0, 0, 0, 0,...  \n"
     ]
    }
   ],
   "source": [
    "df_train.reset_index(inplace = True)\n",
    "df_test.reset_index(inplace = True)\n",
    "df_real.reset_index(inplace = True)\n",
    "print(df_train.head(), df_test.head(), df_real.head())"
   ]
  },
  {
   "cell_type": "code",
   "execution_count": 9,
   "id": "da3bb275",
   "metadata": {},
   "outputs": [
    {
     "name": "stderr",
     "output_type": "stream",
     "text": [
      "/tmp/ipykernel_8213/2479246445.py:1: SettingWithCopyWarning: \n",
      "A value is trying to be set on a copy of a slice from a DataFrame\n",
      "\n",
      "See the caveats in the documentation: https://pandas.pydata.org/pandas-docs/stable/user_guide/indexing.html#returning-a-view-versus-a-copy\n",
      "  df_train.drop(['level_0', 'index'], axis = 1, inplace = True)\n",
      "/tmp/ipykernel_8213/2479246445.py:2: SettingWithCopyWarning: \n",
      "A value is trying to be set on a copy of a slice from a DataFrame\n",
      "\n",
      "See the caveats in the documentation: https://pandas.pydata.org/pandas-docs/stable/user_guide/indexing.html#returning-a-view-versus-a-copy\n",
      "  df_test.drop(['level_0', 'index'], axis = 1, inplace = True)\n",
      "/tmp/ipykernel_8213/2479246445.py:3: SettingWithCopyWarning: \n",
      "A value is trying to be set on a copy of a slice from a DataFrame\n",
      "\n",
      "See the caveats in the documentation: https://pandas.pydata.org/pandas-docs/stable/user_guide/indexing.html#returning-a-view-versus-a-copy\n",
      "  df_real.drop(['level_0', 'index'], axis = 1, inplace = True)\n"
     ]
    }
   ],
   "source": [
    "df_train.drop(['level_0', 'index'], axis = 1, inplace = True)\n",
    "df_test.drop(['level_0', 'index'], axis = 1, inplace = True)\n",
    "df_real.drop(['level_0', 'index'], axis = 1, inplace = True)"
   ]
  },
  {
   "cell_type": "code",
   "execution_count": 10,
   "id": "bedd284f",
   "metadata": {},
   "outputs": [
    {
     "data": {
      "text/plain": [
       "(array(['Center', 'Donut', 'Edge-Loc', 'Edge-Ring', 'Loc', 'Near-full',\n",
       "        'Random', 'Scratch', 'none'], dtype=object),\n",
       " array([ 3415,   408,  2355,  7856,  1487,    54,   595,   394, 36341]))"
      ]
     },
     "execution_count": 10,
     "metadata": {},
     "output_type": "execute_result"
    }
   ],
   "source": [
    "np.unique(df_train['failure_type'], return_counts = True)"
   ]
  },
  {
   "cell_type": "code",
   "execution_count": 11,
   "id": "06e5d50e",
   "metadata": {},
   "outputs": [
    {
     "data": {
      "text/plain": [
       "(array(['Center', 'Donut', 'Edge-Loc', 'Edge-Ring', 'Loc', 'Near-full',\n",
       "        'Random', 'Scratch', 'none'], dtype=object),\n",
       " array([   832,    146,   2772,   1126,   1971,     95,    257,    686,\n",
       "        110560]))"
      ]
     },
     "execution_count": 11,
     "metadata": {},
     "output_type": "execute_result"
    }
   ],
   "source": [
    "np.unique(df_test['failure_type'], return_counts = True)"
   ]
  },
  {
   "cell_type": "code",
   "execution_count": 12,
   "id": "86cc5bd9",
   "metadata": {},
   "outputs": [
    {
     "data": {
      "text/plain": [
       "(array([nan, nan, nan, ..., nan, nan, nan], dtype=object),\n",
       " array([1, 1, 1, ..., 1, 1, 1]))"
      ]
     },
     "execution_count": 12,
     "metadata": {},
     "output_type": "execute_result"
    }
   ],
   "source": [
    "np.unique(df_real['failure_type'], return_counts = True)"
   ]
  },
  {
   "cell_type": "markdown",
   "id": "814b0fb2",
   "metadata": {},
   "source": [
    "## 1. 결측 패턴 확인"
   ]
  },
  {
   "cell_type": "code",
   "execution_count": 13,
   "id": "1b84ac28",
   "metadata": {},
   "outputs": [],
   "source": [
    "img, count = np.unique(df_train['failure_type'], return_counts = True)\n",
    "\n",
    "def check_failure(df, img_list):\n",
    "    ct, e = 0, 0\n",
    "    fig, axes = plt.subplots(3,3, figsize = (15,15))\n",
    "    for i in range(len(img_list)):\n",
    "        filter1 = img_list[i]\n",
    "        data = df[df['failure_type'] == filter1]\n",
    "        index = data.index[12]\n",
    "        axes[e][ct].imshow(data['wafermap_reshape'][index], cmap = 'gray')\n",
    "        title_font = {'fontsize': 16, 'fontweight': 'bold'}\n",
    "        axes[e][ct].set_title(img_list[i], fontdict = title_font)\n",
    "        ct += 1\n",
    "        if (i == 2) | (i == 5):\n",
    "            e += 1\n",
    "            ct = 0\n",
    "            \n",
    "def check_failuretype(df, img_list):\n",
    "    ct, e = 0, 0\n",
    "    fig, axes = plt.subplots(3,3, figsize = (15,15))\n",
    "    for i in range(len(img_list)):\n",
    "        filter1 = img_list[i]\n",
    "        data = df[df['failure_type'] == filter1]\n",
    "        index = data.index[0]\n",
    "        axes[e][ct].imshow(data['wafermap_reshape'][index], cmap = 'RdPu')\n",
    "        title_font = {'fontsize': 20, 'fontweight': 'bold'}\n",
    "        axes[e][ct].set_title(img_list[i], fontdict = title_font)\n",
    "        ct += 1\n",
    "        if (i == 2) | (i == 5):\n",
    "            e += 1\n",
    "            ct = 0"
   ]
  },
  {
   "cell_type": "code",
   "execution_count": 14,
   "id": "3b0d7476",
   "metadata": {},
   "outputs": [
    {
     "data": {
      "image/png": "[encoded data removed]",
      "text/plain": [
       "<Figure size 1080x1080 with 9 Axes>"
      ]
     },
     "metadata": {
      "needs_background": "light"
     },
     "output_type": "display_data"
    }
   ],
   "source": [
    "check_failure(df_train, img) # Donut, Edge-Ring "
   ]
  },
  {
   "cell_type": "code",
   "execution_count": 15,
   "id": "92b37af2",
   "metadata": {},
   "outputs": [
    {
     "data": {
      "image/png": "[encoded data removed]",
      "text/plain": [
       "<Figure size 1080x1080 with 9 Axes>"
      ]
     },
     "metadata": {
      "needs_background": "light"
     },
     "output_type": "display_data"
    }
   ],
   "source": [
    "check_failuretype(df_train, img) # Center, Edge-Loc, Near-full"
   ]
  },
  {
   "cell_type": "markdown",
   "id": "78ba2a51",
   "metadata": {},
   "source": [
    "## 2. lot num별로 통계치 분석 "
   ]
  },
  {
   "cell_type": "code",
   "execution_count": 16,
   "id": "9b14a42a",
   "metadata": {
    "scrolled": true
   },
   "outputs": [
    {
     "data": {
      "text/html": [
       "<div>\n",
       "<style scoped>\n",
       "    .dataframe tbody tr th:only-of-type {\n",
       "        vertical-align: middle;\n",
       "    }\n",
       "\n",
       "    .dataframe tbody tr th {\n",
       "        vertical-align: top;\n",
       "    }\n",
       "\n",
       "    .dataframe thead th {\n",
       "        text-align: right;\n",
       "    }\n",
       "</style>\n",
       "<table border=\"1\" class=\"dataframe\">\n",
       "  <thead>\n",
       "    <tr style=\"text-align: right;\">\n",
       "      <th></th>\n",
       "      <th>lotname</th>\n",
       "      <th>diesize</th>\n",
       "    </tr>\n",
       "  </thead>\n",
       "  <tbody>\n",
       "    <tr>\n",
       "      <th>0</th>\n",
       "      <td>lot1</td>\n",
       "      <td>1683.0</td>\n",
       "    </tr>\n",
       "    <tr>\n",
       "      <th>1</th>\n",
       "      <td>lot1</td>\n",
       "      <td>1683.0</td>\n",
       "    </tr>\n",
       "    <tr>\n",
       "      <th>2</th>\n",
       "      <td>lot1</td>\n",
       "      <td>1683.0</td>\n",
       "    </tr>\n",
       "    <tr>\n",
       "      <th>3</th>\n",
       "      <td>lot1</td>\n",
       "      <td>1683.0</td>\n",
       "    </tr>\n",
       "    <tr>\n",
       "      <th>4</th>\n",
       "      <td>lot1</td>\n",
       "      <td>1683.0</td>\n",
       "    </tr>\n",
       "  </tbody>\n",
       "</table>\n",
       "</div>"
      ],
      "text/plain": [
       "  lotname  diesize\n",
       "0    lot1   1683.0\n",
       "1    lot1   1683.0\n",
       "2    lot1   1683.0\n",
       "3    lot1   1683.0\n",
       "4    lot1   1683.0"
      ]
     },
     "execution_count": 16,
     "metadata": {},
     "output_type": "execute_result"
    }
   ],
   "source": [
    "df11 = df[['lotname', 'diesize']]\n",
    "df11.head()"
   ]
  },
  {
   "cell_type": "code",
   "execution_count": 17,
   "id": "1e9a8bdc",
   "metadata": {},
   "outputs": [
    {
     "data": {
      "text/html": [
       "<div>\n",
       "<style scoped>\n",
       "    .dataframe tbody tr th:only-of-type {\n",
       "        vertical-align: middle;\n",
       "    }\n",
       "\n",
       "    .dataframe tbody tr th {\n",
       "        vertical-align: top;\n",
       "    }\n",
       "\n",
       "    .dataframe thead tr th {\n",
       "        text-align: left;\n",
       "    }\n",
       "\n",
       "    .dataframe thead tr:last-of-type th {\n",
       "        text-align: right;\n",
       "    }\n",
       "</style>\n",
       "<table border=\"1\" class=\"dataframe\">\n",
       "  <thead>\n",
       "    <tr>\n",
       "      <th></th>\n",
       "      <th>diesize</th>\n",
       "    </tr>\n",
       "    <tr>\n",
       "      <th></th>\n",
       "      <th>mean</th>\n",
       "    </tr>\n",
       "    <tr>\n",
       "      <th>lotname</th>\n",
       "      <th></th>\n",
       "    </tr>\n",
       "  </thead>\n",
       "  <tbody>\n",
       "    <tr>\n",
       "      <th>lot1</th>\n",
       "      <td>1683.00</td>\n",
       "    </tr>\n",
       "    <tr>\n",
       "      <th>lot10</th>\n",
       "      <td>533.00</td>\n",
       "    </tr>\n",
       "    <tr>\n",
       "      <th>lot100</th>\n",
       "      <td>533.00</td>\n",
       "    </tr>\n",
       "    <tr>\n",
       "      <th>lot10000</th>\n",
       "      <td>904.00</td>\n",
       "    </tr>\n",
       "    <tr>\n",
       "      <th>lot10001</th>\n",
       "      <td>904.00</td>\n",
       "    </tr>\n",
       "    <tr>\n",
       "      <th>...</th>\n",
       "      <td>...</td>\n",
       "    </tr>\n",
       "    <tr>\n",
       "      <th>lot9995</th>\n",
       "      <td>2006.88</td>\n",
       "    </tr>\n",
       "    <tr>\n",
       "      <th>lot9996</th>\n",
       "      <td>2006.36</td>\n",
       "    </tr>\n",
       "    <tr>\n",
       "      <th>lot9997</th>\n",
       "      <td>904.00</td>\n",
       "    </tr>\n",
       "    <tr>\n",
       "      <th>lot9998</th>\n",
       "      <td>904.00</td>\n",
       "    </tr>\n",
       "    <tr>\n",
       "      <th>lot9999</th>\n",
       "      <td>904.00</td>\n",
       "    </tr>\n",
       "  </tbody>\n",
       "</table>\n",
       "<p>42548 rows × 1 columns</p>\n",
       "</div>"
      ],
      "text/plain": [
       "          diesize\n",
       "             mean\n",
       "lotname          \n",
       "lot1      1683.00\n",
       "lot10      533.00\n",
       "lot100     533.00\n",
       "lot10000   904.00\n",
       "lot10001   904.00\n",
       "...           ...\n",
       "lot9995   2006.88\n",
       "lot9996   2006.36\n",
       "lot9997    904.00\n",
       "lot9998    904.00\n",
       "lot9999    904.00\n",
       "\n",
       "[42548 rows x 1 columns]"
      ]
     },
     "execution_count": 17,
     "metadata": {},
     "output_type": "execute_result"
    }
   ],
   "source": [
    "g1 = df11.groupby('lotname').aggregate([np.mean])\n",
    "g1"
   ]
  },
  {
   "cell_type": "code",
   "execution_count": 18,
   "id": "bf43707d",
   "metadata": {},
   "outputs": [
    {
     "data": {
      "text/plain": [
       "Text(0.5, 1.0, 'lot별 diesize 평균의 분포')"
      ]
     },
     "execution_count": 18,
     "metadata": {},
     "output_type": "execute_result"
    },
    {
     "data": {
      "image/png": "[encoded data removed]",
      "text/plain": [
       "<Figure size 432x288 with 1 Axes>"
      ]
     },
     "metadata": {
      "needs_background": "light"
     },
     "output_type": "display_data"
    }
   ],
   "source": [
    "ax = sns.histplot(data = g1, kde = True, legend=True)\n",
    "ax.axvline(g1.iloc[:, 0].median(), color='g', linewidth=1.5, label='중앙값 : '+ str(round(g1.iloc[:, 0].median(), 0)))\n",
    "ax.axvline(g1.iloc[:, 0].mean(), color = 'r', linewidth = 1.5, label='평균값 : '+ str(round(g1.iloc[:, 0].mean(), 0)))\n",
    "ax.legend()\n",
    "ax.set_title('lot별 diesize 평균의 분포', fontweight =  'bold')"
   ]
  },
  {
   "cell_type": "markdown",
   "id": "4729d94d",
   "metadata": {},
   "source": [
    "## lot number 별 waferdims and waferdims별 failure_type 확인"
   ]
  },
  {
   "cell_type": "code",
   "execution_count": 19,
   "id": "0ee9e213",
   "metadata": {},
   "outputs": [
    {
     "data": {
      "text/html": [
       "<div>\n",
       "<style scoped>\n",
       "    .dataframe tbody tr th:only-of-type {\n",
       "        vertical-align: middle;\n",
       "    }\n",
       "\n",
       "    .dataframe tbody tr th {\n",
       "        vertical-align: top;\n",
       "    }\n",
       "\n",
       "    .dataframe thead th {\n",
       "        text-align: right;\n",
       "    }\n",
       "</style>\n",
       "<table border=\"1\" class=\"dataframe\">\n",
       "  <thead>\n",
       "    <tr style=\"text-align: right;\">\n",
       "      <th></th>\n",
       "      <th>lotname</th>\n",
       "      <th>diesize</th>\n",
       "      <th>waferdims</th>\n",
       "      <th>failure_type</th>\n",
       "    </tr>\n",
       "  </thead>\n",
       "  <tbody>\n",
       "    <tr>\n",
       "      <th>0</th>\n",
       "      <td>lot1</td>\n",
       "      <td>1683.0</td>\n",
       "      <td>(45, 48)</td>\n",
       "      <td>none</td>\n",
       "    </tr>\n",
       "    <tr>\n",
       "      <th>1</th>\n",
       "      <td>lot1</td>\n",
       "      <td>1683.0</td>\n",
       "      <td>(45, 48)</td>\n",
       "      <td>none</td>\n",
       "    </tr>\n",
       "    <tr>\n",
       "      <th>2</th>\n",
       "      <td>lot1</td>\n",
       "      <td>1683.0</td>\n",
       "      <td>(45, 48)</td>\n",
       "      <td>none</td>\n",
       "    </tr>\n",
       "    <tr>\n",
       "      <th>3</th>\n",
       "      <td>lot1</td>\n",
       "      <td>1683.0</td>\n",
       "      <td>(45, 48)</td>\n",
       "      <td>none</td>\n",
       "    </tr>\n",
       "    <tr>\n",
       "      <th>4</th>\n",
       "      <td>lot1</td>\n",
       "      <td>1683.0</td>\n",
       "      <td>(45, 48)</td>\n",
       "      <td>none</td>\n",
       "    </tr>\n",
       "  </tbody>\n",
       "</table>\n",
       "</div>"
      ],
      "text/plain": [
       "  lotname  diesize waferdims failure_type\n",
       "0    lot1   1683.0  (45, 48)         none\n",
       "1    lot1   1683.0  (45, 48)         none\n",
       "2    lot1   1683.0  (45, 48)         none\n",
       "3    lot1   1683.0  (45, 48)         none\n",
       "4    lot1   1683.0  (45, 48)         none"
      ]
     },
     "execution_count": 19,
     "metadata": {},
     "output_type": "execute_result"
    }
   ],
   "source": [
    "ex_df = df[['lotname', 'diesize', 'waferdims', 'failure_type']]\n",
    "ex_df.head()"
   ]
  },
  {
   "cell_type": "code",
   "execution_count": 20,
   "id": "87f9d0cb",
   "metadata": {},
   "outputs": [
    {
     "data": {
      "text/html": [
       "<div>\n",
       "<style scoped>\n",
       "    .dataframe tbody tr th:only-of-type {\n",
       "        vertical-align: middle;\n",
       "    }\n",
       "\n",
       "    .dataframe tbody tr th {\n",
       "        vertical-align: top;\n",
       "    }\n",
       "\n",
       "    .dataframe thead th {\n",
       "        text-align: right;\n",
       "    }\n",
       "</style>\n",
       "<table border=\"1\" class=\"dataframe\">\n",
       "  <thead>\n",
       "    <tr style=\"text-align: right;\">\n",
       "      <th></th>\n",
       "      <th></th>\n",
       "      <th>diesize</th>\n",
       "      <th>failure_type</th>\n",
       "    </tr>\n",
       "    <tr>\n",
       "      <th>lotname</th>\n",
       "      <th>waferdims</th>\n",
       "      <th></th>\n",
       "      <th></th>\n",
       "    </tr>\n",
       "  </thead>\n",
       "  <tbody>\n",
       "    <tr>\n",
       "      <th>lot1</th>\n",
       "      <th>(45, 48)</th>\n",
       "      <td>25</td>\n",
       "      <td>25</td>\n",
       "    </tr>\n",
       "    <tr>\n",
       "      <th>lot10</th>\n",
       "      <th>(26, 26)</th>\n",
       "      <td>25</td>\n",
       "      <td>24</td>\n",
       "    </tr>\n",
       "    <tr>\n",
       "      <th>lot100</th>\n",
       "      <th>(26, 26)</th>\n",
       "      <td>25</td>\n",
       "      <td>24</td>\n",
       "    </tr>\n",
       "    <tr>\n",
       "      <th>lot10000</th>\n",
       "      <th>(34, 34)</th>\n",
       "      <td>2</td>\n",
       "      <td>0</td>\n",
       "    </tr>\n",
       "    <tr>\n",
       "      <th>lot10001</th>\n",
       "      <th>(34, 34)</th>\n",
       "      <td>2</td>\n",
       "      <td>0</td>\n",
       "    </tr>\n",
       "    <tr>\n",
       "      <th>...</th>\n",
       "      <th>...</th>\n",
       "      <td>...</td>\n",
       "      <td>...</td>\n",
       "    </tr>\n",
       "    <tr>\n",
       "      <th>lot9995</th>\n",
       "      <th>(42, 61)</th>\n",
       "      <td>25</td>\n",
       "      <td>4</td>\n",
       "    </tr>\n",
       "    <tr>\n",
       "      <th>lot9996</th>\n",
       "      <th>(42, 61)</th>\n",
       "      <td>25</td>\n",
       "      <td>0</td>\n",
       "    </tr>\n",
       "    <tr>\n",
       "      <th>lot9997</th>\n",
       "      <th>(34, 34)</th>\n",
       "      <td>23</td>\n",
       "      <td>5</td>\n",
       "    </tr>\n",
       "    <tr>\n",
       "      <th>lot9998</th>\n",
       "      <th>(34, 34)</th>\n",
       "      <td>23</td>\n",
       "      <td>0</td>\n",
       "    </tr>\n",
       "    <tr>\n",
       "      <th>lot9999</th>\n",
       "      <th>(34, 34)</th>\n",
       "      <td>23</td>\n",
       "      <td>0</td>\n",
       "    </tr>\n",
       "  </tbody>\n",
       "</table>\n",
       "<p>42697 rows × 2 columns</p>\n",
       "</div>"
      ],
      "text/plain": [
       "                    diesize  failure_type\n",
       "lotname  waferdims                       \n",
       "lot1     (45, 48)        25            25\n",
       "lot10    (26, 26)        25            24\n",
       "lot100   (26, 26)        25            24\n",
       "lot10000 (34, 34)         2             0\n",
       "lot10001 (34, 34)         2             0\n",
       "...                     ...           ...\n",
       "lot9995  (42, 61)        25             4\n",
       "lot9996  (42, 61)        25             0\n",
       "lot9997  (34, 34)        23             5\n",
       "lot9998  (34, 34)        23             0\n",
       "lot9999  (34, 34)        23             0\n",
       "\n",
       "[42697 rows x 2 columns]"
      ]
     },
     "execution_count": 20,
     "metadata": {},
     "output_type": "execute_result"
    }
   ],
   "source": [
    "g2 = ex_df.groupby(['lotname', 'waferdims']).count()\n",
    "g2"
   ]
  },
  {
   "cell_type": "markdown",
   "id": "b16c62c2",
   "metadata": {},
   "source": [
    "## lot number별 들어가는 wafer 갯수\n",
    "- 대부분의 <span style='background-color:#fff5b1'> 한 번의 lot 마다 wafer는 대략 25개</span>가 들어간다."
   ]
  },
  {
   "cell_type": "code",
   "execution_count": 21,
   "id": "953cf78f",
   "metadata": {},
   "outputs": [
    {
     "data": {
      "text/plain": [
       "Text(0.5, 1.0, 'lot별 wafer 갯수')"
      ]
     },
     "execution_count": 21,
     "metadata": {},
     "output_type": "execute_result"
    },
    {
     "data": {
      "text/plain": [
       "<Figure size 720x360 with 0 Axes>"
      ]
     },
     "metadata": {},
     "output_type": "display_data"
    },
    {
     "data": {
      "image/png": "[encoded data removed]",
      "text/plain": [
       "<Figure size 360x360 with 1 Axes>"
      ]
     },
     "metadata": {
      "needs_background": "light"
     },
     "output_type": "display_data"
    }
   ],
   "source": [
    "plt.figure(figsize = (10,5))\n",
    "sns.displot(data = g2.iloc[:, 0], kde = True)\n",
    "plt.xlabel('한 번의 lot별 wafer갯수', fontsize=10)\n",
    "plt.title('lot별 wafer 갯수', weight = 'bold')"
   ]
  },
  {
   "cell_type": "markdown",
   "id": "287ace32",
   "metadata": {},
   "source": [
    "### wafer shape 별 상위 20개의 갯수"
   ]
  },
  {
   "cell_type": "code",
   "execution_count": 22,
   "id": "1cc1628d",
   "metadata": {},
   "outputs": [
    {
     "data": {
      "text/plain": [
       "(0.0, 100000.0)"
      ]
     },
     "execution_count": 22,
     "metadata": {},
     "output_type": "execute_result"
    },
    {
     "data": {
      "image/png": "[encoded data removed]",
      "text/plain": [
       "<Figure size 720x720 with 2 Axes>"
      ]
     },
     "metadata": {
      "needs_background": "light"
     },
     "output_type": "display_data"
    }
   ],
   "source": [
    "fig, axes = plt.subplots(2,1, figsize=(10,10),layout = 'tight')\n",
    "sns.countplot(data = ex_df,\n",
    "              x = 'waferdims',\n",
    "              palette = 'hls', \n",
    "              saturation=0.75,\n",
    "              width=0.5, \n",
    "              order = ex_df['waferdims'].value_counts().index[:10],\n",
    "              ax = axes[0])\n",
    "sns.countplot(data = ex_df,\n",
    "              x = 'waferdims',\n",
    "              palette = 'hls',\n",
    "              saturation=0.75,\n",
    "              width=0.5,\n",
    "              order = ex_df['waferdims'].value_counts().index[10:20],\n",
    "              ax = axes[1])\n",
    "\n",
    "\n",
    "\n",
    "axes[0].set_title('wafer shape별 갯수 상위 1 ~ 10등')\n",
    "axes[0].set_xticklabels(ex_df['waferdims'].value_counts().index[:10], rotation = 45)\n",
    "axes[1].set_title('wafer shape별 갯수 상위 11 ~ 20등')\n",
    "axes[1].set_xticklabels(ex_df['waferdims'].value_counts().index[10:20], rotation = 45)\n",
    "axes[1].set_ylim([0,100000])"
   ]
  },
  {
   "cell_type": "markdown",
   "id": "9167f4d5",
   "metadata": {},
   "source": [
    "### wafer shape별 failure_type\n",
    "1. <span style='background-color:#fff5b1'> 특정 wafer shape에서 특정 failure_type만 나온다면 그 wafer의 문제를 의심해보아야한다. </span>"
   ]
  },
  {
   "cell_type": "code",
   "execution_count": 23,
   "id": "33a759db",
   "metadata": {},
   "outputs": [
    {
     "data": {
      "text/plain": [
       "[Text(0, 0, '(39, 31)'),\n",
       " Text(1, 0, '(29, 26)'),\n",
       " Text(2, 0, '(27, 25)'),\n",
       " Text(3, 0, '(64, 71)'),\n",
       " Text(4, 0, '(31, 28)'),\n",
       " Text(5, 0, '(35, 40)'),\n",
       " Text(6, 0, '(38, 38)'),\n",
       " Text(7, 0, '(44, 44)'),\n",
       " Text(8, 0, '(34, 31)'),\n",
       " Text(9, 0, '(51, 59)')]"
      ]
     },
     "execution_count": 23,
     "metadata": {},
     "output_type": "execute_result"
    },
    {
     "data": {
      "image/png": "[encoded data removed]",
      "text/plain": [
       "<Figure size 720x720 with 2 Axes>"
      ]
     },
     "metadata": {
      "needs_background": "light"
     },
     "output_type": "display_data"
    }
   ],
   "source": [
    "fig, axes = plt.subplots(2,1, figsize=(10,10),layout = 'tight')\n",
    "sns.countplot(data = ex_df,\n",
    "              x = 'waferdims',\n",
    "              palette = 'hls',\n",
    "              hue = 'failure_type',\n",
    "              order = ex_df['waferdims'].value_counts().index[:10],\n",
    "              ax = axes[0])\n",
    "sns.countplot(data = ex_df,\n",
    "              x = 'waferdims',\n",
    "              palette = 'hls',\n",
    "              hue = 'failure_type',\n",
    "              order = ex_df['waferdims'].value_counts().index[10:20],\n",
    "              ax = axes[1])\n",
    "\n",
    "axes[0].set_title('wafer shape별 갯수 상위 1 ~ 10등의 결측 패턴')\n",
    "axes[0].set_xticklabels(ex_df['waferdims'].value_counts().index[:10], rotation = 45)\n",
    "axes[1].set_title('wafer shape별 갯수 상위 11 ~ 20등의 결측 패턴')\n",
    "axes[1].set_xticklabels(ex_df['waferdims'].value_counts().index[10:20], rotation = 45)"
   ]
  },
  {
   "cell_type": "markdown",
   "id": "e97aa134",
   "metadata": {},
   "source": [
    "### none 때문에 정확한 시각화가 안되기 때문에 none를 제외하고 결측 패턴만 확인\n",
    "***조금 쉽게 확인하기 위해 failure_type를 category labeling 진행***"
   ]
  },
  {
   "cell_type": "code",
   "execution_count": 24,
   "id": "10433f50",
   "metadata": {},
   "outputs": [
    {
     "name": "stderr",
     "output_type": "stream",
     "text": [
      "/tmp/ipykernel_8213/3996801134.py:1: SettingWithCopyWarning: \n",
      "A value is trying to be set on a copy of a slice from a DataFrame.\n",
      "Try using .loc[row_indexer,col_indexer] = value instead\n",
      "\n",
      "See the caveats in the documentation: https://pandas.pydata.org/pandas-docs/stable/user_guide/indexing.html#returning-a-view-versus-a-copy\n",
      "  ex_df['failure_cat'] = ex_df['failure_type'].astype('category').cat.codes\n"
     ]
    }
   ],
   "source": [
    "ex_df['failure_cat'] = ex_df['failure_type'].astype('category').cat.codes"
   ]
  },
  {
   "cell_type": "code",
   "execution_count": 25,
   "id": "d03065fe",
   "metadata": {},
   "outputs": [
    {
     "data": {
      "text/html": [
       "<div>\n",
       "<style scoped>\n",
       "    .dataframe tbody tr th:only-of-type {\n",
       "        vertical-align: middle;\n",
       "    }\n",
       "\n",
       "    .dataframe tbody tr th {\n",
       "        vertical-align: top;\n",
       "    }\n",
       "\n",
       "    .dataframe thead th {\n",
       "        text-align: right;\n",
       "    }\n",
       "</style>\n",
       "<table border=\"1\" class=\"dataframe\">\n",
       "  <thead>\n",
       "    <tr style=\"text-align: right;\">\n",
       "      <th></th>\n",
       "      <th>lotname</th>\n",
       "      <th>diesize</th>\n",
       "      <th>waferdims</th>\n",
       "      <th>failure_type</th>\n",
       "      <th>failure_cat</th>\n",
       "    </tr>\n",
       "  </thead>\n",
       "  <tbody>\n",
       "    <tr>\n",
       "      <th>0</th>\n",
       "      <td>lot1</td>\n",
       "      <td>1683.0</td>\n",
       "      <td>(45, 48)</td>\n",
       "      <td>none</td>\n",
       "      <td>8</td>\n",
       "    </tr>\n",
       "    <tr>\n",
       "      <th>1</th>\n",
       "      <td>lot1</td>\n",
       "      <td>1683.0</td>\n",
       "      <td>(45, 48)</td>\n",
       "      <td>none</td>\n",
       "      <td>8</td>\n",
       "    </tr>\n",
       "    <tr>\n",
       "      <th>2</th>\n",
       "      <td>lot1</td>\n",
       "      <td>1683.0</td>\n",
       "      <td>(45, 48)</td>\n",
       "      <td>none</td>\n",
       "      <td>8</td>\n",
       "    </tr>\n",
       "    <tr>\n",
       "      <th>3</th>\n",
       "      <td>lot1</td>\n",
       "      <td>1683.0</td>\n",
       "      <td>(45, 48)</td>\n",
       "      <td>none</td>\n",
       "      <td>8</td>\n",
       "    </tr>\n",
       "    <tr>\n",
       "      <th>4</th>\n",
       "      <td>lot1</td>\n",
       "      <td>1683.0</td>\n",
       "      <td>(45, 48)</td>\n",
       "      <td>none</td>\n",
       "      <td>8</td>\n",
       "    </tr>\n",
       "  </tbody>\n",
       "</table>\n",
       "</div>"
      ],
      "text/plain": [
       "  lotname  diesize waferdims failure_type  failure_cat\n",
       "0    lot1   1683.0  (45, 48)         none            8\n",
       "1    lot1   1683.0  (45, 48)         none            8\n",
       "2    lot1   1683.0  (45, 48)         none            8\n",
       "3    lot1   1683.0  (45, 48)         none            8\n",
       "4    lot1   1683.0  (45, 48)         none            8"
      ]
     },
     "execution_count": 25,
     "metadata": {},
     "output_type": "execute_result"
    }
   ],
   "source": [
    "ex_df.head()"
   ]
  },
  {
   "cell_type": "code",
   "execution_count": 26,
   "id": "cb333074",
   "metadata": {},
   "outputs": [
    {
     "name": "stderr",
     "output_type": "stream",
     "text": [
      "/tmp/ipykernel_8213/1335769634.py:2: SettingWithCopyWarning: \n",
      "A value is trying to be set on a copy of a slice from a DataFrame\n",
      "\n",
      "See the caveats in the documentation: https://pandas.pydata.org/pandas-docs/stable/user_guide/indexing.html#returning-a-view-versus-a-copy\n",
      "  ex_df.drop(ex_df['failure_cat'][filter2].index, axis = 0, inplace = True)\n"
     ]
    }
   ],
   "source": [
    "filter2 = ex_df['failure_cat'] == 8\n",
    "ex_df.drop(ex_df['failure_cat'][filter2].index, axis = 0, inplace = True)"
   ]
  },
  {
   "cell_type": "code",
   "execution_count": 27,
   "id": "8b1a5112",
   "metadata": {},
   "outputs": [
    {
     "data": {
      "text/plain": [
       "[Text(0, 0, '(64, 71)'),\n",
       " Text(1, 0, '(35, 40)'),\n",
       " Text(2, 0, '(31, 28)'),\n",
       " Text(3, 0, '(44, 44)'),\n",
       " Text(4, 0, '(51, 59)'),\n",
       " Text(5, 0, '(38, 38)'),\n",
       " Text(6, 0, '(34, 31)'),\n",
       " Text(7, 0, '(39, 37)'),\n",
       " Text(8, 0, '(56, 41)'),\n",
       " Text(9, 0, '(72, 72)')]"
      ]
     },
     "execution_count": 27,
     "metadata": {},
     "output_type": "execute_result"
    },
    {
     "data": {
      "image/png": "[encoded data removed]",
      "text/plain": [
       "<Figure size 720x720 with 2 Axes>"
      ]
     },
     "metadata": {
      "needs_background": "light"
     },
     "output_type": "display_data"
    }
   ],
   "source": [
    "fig, axes = plt.subplots(2,1, figsize=(10,10),layout = 'tight')\n",
    "sns.countplot(data = ex_df, \n",
    "              x = 'waferdims',\n",
    "              palette = 'hls', \n",
    "              saturation=0.75,\n",
    "              width=0.8, \n",
    "              hue = 'failure_type', \n",
    "              order = ex_df['waferdims'].value_counts().index[:10],\n",
    "              ax = axes[0])\n",
    "sns.countplot(data = ex_df, \n",
    "              x = 'waferdims', \n",
    "              palette = 'hls',\n",
    "              hue = 'failure_type',\n",
    "              saturation=0.75,\n",
    "              width=0.8,\n",
    "              order = ex_df['waferdims'].value_counts().index[10:20],\n",
    "              ax = axes[1])\n",
    "\n",
    "axes[0].set_title('wafer shape별 갯수 상위 1 ~ 10등의 결측 패턴')\n",
    "axes[0].set_xticklabels(ex_df['waferdims'].value_counts().index[:10], rotation = 45)\n",
    "axes[1].set_title('wafer shape별 갯수 상위 11 ~ 20등의 결측 패턴')\n",
    "axes[1].set_xticklabels(ex_df['waferdims'].value_counts().index[10:20], rotation = 45)"
   ]
  },
  {
   "cell_type": "markdown",
   "id": "60372edc",
   "metadata": {},
   "source": [
    "### <span style='background-color:#fff5b1'> (25, 27), (39,37)의 wafer들은 공정의 문제보다 wafer의 문제를 의심해 보아야한다."
   ]
  },
  {
   "cell_type": "markdown",
   "id": "4c1a8b9b",
   "metadata": {},
   "source": [
    "# <span style='background-color:#fff5b1'> 모델 설정 </span>\n",
    "1. ***CNN***\n",
    "2. ***DecisionTree***\n",
    "3. ***RandomForest***\n",
    "4. ***Flatten 후 DNN***"
   ]
  },
  {
   "cell_type": "code",
   "execution_count": 12,
   "id": "22c775ed",
   "metadata": {},
   "outputs": [
    {
     "name": "stdout",
     "output_type": "stream",
     "text": [
      "52905\n",
      "(52905, 10)\n",
      "118445\n",
      "574280\n"
     ]
    }
   ],
   "source": [
    "print(len(df_train))\n",
    "print(df_train.shape)\n",
    "print(len(df_test))\n",
    "print(len(df_real))"
   ]
  },
  {
   "cell_type": "code",
   "execution_count": 13,
   "id": "b4496cb5",
   "metadata": {},
   "outputs": [],
   "source": [
    "y_train = df_train['failure_type'].astype('category').cat.codes\n",
    "y_test = df_test['failure_type'].astype('category').cat.codes"
   ]
  },
  {
   "cell_type": "markdown",
   "id": "26022e61",
   "metadata": {},
   "source": [
    "### X_train, X_test CNN을 돌릴 수 있는 형태로 변환"
   ]
  },
  {
   "cell_type": "code",
   "execution_count": 14,
   "id": "738f1548",
   "metadata": {},
   "outputs": [
    {
     "name": "stdout",
     "output_type": "stream",
     "text": [
      "[array([[0, 0, 0, ..., 0, 0, 0],\n",
      "       [0, 0, 0, ..., 0, 0, 0],\n",
      "       [0, 0, 0, ..., 0, 0, 0],\n",
      "       ...,\n",
      "       [0, 0, 0, ..., 0, 0, 0],\n",
      "       [0, 0, 0, ..., 0, 0, 0],\n",
      "       [0, 0, 0, ..., 0, 0, 0]], dtype=uint8)]\n"
     ]
    },
    {
     "data": {
      "text/plain": [
       "(1, 80, 80)"
      ]
     },
     "execution_count": 14,
     "metadata": {},
     "output_type": "execute_result"
    }
   ],
   "source": [
    "x = df_train['wafermap_reshape'][0]\n",
    "lista = []\n",
    "lista.append(x)\n",
    "print(lista)\n",
    "np.array(lista).shape"
   ]
  },
  {
   "cell_type": "code",
   "execution_count": 15,
   "id": "60d1c129",
   "metadata": {},
   "outputs": [],
   "source": [
    "X_tr = df_train['wafermap_reshape'].apply(lambda x: np.array(x))"
   ]
  },
  {
   "cell_type": "code",
   "execution_count": 16,
   "id": "c7078437",
   "metadata": {},
   "outputs": [],
   "source": [
    "X_te = df_test['wafermap_reshape'].apply(lambda x: np.array(x))"
   ]
  },
  {
   "cell_type": "code",
   "execution_count": 17,
   "id": "7358691e",
   "metadata": {},
   "outputs": [],
   "source": [
    "X_test = np.array([x for x in X_te])"
   ]
  },
  {
   "cell_type": "code",
   "execution_count": 18,
   "id": "80836768",
   "metadata": {},
   "outputs": [],
   "source": [
    "X_train = np.array([x for x in X_tr])"
   ]
  },
  {
   "cell_type": "code",
   "execution_count": 34,
   "id": "64e1b473",
   "metadata": {},
   "outputs": [
    {
     "name": "stdout",
     "output_type": "stream",
     "text": [
      "(52905, 80, 80)\n",
      "(118445, 80, 80)\n"
     ]
    }
   ],
   "source": [
    "print(X_train.shape)\n",
    "print(X_test.shape)"
   ]
  },
  {
   "cell_type": "code",
   "execution_count": 36,
   "id": "f9d48f4a",
   "metadata": {},
   "outputs": [
    {
     "name": "stdout",
     "output_type": "stream",
     "text": [
      "Model: \"sequential_1\"\n",
      "_________________________________________________________________\n",
      " Layer (type)                Output Shape              Param #   \n",
      "=================================================================\n",
      " conv2d_2 (Conv2D)           (None, 76, 76, 32)        832       \n",
      "                                                                 \n",
      " max_pooling2d_2 (MaxPooling  (None, 38, 38, 32)       0         \n",
      " 2D)                                                             \n",
      "                                                                 \n",
      " conv2d_3 (Conv2D)           (None, 34, 34, 32)        25632     \n",
      "                                                                 \n",
      " max_pooling2d_3 (MaxPooling  (None, 17, 17, 32)       0         \n",
      " 2D)                                                             \n",
      "                                                                 \n",
      " flatten_1 (Flatten)         (None, 9248)              0         \n",
      "                                                                 \n",
      " dense_2 (Dense)             (None, 128)               1183872   \n",
      "                                                                 \n",
      " dense_3 (Dense)             (None, 9)                 1161      \n",
      "                                                                 \n",
      "=================================================================\n",
      "Total params: 1,211,497\n",
      "Trainable params: 1,211,497\n",
      "Non-trainable params: 0\n",
      "_________________________________________________________________\n"
     ]
    }
   ],
   "source": [
    "# CNN\n",
    "model = keras.Sequential([\n",
    "    keras.layers.Conv2D(32, kernel_size=(5,5), activation = 'relu', input_shape=(80, 80, 1),\n",
    "                       padding = 'valid', data_format = 'channels_last'), # 2D는 평면\n",
    "    keras.layers.MaxPooling2D(pool_size = (2,2)),\n",
    "    keras.layers.Conv2D(32, kernel_size = (5,5), activation='relu'),\n",
    "    keras.layers.MaxPooling2D(pool_size = (2,2)),\n",
    "    keras.layers.Flatten(),\n",
    "    keras.layers.Dense(128, activation='relu'),\n",
    "    #keras.layers.Dense(64, activation='relu'),\n",
    "    keras.layers.Dense(9)\n",
    "])\n",
    "\n",
    "\n",
    "model.compile(loss = keras.losses.SparseCategoricalCrossentropy(from_logits = True),\n",
    "         optimizer = keras.optimizers.Adam(learning_rate = 0.001),\n",
    "         metrics = ['accuracy'])\n",
    "\n",
    "model.summary()"
   ]
  },
  {
   "cell_type": "code",
   "execution_count": 37,
   "id": "e4903793",
   "metadata": {},
   "outputs": [
    {
     "name": "stdout",
     "output_type": "stream",
     "text": [
      "Epoch 1/10\n"
     ]
    },
    {
     "name": "stderr",
     "output_type": "stream",
     "text": [
      "2023-07-16 00:55:03.112792: I tensorflow/compiler/xla/stream_executor/cuda/cuda_dnn.cc:424] Loaded cuDNN version 8902\n",
      "2023-07-16 00:55:04.906701: I tensorflow/compiler/xla/stream_executor/cuda/cuda_blas.cc:637] TensorFloat-32 will be used for the matrix multiplication. This will only be logged once.\n",
      "2023-07-16 00:55:04.927657: I tensorflow/compiler/xla/service/service.cc:169] XLA service 0x7fef6e775ae0 initialized for platform CUDA (this does not guarantee that XLA will be used). Devices:\n",
      "2023-07-16 00:55:04.927706: I tensorflow/compiler/xla/service/service.cc:177]   StreamExecutor device (0): NVIDIA GeForce RTX 3050 Ti Laptop GPU, Compute Capability 8.6\n",
      "2023-07-16 00:55:04.965645: I tensorflow/compiler/mlir/tensorflow/utils/dump_mlir_util.cc:269] disabling MLIR crash reproducer, set env var `MLIR_CRASH_REPRODUCER_DIRECTORY` to enable.\n",
      "2023-07-16 00:55:05.333217: I ./tensorflow/compiler/jit/device_compiler.h:180] Compiled cluster using XLA!  This line is logged at most once for the lifetime of the process.\n"
     ]
    },
    {
     "name": "stdout",
     "output_type": "stream",
     "text": [
      "1654/1654 [==============================] - 22s 8ms/step - loss: 0.2901 - accuracy: 0.9222\n",
      "Epoch 2/10\n",
      "1654/1654 [==============================] - 13s 8ms/step - loss: 0.1154 - accuracy: 0.9653\n",
      "Epoch 3/10\n",
      "1654/1654 [==============================] - 13s 8ms/step - loss: 0.0740 - accuracy: 0.9764\n",
      "Epoch 4/10\n",
      "1654/1654 [==============================] - 13s 8ms/step - loss: 0.0539 - accuracy: 0.9829\n",
      "Epoch 5/10\n",
      "1654/1654 [==============================] - 13s 8ms/step - loss: 0.0408 - accuracy: 0.9869\n",
      "Epoch 6/10\n",
      "1654/1654 [==============================] - 13s 8ms/step - loss: 0.0320 - accuracy: 0.9899\n",
      "Epoch 7/10\n",
      "1654/1654 [==============================] - 13s 8ms/step - loss: 0.0256 - accuracy: 0.9914\n",
      "Epoch 8/10\n",
      "1654/1654 [==============================] - 13s 8ms/step - loss: 0.0180 - accuracy: 0.9942\n",
      "Epoch 9/10\n",
      "1654/1654 [==============================] - 13s 8ms/step - loss: 0.0167 - accuracy: 0.9943\n",
      "Epoch 10/10\n",
      "1654/1654 [==============================] - 13s 8ms/step - loss: 0.0149 - accuracy: 0.9948\n"
     ]
    },
    {
     "data": {
      "text/plain": [
       "<keras.callbacks.History at 0x7ff287368670>"
      ]
     },
     "execution_count": 37,
     "metadata": {},
     "output_type": "execute_result"
    }
   ],
   "source": [
    "model.fit(X_train, y_train, epochs = 10)"
   ]
  },
  {
   "cell_type": "code",
   "execution_count": 38,
   "id": "d1507235",
   "metadata": {},
   "outputs": [
    {
     "name": "stdout",
     "output_type": "stream",
     "text": [
      "3702/3702 [==============================] - 16s 4ms/step - loss: 1.0204 - accuracy: 0.7480\n"
     ]
    },
    {
     "data": {
      "text/plain": [
       "[1.0203837156295776, 0.7480011582374573]"
      ]
     },
     "execution_count": 38,
     "metadata": {},
     "output_type": "execute_result"
    }
   ],
   "source": [
    "model.evaluate(X_test, y_test)"
   ]
  },
  {
   "cell_type": "code",
   "execution_count": 39,
   "id": "45e2ef4b",
   "metadata": {},
   "outputs": [
    {
     "name": "stdout",
     "output_type": "stream",
     "text": [
      "3702/3702 [==============================] - 12s 3ms/step\n"
     ]
    },
    {
     "data": {
      "text/plain": [
       "array([[ -6.0863924 , -10.84822   ,   0.3346854 , ...,  -2.3037777 ,\n",
       "         -0.85622704,  10.42917   ],\n",
       "       [ -7.7697306 , -15.3616085 ,   0.799375  , ...,  -1.6361233 ,\n",
       "         -3.7624474 ,  10.928119  ],\n",
       "       [ -5.4461575 ,  -9.874843  ,   0.790912  , ...,  -2.2096438 ,\n",
       "          0.8368386 ,   9.697458  ],\n",
       "       ...,\n",
       "       [ -5.3112283 , -12.318214  ,   6.473806  , ..., -10.886299  ,\n",
       "         -6.66406   ,  -4.165399  ],\n",
       "       [ -9.600143  , -10.494322  ,  10.433382  , ...,  -9.686574  ,\n",
       "        -10.179565  ,  -9.757643  ],\n",
       "       [ -4.8217993 ,  -9.645205  ,   6.71055   , ..., -12.289094  ,\n",
       "         -5.818341  ,  -4.23416   ]], dtype=float32)"
      ]
     },
     "execution_count": 39,
     "metadata": {},
     "output_type": "execute_result"
    }
   ],
   "source": [
    "# CNN \n",
    "#kernel size 크게하면 한번 큰부분을 처리 ==> weight 갯수 많아짐\n",
    "#kernel size 가지고 놀아보기\n",
    "#weight을 저장했다가 불러와서 분석 ==> 시각화\n",
    "# Tree\n",
    "# Flatten\n",
    "\n",
    "model.predict(X_test)"
   ]
  },
  {
   "cell_type": "code",
   "execution_count": 40,
   "id": "8a8f972e",
   "metadata": {},
   "outputs": [
    {
     "data": {
      "text/plain": [
       "[<tf.Variable 'conv2d_2/kernel:0' shape=(5, 5, 1, 32) dtype=float32, numpy=\n",
       " array([[[[-9.49563459e-02, -1.69008113e-02,  1.46495789e-01,\n",
       "           -2.21365690e-01, -1.87353924e-01, -1.97510764e-01,\n",
       "           -7.80920908e-02, -1.89640939e-01, -3.75168584e-02,\n",
       "           -1.03054203e-01,  1.35152936e-01, -1.66947216e-01,\n",
       "           -6.58321679e-02, -1.05625302e-01, -3.08315977e-02,\n",
       "           -1.47104815e-01, -1.50390908e-01, -1.41897798e-01,\n",
       "            9.16904062e-02,  2.50001490e-01, -3.54140550e-02,\n",
       "            3.53964381e-02, -5.43220602e-02,  1.20575406e-01,\n",
       "            4.45745476e-02, -9.74696949e-02, -9.83806849e-02,\n",
       "           -2.01147437e-01,  2.25559384e-01,  7.77388588e-02,\n",
       "           -1.51367217e-01, -8.63823891e-02]],\n",
       " \n",
       "         [[-1.02661133e-01,  4.47887965e-02, -1.72865644e-01,\n",
       "           -1.30357504e-01, -3.62575427e-02,  1.99348759e-02,\n",
       "           -4.51792404e-02,  7.76224188e-04,  1.51553199e-01,\n",
       "           -2.97145150e-03,  2.02410612e-02,  1.03823788e-01,\n",
       "            2.98581552e-02,  8.01616069e-03, -2.05152552e-03,\n",
       "           -1.09139033e-01,  1.05807163e-01, -9.52668339e-02,\n",
       "            1.37757063e-01, -1.06387392e-01,  4.37788107e-02,\n",
       "            6.82859635e-03, -9.69730970e-03,  1.20434403e-01,\n",
       "           -6.93284571e-02, -7.57148713e-02, -7.61467889e-02,\n",
       "           -5.82949445e-02, -1.71629831e-01,  2.04702802e-02,\n",
       "           -1.99398883e-02, -1.90649219e-02]],\n",
       " \n",
       "         [[-2.37357691e-02,  1.07996352e-01,  9.89822000e-02,\n",
       "           -2.04498786e-02, -5.05190082e-02, -1.95333272e-01,\n",
       "           -1.11137256e-01,  1.75258100e-01,  4.40261066e-02,\n",
       "           -2.48472188e-02, -1.24898879e-02, -1.56363484e-03,\n",
       "            9.36248228e-02, -4.08282690e-02, -7.88870230e-02,\n",
       "            1.23848021e-02, -1.31065294e-01,  1.04296692e-01,\n",
       "            1.67662457e-01, -1.51933637e-02, -1.18678279e-01,\n",
       "            2.08094753e-02, -1.00770229e-02, -1.49624914e-01,\n",
       "            1.74800426e-01, -5.08302897e-02, -1.04265049e-01,\n",
       "            3.02095767e-02,  8.85967631e-03,  5.58404997e-02,\n",
       "            7.32283443e-02,  4.89054956e-02]],\n",
       " \n",
       "         [[-3.99511568e-02,  1.37539327e-01, -1.73844900e-02,\n",
       "           -1.38261840e-01,  2.53305346e-01, -6.11039624e-03,\n",
       "            1.02902465e-01, -5.77734597e-03, -1.65671065e-01,\n",
       "            5.12122810e-02, -1.03527993e-01, -2.39749968e-01,\n",
       "            7.37417042e-02, -1.41628131e-01,  2.54877303e-02,\n",
       "            4.27391194e-03, -8.84360075e-03,  1.43589288e-01,\n",
       "            9.69774351e-02,  4.63531725e-03,  1.31894037e-01,\n",
       "            1.87958609e-02,  2.95996182e-02, -1.06131718e-01,\n",
       "           -7.43763223e-02, -5.56517914e-02,  2.03314379e-01,\n",
       "           -9.46732238e-02, -1.18425330e-02,  1.18252881e-01,\n",
       "           -1.31037802e-01,  1.23345345e-01]],\n",
       " \n",
       "         [[-5.09433402e-03,  7.84433931e-02, -1.55545846e-01,\n",
       "           -1.02488762e-02, -2.14214459e-01, -1.28239468e-01,\n",
       "            1.08391374e-01, -1.80804789e-01, -9.63227451e-02,\n",
       "           -6.80971146e-02, -2.54990738e-02,  6.70436844e-02,\n",
       "            1.04099242e-02, -4.30581197e-02,  3.44948396e-02,\n",
       "            2.80038640e-02, -2.12700740e-01,  1.71892971e-01,\n",
       "           -1.27344811e-02,  1.11672804e-01, -8.36315602e-02,\n",
       "           -4.02837433e-03, -1.36853270e-02, -1.56609640e-02,\n",
       "           -1.18883133e-01,  3.15119699e-02,  1.23676620e-01,\n",
       "            8.15646797e-02,  2.76011787e-03, -2.33193226e-02,\n",
       "           -1.58665583e-01, -8.20271298e-02]]],\n",
       " \n",
       " \n",
       "        [[[ 2.42229804e-01, -5.41448444e-02, -7.02511072e-02,\n",
       "           -2.43031472e-01,  4.80540432e-02, -2.40215492e-02,\n",
       "            3.20156395e-01, -6.19912557e-02, -1.62716269e-01,\n",
       "           -4.00107866e-03,  2.85754949e-02,  4.04477790e-02,\n",
       "           -2.53607277e-02, -1.02521621e-01,  7.09164143e-03,\n",
       "           -1.48695856e-01, -2.47329593e-01,  2.78862123e-03,\n",
       "            5.72230108e-02, -1.09278560e-01,  1.75743714e-01,\n",
       "            1.08525388e-01, -5.39730079e-02,  3.02169938e-03,\n",
       "            4.87314090e-02,  5.06436378e-02, -5.71947135e-02,\n",
       "           -2.42052317e-01, -1.10684671e-01, -5.53631224e-02,\n",
       "            5.30564785e-03, -8.43237936e-02]],\n",
       " \n",
       "         [[ 1.55241070e-02,  2.03949381e-02, -1.47840765e-03,\n",
       "           -2.36922145e-01, -1.40331104e-01, -4.29246575e-02,\n",
       "           -2.36334294e-01, -5.63848838e-02, -1.83053151e-01,\n",
       "           -1.01943158e-01,  7.71378651e-02, -9.73299220e-02,\n",
       "            4.74770702e-02, -2.22051069e-01,  2.65330579e-02,\n",
       "            4.34756204e-02, -1.36884525e-01, -2.42688861e-02,\n",
       "            6.91670999e-02, -1.57499433e-01, -9.46781933e-02,\n",
       "           -1.28405571e-01, -4.84167319e-03, -1.03541002e-01,\n",
       "           -1.89600214e-01,  2.97333971e-02,  1.11546613e-01,\n",
       "           -2.37115055e-01, -1.32804677e-01, -4.50592898e-02,\n",
       "           -1.37428597e-01, -2.61760086e-01]],\n",
       " \n",
       "         [[ 3.62921059e-02,  9.18761641e-02, -1.12720296e-01,\n",
       "           -1.35496557e-01, -5.71267679e-02,  5.76021150e-02,\n",
       "            2.44687349e-02,  2.84570366e-01,  8.45519751e-02,\n",
       "           -3.42683750e-03, -9.36964452e-02, -2.29480520e-01,\n",
       "            1.27584741e-01,  2.01645531e-02,  1.01245428e-02,\n",
       "            4.06331681e-02, -7.50836805e-02,  8.05435479e-02,\n",
       "            1.37580931e-01, -1.19941525e-01, -1.57677963e-01,\n",
       "           -7.58664235e-02, -2.91432720e-02, -8.25093985e-02,\n",
       "           -3.95741723e-02, -1.36548892e-01, -1.41327634e-01,\n",
       "           -1.05622232e-01,  1.41155586e-01, -1.35837540e-01,\n",
       "            1.94364160e-01,  1.87176064e-01]],\n",
       " \n",
       "         [[-5.45052700e-02, -7.40204984e-03, -1.46562368e-01,\n",
       "            2.21564874e-01,  1.05759650e-01,  5.19630350e-02,\n",
       "            6.95922822e-02, -1.43101841e-01,  1.75770029e-01,\n",
       "            2.94196326e-03, -1.82100788e-01, -1.89499483e-01,\n",
       "            1.06474608e-01,  2.98080267e-04, -1.21216968e-01,\n",
       "           -2.17655096e-02, -2.80359797e-02,  1.50124043e-01,\n",
       "            6.33882657e-02, -1.22525461e-01,  7.67160058e-02,\n",
       "           -1.64642408e-01, -1.37051558e-02, -7.87373930e-02,\n",
       "           -9.54313111e-03,  3.87986340e-02,  1.29334107e-01,\n",
       "            1.55195519e-01, -1.13818035e-01, -1.51377127e-01,\n",
       "           -9.63464901e-02,  2.19054744e-01]],\n",
       " \n",
       "         [[-7.92390034e-02,  4.33262289e-02,  9.72270817e-02,\n",
       "            1.98563501e-01, -1.61288142e-01, -7.15969801e-02,\n",
       "            9.61429477e-02, -1.86697111e-01, -7.30048940e-02,\n",
       "           -3.59332040e-02,  5.93766049e-02, -1.67621300e-02,\n",
       "            3.73989157e-02, -6.13485761e-02,  3.10345460e-02,\n",
       "           -6.38136938e-02,  2.21365780e-01,  1.95760101e-01,\n",
       "            1.90885272e-02,  1.58390045e-01, -1.86452836e-01,\n",
       "            1.05010539e-01, -1.41725633e-02,  2.04818517e-01,\n",
       "           -7.34491423e-02, -1.90901593e-03, -3.26306671e-02,\n",
       "           -1.33551449e-01,  6.70153368e-03, -1.29672065e-01,\n",
       "           -2.29986906e-01, -1.73865587e-01]]],\n",
       " \n",
       " \n",
       "        [[[-1.61042690e-01,  1.57001354e-02, -4.48271781e-02,\n",
       "            8.52217339e-03, -1.09315075e-01, -4.35785465e-02,\n",
       "           -3.14172268e-01, -1.57552510e-01,  7.92439803e-02,\n",
       "            5.74130416e-02, -1.50554582e-01,  2.11748872e-02,\n",
       "           -9.84800681e-02, -9.55169555e-03, -2.11451738e-03,\n",
       "           -2.06559330e-01,  1.94322333e-01, -1.22923419e-01,\n",
       "            1.77436005e-02, -1.25780165e-01, -5.74143864e-02,\n",
       "            1.27732009e-01, -4.00244556e-02, -2.64238715e-01,\n",
       "           -1.40979826e-01,  1.77174687e-01, -4.81204182e-01,\n",
       "            9.87109356e-03, -9.29710642e-02,  1.44751891e-01,\n",
       "            1.68296099e-01, -1.40253514e-01]],\n",
       " \n",
       "         [[ 1.44935921e-01,  4.03292440e-02,  1.50615945e-01,\n",
       "            3.56639810e-02, -1.82303295e-01, -3.89016122e-02,\n",
       "            1.48570761e-01, -1.50272399e-01, -8.78136680e-02,\n",
       "           -7.18465894e-02,  1.71045437e-01, -6.61809295e-02,\n",
       "            6.20599836e-02, -1.42927364e-01,  3.85520421e-02,\n",
       "            1.69381738e-01,  2.22203746e-01, -1.19990930e-01,\n",
       "           -2.70143356e-02, -3.33206385e-01,  1.41377464e-01,\n",
       "           -2.13412642e-01,  3.33930529e-03, -1.02997780e-01,\n",
       "            7.11227506e-02,  2.89498836e-01, -4.05374348e-01,\n",
       "            5.15328627e-03,  7.51140937e-02, -2.44309738e-01,\n",
       "            7.10836574e-02, -6.08042302e-03]],\n",
       " \n",
       "         [[ 1.82956070e-01,  8.08598194e-03, -2.20853850e-01,\n",
       "            2.14056149e-01, -5.36144115e-02,  4.90308776e-02,\n",
       "           -3.09344176e-02,  2.28310265e-02, -2.24641152e-02,\n",
       "            3.05936970e-02, -3.54362093e-02, -7.34290108e-02,\n",
       "            1.12718949e-02,  3.69491242e-02,  1.14544816e-02,\n",
       "            1.59530267e-02,  1.49098590e-01,  1.58477407e-02,\n",
       "            5.21813668e-02, -1.25884622e-01, -7.66700506e-02,\n",
       "            8.66494104e-02,  1.24535663e-02,  8.25478286e-02,\n",
       "           -9.65579078e-02, -1.17390133e-01,  2.12236010e-02,\n",
       "            1.38316199e-01, -1.35661690e-02, -7.96671510e-02,\n",
       "            1.34073913e-01,  7.33979344e-02]],\n",
       " \n",
       "         [[-1.54519364e-01, -8.63514617e-02, -1.95752680e-01,\n",
       "            1.85215160e-01,  2.11109921e-01,  9.97229591e-02,\n",
       "            3.61923575e-02,  1.99927166e-02,  9.97639298e-02,\n",
       "           -1.77836102e-02, -1.49691194e-01,  5.21911494e-02,\n",
       "            6.89936057e-02, -1.49865877e-02, -4.61994074e-02,\n",
       "            4.89969440e-02,  3.56613062e-02,  1.17670074e-01,\n",
       "            5.80485426e-02,  3.59367318e-02,  3.48670065e-01,\n",
       "            5.16435765e-02, -1.83489230e-02,  5.37407137e-02,\n",
       "           -1.74193680e-01, -1.35924086e-01,  1.38614163e-01,\n",
       "            1.64589420e-01, -3.38806100e-02, -1.11776650e-01,\n",
       "            1.19386412e-01, -7.31941387e-02]],\n",
       " \n",
       "         [[-1.23411067e-01,  1.20275822e-02,  1.88970298e-01,\n",
       "           -2.21170485e-01,  1.11768499e-01,  1.28727769e-02,\n",
       "            3.90371643e-02, -9.01229084e-02, -1.67293191e-01,\n",
       "           -1.15343623e-01,  5.41208573e-02, -2.57545799e-01,\n",
       "            3.46771963e-02, -3.40670124e-02, -1.40863378e-02,\n",
       "           -1.56059235e-01, -2.27646362e-02,  1.19191244e-01,\n",
       "            2.83634383e-02, -4.85974131e-03, -1.19019777e-01,\n",
       "           -2.61732712e-02, -4.15783562e-02, -2.35521600e-01,\n",
       "            1.45587996e-01,  7.65569359e-02, -9.97595191e-02,\n",
       "           -4.18303572e-02, -1.87431291e-01,  2.56320555e-02,\n",
       "            1.72509626e-01, -1.15240619e-01]]],\n",
       " \n",
       " \n",
       "        [[[-1.25389203e-01,  1.06474109e-01, -7.02433586e-02,\n",
       "            9.27634612e-02, -1.63913533e-01, -4.62919027e-02,\n",
       "            1.84234947e-01, -1.05262222e-02,  6.88722171e-03,\n",
       "           -2.31851526e-02, -1.91823356e-02,  1.22067533e-01,\n",
       "            1.06389940e-01, -1.27652168e-01,  1.65656582e-02,\n",
       "            1.90223962e-01,  6.53235763e-02, -1.96259126e-01,\n",
       "           -8.60132128e-02,  2.60339342e-02, -2.09049508e-01,\n",
       "            2.51481265e-01, -1.25169791e-02, -1.36003986e-01,\n",
       "           -1.53459251e-01, -1.89223334e-01, -3.53660703e-01,\n",
       "            8.01444575e-02,  6.96211159e-02, -5.93870878e-02,\n",
       "           -9.13940743e-02, -1.63110167e-01]],\n",
       " \n",
       "         [[-1.43831387e-01,  1.55929685e-01,  1.20199651e-01,\n",
       "            1.35500887e-02,  5.90047240e-02,  2.28318609e-02,\n",
       "            9.07085985e-02,  8.59327707e-03,  5.30786477e-02,\n",
       "           -8.69902000e-02, -9.33987126e-02, -4.51730043e-02,\n",
       "            4.78819720e-02, -3.63721745e-04, -3.35791595e-02,\n",
       "            2.23614991e-01,  2.40121689e-02,  4.08227853e-02,\n",
       "           -6.70428947e-02,  4.70295697e-02,  2.89511178e-02,\n",
       "           -2.18359381e-01,  4.13057320e-02, -1.26996696e-01,\n",
       "            2.16046676e-01, -1.35678902e-01,  2.81993430e-02,\n",
       "            1.85935110e-01,  2.09099010e-01,  4.75357063e-02,\n",
       "           -1.68982387e-01,  1.48311421e-01]],\n",
       " \n",
       "         [[ 1.49842888e-01, -2.25898162e-01,  1.83860585e-01,\n",
       "            3.64362039e-02,  5.58857471e-02,  1.55675456e-01,\n",
       "           -5.51930256e-02,  6.67680353e-02, -1.37541920e-01,\n",
       "           -4.23507094e-02,  1.10098310e-01, -7.60361403e-02,\n",
       "            3.54013182e-02,  7.50364959e-02, -3.93570624e-02,\n",
       "           -1.16075665e-01,  6.88952133e-02,  3.71360555e-02,\n",
       "           -2.12017819e-02, -1.01193704e-01, -8.29335377e-02,\n",
       "           -4.08570692e-02,  1.47979253e-03,  6.93099871e-02,\n",
       "            1.00789160e-01,  1.35240108e-01,  9.67298746e-02,\n",
       "            1.36158749e-01, -6.67900205e-01,  2.35977918e-01,\n",
       "           -1.28452122e-01,  2.86405440e-02]],\n",
       " \n",
       "         [[ 1.20294079e-01, -3.25418380e-03,  1.19582631e-01,\n",
       "           -6.46137893e-02,  6.37777969e-02,  1.81183860e-01,\n",
       "           -1.60052981e-02,  2.87636936e-01,  1.75856844e-01,\n",
       "           -1.09962597e-01, -1.93996411e-02,  1.71729699e-01,\n",
       "            2.95676924e-02,  4.26494852e-02, -1.60495579e-01,\n",
       "            6.64619431e-02, -1.82940647e-01, -2.30992679e-02,\n",
       "            1.57205085e-03,  8.33056346e-02, -7.66650736e-02,\n",
       "           -1.36951417e-01, -1.36255519e-02,  2.18535438e-01,\n",
       "           -2.13705570e-01,  7.61726126e-02,  1.20862551e-01,\n",
       "           -9.54479203e-02, -4.27185267e-01,  3.07009012e-01,\n",
       "            4.07261066e-02,  1.42814279e-01]],\n",
       " \n",
       "         [[ 1.72738686e-01, -4.08098102e-02, -1.36689544e-02,\n",
       "           -8.51673111e-02, -2.09024906e-01,  1.17319696e-01,\n",
       "           -2.70884167e-02, -9.86047164e-02, -1.49335787e-01,\n",
       "           -1.71366744e-02,  1.11758173e-01, -5.59948348e-02,\n",
       "           -2.15596939e-03,  6.33507743e-02,  8.15591682e-03,\n",
       "           -8.33190382e-02,  2.80110221e-02,  4.80632260e-02,\n",
       "           -2.53527183e-02, -1.73406765e-01,  1.64984390e-02,\n",
       "            2.13280469e-01, -3.17038447e-02, -1.59812734e-01,\n",
       "           -5.02922498e-02,  1.18964605e-01, -1.03537530e-01,\n",
       "           -8.80923495e-02,  2.29930636e-02,  1.01887040e-01,\n",
       "            2.22565129e-01, -7.01546948e-03]]],\n",
       " \n",
       " \n",
       "        [[[ 8.92213285e-02, -2.15487897e-01, -1.00996815e-01,\n",
       "           -4.06277552e-02,  6.86311126e-02,  3.96417603e-02,\n",
       "            8.14367458e-03, -4.88186702e-02,  3.31775169e-03,\n",
       "           -6.33968115e-02,  6.72555296e-03, -7.56965354e-02,\n",
       "           -8.40261579e-02,  6.50124848e-02, -1.35061578e-04,\n",
       "           -1.11970876e-03, -8.24816748e-02, -2.34828945e-02,\n",
       "           -1.88506972e-02, -2.93945838e-02, -2.23844975e-01,\n",
       "            1.21400647e-01,  1.09617005e-03, -4.46433909e-02,\n",
       "           -1.58444479e-01, -1.03975367e-02, -1.08197376e-01,\n",
       "           -3.57507989e-02, -1.51127443e-01, -7.35651031e-02,\n",
       "           -4.40858193e-02, -8.47244933e-02]],\n",
       " \n",
       "         [[-2.54496366e-01,  8.41706339e-03, -1.13750689e-01,\n",
       "            3.22956080e-03,  1.22570850e-01,  7.52146915e-02,\n",
       "           -1.17273718e-01, -8.44275057e-02, -1.50619179e-01,\n",
       "           -8.21279138e-02, -9.11472216e-02, -1.98554307e-01,\n",
       "           -5.70024811e-02, -4.20626141e-02, -8.45431630e-03,\n",
       "           -2.17280850e-01, -1.97464824e-01, -6.79491535e-02,\n",
       "           -6.39761379e-03, -1.30997762e-01,  1.73100501e-01,\n",
       "            1.91220388e-01, -9.10837017e-03,  2.16496512e-01,\n",
       "            7.89934248e-02, -1.07923023e-01, -3.53701524e-02,\n",
       "           -1.97533801e-01,  1.32715315e-01, -7.69311264e-02,\n",
       "           -1.83191285e-01,  2.91497707e-01]],\n",
       " \n",
       "         [[-1.32487923e-01,  2.34363928e-01,  4.55095321e-02,\n",
       "           -6.96196407e-02,  3.19968574e-02,  1.62794322e-01,\n",
       "            2.42601195e-03, -1.48706168e-01,  6.98603457e-03,\n",
       "            4.79549132e-02,  7.87154511e-02,  1.63905755e-01,\n",
       "           -1.08423568e-01, -1.77702028e-02, -7.02826008e-02,\n",
       "            1.25553068e-02, -1.93226844e-01,  3.32555808e-02,\n",
       "           -2.72206441e-02, -1.51781559e-01,  1.15264142e-02,\n",
       "           -1.56232879e-01, -5.35319746e-02, -1.66037500e-01,\n",
       "            9.03220102e-02, -7.64056146e-02, -3.48284207e-02,\n",
       "            1.09869856e-02,  2.38116428e-01, -2.65572637e-01,\n",
       "           -5.73867597e-02, -9.68425348e-03]],\n",
       " \n",
       "         [[-1.38348386e-01, -1.50475144e-01, -1.47661380e-02,\n",
       "           -2.76628375e-01, -3.56748961e-02,  2.15576321e-01,\n",
       "            2.72008684e-03,  1.00807972e-01,  4.40365598e-02,\n",
       "            1.37512968e-03,  1.12693563e-01, -8.45031887e-02,\n",
       "           -5.86097464e-02, -7.07840845e-02, -7.12145492e-02,\n",
       "           -2.24938840e-01,  4.63726418e-03, -2.11023316e-02,\n",
       "            5.42208832e-03,  2.96803296e-01,  1.46348983e-01,\n",
       "           -1.84099730e-02, -5.55185154e-02, -9.22589004e-02,\n",
       "           -1.68942198e-01,  7.94432163e-02,  2.52229720e-02,\n",
       "           -1.47808015e-01, -3.38163450e-02, -1.00394510e-01,\n",
       "           -1.63749874e-01, -1.76720649e-01]],\n",
       " \n",
       "         [[-1.64791476e-02, -1.30150780e-01, -1.63262442e-01,\n",
       "           -4.51759323e-02, -1.80371985e-01,  1.22625604e-01,\n",
       "           -3.03435680e-02, -1.07410148e-01,  4.57517132e-02,\n",
       "           -6.74481690e-02,  1.20192006e-01,  4.35609818e-02,\n",
       "            4.83670793e-02, -1.59289360e-01,  1.71196368e-02,\n",
       "            1.91978455e-01, -3.93002704e-02,  2.33671367e-02,\n",
       "           -6.84289932e-02, -1.55959547e-01, -1.58108756e-01,\n",
       "           -1.44266218e-01, -6.08049668e-02, -4.25025029e-03,\n",
       "            6.85038716e-02,  1.17225192e-01, -5.33885732e-02,\n",
       "           -1.18342087e-01, -2.05954704e-02, -8.51667523e-02,\n",
       "           -1.11383326e-01, -7.72170052e-02]]]], dtype=float32)>,\n",
       " <tf.Variable 'conv2d_2/bias:0' shape=(32,) dtype=float32, numpy=\n",
       " array([-0.01554684, -0.47952038, -0.15095234, -0.02127478, -0.01595009,\n",
       "        -0.77266395, -0.25235426, -0.00956764, -0.12242325, -0.05568714,\n",
       "        -0.36858228, -0.02537656, -0.5887808 , -0.20352988, -0.23608688,\n",
       "        -0.03916787, -0.00568428, -0.6106789 , -0.71624696, -0.01247868,\n",
       "        -0.00593896, -0.09848593, -0.04659898, -0.01714066, -0.03436452,\n",
       "        -0.39028874, -0.01787382, -0.00611771, -0.05909852, -0.00618698,\n",
       "        -0.00986259,  0.00183042], dtype=float32)>,\n",
       " <tf.Variable 'conv2d_3/kernel:0' shape=(5, 5, 32, 32) dtype=float32, numpy=\n",
       " array([[[[-3.69048901e-02,  7.61920959e-02,  1.67031549e-02, ...,\n",
       "           -1.15841292e-01,  3.62881124e-01, -2.63171315e-01],\n",
       "          [-2.15640277e-01,  2.90468652e-02, -1.27424523e-01, ...,\n",
       "           -3.41877807e-03, -1.26796767e-01,  2.38000490e-02],\n",
       "          [ 1.29146874e-01, -1.25171259e-01, -6.49022833e-02, ...,\n",
       "           -2.70975381e-03,  5.70731349e-02,  3.83821651e-02],\n",
       "          ...,\n",
       "          [ 1.65451840e-01, -2.40200624e-01,  8.69691670e-02, ...,\n",
       "            9.71062481e-03,  2.41756276e-03,  5.76003455e-02],\n",
       "          [ 9.17001292e-02,  8.52488726e-02, -1.22557014e-01, ...,\n",
       "           -2.61637598e-01, -2.93797612e-01, -9.53098312e-02],\n",
       "          [-3.42594162e-02,  7.81733319e-02,  1.54810324e-01, ...,\n",
       "            1.21295208e-03,  3.93519513e-02,  1.27219036e-01]],\n",
       " \n",
       "         [[-6.11097440e-02, -5.89196868e-02, -2.25590140e-01, ...,\n",
       "           -1.26082376e-01,  1.82481706e-02,  2.04397798e-01],\n",
       "          [-2.69110650e-01,  2.35002842e-02,  2.28421595e-02, ...,\n",
       "           -1.85459927e-01, -9.20386910e-02,  1.64486170e-01],\n",
       "          [ 1.39879495e-01, -6.52908534e-02,  2.24350452e-01, ...,\n",
       "           -5.14438227e-02, -1.29092366e-01, -5.90930730e-02],\n",
       "          ...,\n",
       "          [ 1.62272602e-01, -4.15858597e-01, -1.29814297e-01, ...,\n",
       "            2.69670747e-02, -3.88142526e-01,  8.64395276e-02],\n",
       "          [ 2.69639194e-01, -8.04548785e-02,  1.27820164e-01, ...,\n",
       "           -1.73826918e-01,  2.83171665e-02, -1.36902466e-01],\n",
       "          [ 3.84702384e-02,  1.19748123e-01,  8.42146650e-02, ...,\n",
       "           -8.80850181e-02, -1.29131421e-01, -1.03559405e-01]],\n",
       " \n",
       "         [[ 1.08680740e-01,  1.17184132e-01,  2.36885339e-01, ...,\n",
       "            2.03937992e-01, -1.41455993e-01, -9.72116739e-03],\n",
       "          [-1.15781479e-01, -2.55549252e-02,  9.11480337e-02, ...,\n",
       "           -1.85456082e-01, -2.62690425e-01, -2.14208141e-01],\n",
       "          [ 5.76171428e-02,  5.10090701e-02,  4.07295704e-01, ...,\n",
       "           -3.02268356e-01, -3.00526500e-01,  4.15201159e-03],\n",
       "          ...,\n",
       "          [-2.18467340e-01,  1.00949764e-01,  5.01202047e-02, ...,\n",
       "            5.14592901e-02, -1.06389686e-01, -4.38066944e-02],\n",
       "          [-2.07894266e-01,  1.28594637e-01, -4.15696315e-02, ...,\n",
       "            7.58159384e-02, -1.16270287e-02, -1.00057974e-01],\n",
       "          [ 2.36114860e-01, -3.59401256e-02,  1.77851677e-01, ...,\n",
       "           -2.53033876e-01,  7.04001728e-03, -1.39456438e-02]],\n",
       " \n",
       "         [[-7.95496851e-02,  1.69275641e-01,  5.16316518e-02, ...,\n",
       "           -4.38852012e-02,  5.47163598e-02, -1.18066333e-01],\n",
       "          [-8.72036442e-03,  7.20477328e-02, -1.10511631e-01, ...,\n",
       "           -4.11221236e-02, -2.20151559e-01, -1.72247011e-02],\n",
       "          [ 2.12110043e-01,  3.25628929e-02, -1.10991113e-01, ...,\n",
       "           -1.02896079e-01,  7.23137781e-02, -3.41269046e-01],\n",
       "          ...,\n",
       "          [-1.00925742e-02, -7.44423568e-02, -1.89827636e-01, ...,\n",
       "            1.65973350e-01, -1.32383063e-01, -1.21578753e-01],\n",
       "          [-9.38705280e-02, -1.75849646e-02,  1.95011459e-02, ...,\n",
       "            1.86230894e-02,  6.55124262e-02, -1.96252033e-01],\n",
       "          [ 1.91380024e-01, -3.38311106e-01,  7.93486536e-02, ...,\n",
       "           -1.91820547e-01, -1.30613777e-03,  1.98992784e-03]],\n",
       " \n",
       "         [[-1.03160076e-01, -3.20368141e-01,  1.61952570e-01, ...,\n",
       "           -2.44890913e-01,  1.48424894e-01, -1.64704770e-01],\n",
       "          [ 1.44474000e-01, -2.44191855e-01, -2.77908057e-01, ...,\n",
       "           -4.54982705e-02,  2.57040262e-01, -4.20063436e-02],\n",
       "          [ 1.36195108e-01, -3.19187939e-01,  1.49189001e-02, ...,\n",
       "           -3.31529193e-02,  9.77550750e-04,  8.79014879e-02],\n",
       "          ...,\n",
       "          [-5.26766293e-02, -5.03123142e-02, -1.62378773e-01, ...,\n",
       "            8.86614025e-02,  1.01248443e-01,  1.67635739e-01],\n",
       "          [-3.80785823e-01,  2.86632497e-03, -5.68649024e-02, ...,\n",
       "           -1.71081424e-01, -2.61840999e-01, -1.05109580e-01],\n",
       "          [ 1.01786025e-01, -1.19040936e-01,  8.64877179e-02, ...,\n",
       "            2.65425056e-01, -2.57845253e-01, -5.55844046e-02]]],\n",
       " \n",
       " \n",
       "        [[[-1.09907262e-01,  2.58618053e-02, -1.11902997e-01, ...,\n",
       "            7.82845467e-02, -1.31537160e-02, -1.56962186e-01],\n",
       "          [-2.12523602e-02,  1.74174801e-01, -1.39255270e-01, ...,\n",
       "           -2.91735649e-01, -5.31574823e-02, -2.31394693e-01],\n",
       "          [-1.07783400e-01,  7.25237653e-03, -6.52793329e-03, ...,\n",
       "           -2.55249411e-01,  1.12858102e-01, -2.76105180e-02],\n",
       "          ...,\n",
       "          [ 9.85334739e-02, -6.74558058e-02, -1.30402207e-01, ...,\n",
       "           -1.12044670e-01, -2.32249528e-01,  2.05668248e-02],\n",
       "          [ 1.56295627e-01, -1.01602904e-01,  4.12839204e-02, ...,\n",
       "            7.15142861e-02, -1.08301885e-01, -3.04946244e-01],\n",
       "          [-4.13449198e-01, -1.29416153e-01, -1.63860753e-01, ...,\n",
       "            9.77775082e-02, -2.56103963e-01,  6.60188198e-02]],\n",
       " \n",
       "         [[-2.32402980e-01,  3.25559676e-02,  1.66845292e-01, ...,\n",
       "           -2.55360872e-01, -2.74658173e-01,  1.32490382e-01],\n",
       "          [-3.41018289e-02,  1.08578475e-02, -9.09702182e-02, ...,\n",
       "           -1.56950429e-01,  4.03757393e-01, -1.49027929e-01],\n",
       "          [ 5.58106788e-02, -1.20167702e-01, -3.17370266e-01, ...,\n",
       "           -1.19012423e-01,  1.45014182e-01, -2.49371395e-01],\n",
       "          ...,\n",
       "          [-3.66264954e-02,  1.03682354e-01,  6.63181022e-02, ...,\n",
       "           -1.11579038e-01,  7.01558143e-02, -1.45543054e-01],\n",
       "          [-4.91186939e-02,  1.26362085e-01,  1.28305733e-01, ...,\n",
       "           -6.52176812e-02, -1.76361576e-02,  6.77632764e-02],\n",
       "          [-5.71682584e-03,  1.04555719e-01, -2.96855181e-01, ...,\n",
       "            1.34016007e-01,  6.49196729e-02,  1.72843367e-01]],\n",
       " \n",
       "         [[ 1.41883623e-02,  7.28559271e-02, -1.45882532e-01, ...,\n",
       "           -3.50888729e-01, -7.03974068e-02, -7.35996589e-02],\n",
       "          [ 7.64670298e-02, -1.60057172e-01,  9.62771922e-02, ...,\n",
       "           -6.17613159e-02, -2.50288934e-01, -1.74453437e-01],\n",
       "          [ 1.02957577e-01,  1.94268495e-01, -1.76070258e-01, ...,\n",
       "            1.36555448e-01, -2.22277075e-01, -4.78390418e-02],\n",
       "          ...,\n",
       "          [ 6.07654713e-02,  1.17711566e-01, -1.78134516e-01, ...,\n",
       "           -2.36381516e-01,  1.69226062e-02, -1.23261012e-01],\n",
       "          [ 6.58174306e-02,  7.69045502e-02, -1.76804274e-01, ...,\n",
       "           -3.27770501e-01, -1.89694420e-01, -2.23426651e-02],\n",
       "          [ 5.06254961e-04, -6.73669279e-02,  1.22908555e-01, ...,\n",
       "            6.38282970e-02, -1.34241521e-01, -5.77977598e-02]],\n",
       " \n",
       "         [[-3.28446954e-01,  1.06352933e-01,  3.03799435e-02, ...,\n",
       "           -1.05574839e-01, -2.45994210e-01, -1.33287042e-01],\n",
       "          [-5.71105182e-02,  2.99711049e-01,  6.01917738e-03, ...,\n",
       "            4.17781770e-02, -4.45208419e-03, -2.77691513e-01],\n",
       "          [-5.87958172e-02,  1.09063916e-01, -4.56234701e-02, ...,\n",
       "            1.16935857e-01, -9.84300748e-02, -2.44682252e-01],\n",
       "          ...,\n",
       "          [ 7.39950687e-02, -8.03211182e-02, -4.14237976e-02, ...,\n",
       "           -2.59008199e-01, -3.79959017e-01, -8.48476216e-02],\n",
       "          [-1.86793506e-01, -1.83610499e-01,  1.82167172e-01, ...,\n",
       "           -1.86467022e-01, -1.72949612e-01, -2.83137619e-01],\n",
       "          [ 1.42380729e-01, -1.75504923e-01,  8.35631117e-02, ...,\n",
       "           -3.03036153e-01, -3.91802341e-01, -2.56262481e-01]],\n",
       " \n",
       "         [[-2.15422243e-01, -2.33572960e-01,  1.77618470e-02, ...,\n",
       "            1.14732608e-01,  1.50654137e-01, -1.26605988e-01],\n",
       "          [-3.37861967e-03, -4.20603976e-02, -1.60292655e-01, ...,\n",
       "           -1.53419077e-02, -7.41328895e-02, -3.90404761e-02],\n",
       "          [-2.21795306e-01, -3.28161448e-01,  9.80757028e-02, ...,\n",
       "           -8.08397532e-02,  1.89464167e-01, -1.27310276e-01],\n",
       "          ...,\n",
       "          [ 2.03969702e-02,  3.06240823e-02, -7.96419010e-03, ...,\n",
       "           -9.31945369e-02,  4.17074189e-02, -4.42700207e-01],\n",
       "          [-1.44568786e-01, -4.24111821e-02, -6.93191811e-02, ...,\n",
       "           -5.96510656e-02,  2.54529595e-01, -4.26879078e-02],\n",
       "          [ 8.74683857e-02, -4.06060159e-01,  1.63191406e-03, ...,\n",
       "           -7.57000223e-02,  1.05707623e-01, -2.04398960e-01]]],\n",
       " \n",
       " \n",
       "        [[[ 3.31234895e-02,  8.87854099e-02, -7.33503848e-02, ...,\n",
       "           -5.52303270e-02,  1.22808181e-02, -1.05938748e-01],\n",
       "          [-8.90029073e-02,  5.42953163e-02, -9.30858105e-02, ...,\n",
       "           -1.61101401e-01,  3.84302773e-02, -4.30028886e-01],\n",
       "          [ 4.57514785e-02,  2.50014313e-03, -5.42235970e-02, ...,\n",
       "           -1.72348380e-01, -2.24720210e-01, -1.09734535e-01],\n",
       "          ...,\n",
       "          [ 1.79756641e-01, -9.39641031e-04, -6.72624409e-02, ...,\n",
       "            1.99914649e-01, -7.96806589e-02,  1.50649458e-01],\n",
       "          [-3.73797268e-02, -8.01434070e-02,  1.78111464e-01, ...,\n",
       "            1.52833849e-01,  1.32562548e-01,  5.09394333e-03],\n",
       "          [-4.67763953e-02, -5.16339168e-02, -3.04790348e-01, ...,\n",
       "           -1.09213583e-01, -1.25203595e-01,  4.15061986e-05]],\n",
       " \n",
       "         [[-1.66898578e-01, -2.58538604e-01,  1.12648502e-01, ...,\n",
       "           -1.23521410e-01,  1.63295358e-01, -9.01426822e-02],\n",
       "          [-1.20589308e-01,  1.92592070e-01,  5.67156933e-02, ...,\n",
       "           -1.65659860e-01, -1.58397436e-01, -2.80299842e-01],\n",
       "          [ 8.95017385e-02, -1.05804252e-02,  7.62159703e-03, ...,\n",
       "           -3.98328334e-01, -4.16955166e-02,  1.09560251e-01],\n",
       "          ...,\n",
       "          [ 2.01354444e-01, -7.30307475e-02,  2.03283250e-01, ...,\n",
       "            4.92788740e-02,  8.95568877e-02,  8.82201716e-02],\n",
       "          [-2.07293138e-01, -4.57724445e-02,  2.50794739e-01, ...,\n",
       "            1.59101356e-02,  1.73294619e-01,  1.56322956e-01],\n",
       "          [-3.02998215e-01,  1.16337955e-01, -1.29371643e-01, ...,\n",
       "           -1.01614796e-01, -7.50817880e-02, -4.90302257e-02]],\n",
       " \n",
       "         [[-2.40991324e-01,  1.05556592e-01,  1.23777315e-02, ...,\n",
       "           -2.32385755e-01, -2.91983753e-01, -2.09253639e-01],\n",
       "          [ 7.43424287e-03,  1.48786426e-01, -7.20507205e-02, ...,\n",
       "           -2.58644998e-01,  1.59138024e-01, -3.24153125e-01],\n",
       "          [-6.13774173e-02, -2.52894193e-01, -1.67345509e-01, ...,\n",
       "           -1.84849557e-02, -8.48990306e-03, -2.65806794e-01],\n",
       "          ...,\n",
       "          [-8.98826960e-03, -1.73778504e-01, -8.62707570e-03, ...,\n",
       "           -2.65102178e-01,  2.58531332e-01, -2.05326825e-01],\n",
       "          [-6.04856163e-02, -4.34205532e-02, -2.39719763e-01, ...,\n",
       "           -3.00040931e-01, -1.10949680e-01, -3.69870782e-01],\n",
       "          [ 6.48653284e-02,  1.11161090e-01,  1.03603918e-02, ...,\n",
       "            1.11294650e-01, -1.07185334e-01, -1.17088966e-01]],\n",
       " \n",
       "         [[-3.70601475e-01,  4.05358486e-02, -2.26737589e-01, ...,\n",
       "            1.45857841e-01,  8.22528750e-02,  8.44527036e-02],\n",
       "          [ 3.91839668e-02,  1.43415228e-01, -8.12907591e-02, ...,\n",
       "           -5.12146987e-02,  4.65968587e-02, -2.76526123e-01],\n",
       "          [-3.65208417e-01,  1.57389045e-01,  2.69965325e-02, ...,\n",
       "           -1.93838090e-01, -2.38726407e-01, -7.62188286e-02],\n",
       "          ...,\n",
       "          [ 1.37835935e-01, -1.49034085e-02,  1.09888837e-01, ...,\n",
       "            1.16870239e-01,  4.24969941e-01, -6.70822039e-02],\n",
       "          [-3.07049155e-01,  3.25367935e-02, -4.28287238e-02, ...,\n",
       "           -2.08433285e-01,  1.02621242e-01,  1.90586209e-01],\n",
       "          [ 7.07500651e-02,  6.35554045e-02,  9.07206312e-02, ...,\n",
       "            2.24188328e-01,  1.73491016e-02,  1.53564274e-01]],\n",
       " \n",
       "         [[-3.04512113e-01,  8.47193748e-02, -1.47798672e-01, ...,\n",
       "           -2.20932752e-01, -2.49023452e-01,  1.45095959e-01],\n",
       "          [ 7.96085447e-02,  9.92113724e-02, -1.01843797e-01, ...,\n",
       "            1.74531061e-02,  1.05284654e-01,  1.27623472e-02],\n",
       "          [-3.45659330e-02,  6.28808560e-03, -6.98676556e-02, ...,\n",
       "            7.41346702e-02,  1.69678494e-01,  1.12314582e-01],\n",
       "          ...,\n",
       "          [ 6.67362884e-02, -4.29644249e-02, -4.23576385e-02, ...,\n",
       "            1.43012768e-02, -1.71635017e-01,  2.99378693e-01],\n",
       "          [-5.13967611e-02, -2.52645850e-01, -1.12382315e-01, ...,\n",
       "           -7.74146169e-02,  3.11831329e-02, -9.62117221e-03],\n",
       "          [ 1.71246499e-01, -1.80367947e-01, -1.48865223e-01, ...,\n",
       "           -3.00552547e-01, -8.89824703e-02,  7.01028109e-02]]],\n",
       " \n",
       " \n",
       "        [[[-1.31527081e-01,  6.92308918e-02,  1.79673880e-02, ...,\n",
       "           -1.63733028e-02, -4.17032927e-01, -1.93679586e-01],\n",
       "          [-1.88978150e-01,  1.07647307e-01, -5.78547418e-02, ...,\n",
       "           -7.27775320e-02,  1.92139685e-01, -2.93725431e-02],\n",
       "          [ 1.25957713e-01, -2.16456559e-02, -1.89549252e-02, ...,\n",
       "           -1.14418708e-01, -1.62445664e-01, -7.43239075e-02],\n",
       "          ...,\n",
       "          [-1.03286117e-01,  6.44990057e-02,  1.74284741e-01, ...,\n",
       "            1.89690571e-02, -1.07967488e-01,  1.71071008e-01],\n",
       "          [-4.17167470e-02, -6.61811139e-03, -1.39241442e-01, ...,\n",
       "           -3.96550775e-01, -2.82875359e-01, -6.54781386e-02],\n",
       "          [-2.28026107e-01, -6.35935441e-02, -1.65205687e-01, ...,\n",
       "           -2.03290924e-01, -1.84059411e-01, -7.45976195e-02]],\n",
       " \n",
       "         [[-1.69143215e-01,  1.19132936e-01, -1.29184440e-01, ...,\n",
       "           -1.63770062e-04, -1.16648965e-01, -4.75514121e-02],\n",
       "          [ 1.12254530e-01,  1.77411661e-02, -1.87012464e-01, ...,\n",
       "            2.49172039e-02,  2.00898331e-02,  7.42824599e-02],\n",
       "          [ 1.31851241e-01,  1.90655347e-02, -8.83998051e-02, ...,\n",
       "           -1.60791099e-01, -3.08034301e-01,  6.08359165e-02],\n",
       "          ...,\n",
       "          [-1.66020021e-02, -4.55716951e-03,  1.22820571e-01, ...,\n",
       "           -1.17803104e-01,  2.76883822e-02, -8.62599760e-02],\n",
       "          [-8.30898732e-02, -1.20663248e-01, -1.33481354e-01, ...,\n",
       "           -1.49093285e-01,  1.01722926e-02,  1.27394378e-01],\n",
       "          [-2.20212936e-01, -2.02856567e-02, -7.75161609e-02, ...,\n",
       "            1.02697864e-01,  1.54928103e-01,  2.45743841e-02]],\n",
       " \n",
       "         [[-1.31928816e-01, -3.68350931e-02, -1.10583352e-02, ...,\n",
       "           -1.57339629e-02,  1.10064298e-01,  5.25554232e-02],\n",
       "          [ 4.51921076e-02,  1.45203948e-01, -7.77700022e-02, ...,\n",
       "           -5.69592509e-03, -7.13122711e-02, -5.71759902e-02],\n",
       "          [-1.53690919e-01, -3.63267846e-02, -2.63249487e-01, ...,\n",
       "           -7.17246607e-02,  1.01979636e-02,  1.16037042e-03],\n",
       "          ...,\n",
       "          [-1.31502599e-01,  7.56282657e-02, -1.58473924e-01, ...,\n",
       "           -1.80473048e-02, -1.66014880e-01,  2.52268374e-01],\n",
       "          [-6.26187474e-02, -2.23953113e-01, -1.22648515e-01, ...,\n",
       "           -1.81834579e-01, -1.16183363e-01,  8.89230669e-02],\n",
       "          [-4.46849614e-02,  1.83831796e-01, -2.32867494e-01, ...,\n",
       "            1.40659705e-01,  2.00617146e-02, -8.99451971e-02]],\n",
       " \n",
       "         [[-1.95588276e-01, -7.45916516e-02,  2.14331686e-01, ...,\n",
       "           -1.21579111e-01, -8.89179111e-02, -1.57756224e-01],\n",
       "          [ 1.83658808e-01, -8.93093869e-02, -2.05058783e-01, ...,\n",
       "            4.12934609e-02,  1.60656393e-01,  1.10318556e-01],\n",
       "          [-1.22914374e-01, -2.08345443e-01, -1.24081060e-01, ...,\n",
       "            3.60850096e-01, -5.03921881e-02,  2.33366355e-01],\n",
       "          ...,\n",
       "          [-3.54346335e-02,  5.18221706e-02,  9.74777807e-03, ...,\n",
       "           -2.47332260e-01, -7.74129927e-02,  3.84503566e-02],\n",
       "          [-1.30459830e-01, -1.46341905e-01, -1.16950810e-01, ...,\n",
       "           -3.10493005e-03, -1.54177949e-01, -7.99990539e-03],\n",
       "          [-9.55324844e-02, -1.59839820e-02,  1.49736002e-01, ...,\n",
       "           -6.98904842e-02, -8.81518889e-03, -3.24460059e-01]],\n",
       " \n",
       "         [[-3.09645265e-01,  9.26415026e-02,  6.09122738e-02, ...,\n",
       "            2.31985040e-02, -3.25550372e-03, -2.63346970e-01],\n",
       "          [-2.05854803e-01, -3.62545699e-02, -9.27504674e-02, ...,\n",
       "            1.04045197e-01,  1.34074599e-01,  1.45709082e-01],\n",
       "          [ 8.81772712e-02,  2.65139818e-01,  1.08656157e-02, ...,\n",
       "           -8.40832219e-02, -2.33568609e-01, -2.01624021e-01],\n",
       "          ...,\n",
       "          [-2.03395143e-01, -1.91630468e-01, -1.44526362e-02, ...,\n",
       "           -1.96769550e-01, -1.87843010e-01,  1.29613608e-01],\n",
       "          [-1.46346435e-01, -1.90173239e-01,  1.58949912e-01, ...,\n",
       "            1.49108082e-01, -2.30888918e-01, -4.31132801e-02],\n",
       "          [-1.82729959e-02,  5.83460256e-02,  2.24339887e-01, ...,\n",
       "           -7.36480905e-03,  2.69331634e-01, -2.82454193e-01]]],\n",
       " \n",
       " \n",
       "        [[[-1.04360275e-01,  2.75593638e-01,  9.67922434e-02, ...,\n",
       "            4.46627624e-02, -1.81338593e-01,  7.14468881e-02],\n",
       "          [-2.52381247e-02, -8.49296451e-02, -9.10245553e-02, ...,\n",
       "           -1.14459712e-02, -1.18805757e-02, -9.24779028e-02],\n",
       "          [-2.61601489e-02,  6.83725327e-02,  8.15571100e-02, ...,\n",
       "           -1.23028651e-01, -1.62794620e-01, -7.29390308e-02],\n",
       "          ...,\n",
       "          [ 1.99254025e-02,  6.56387880e-02,  5.89399040e-03, ...,\n",
       "           -8.80474970e-02, -2.54934102e-01,  5.75821325e-02],\n",
       "          [-1.51280900e-02, -5.60263954e-02,  1.20358635e-02, ...,\n",
       "            8.97492915e-02,  1.46611379e-02,  6.61257133e-02],\n",
       "          [ 1.97456247e-05, -5.01193106e-02,  1.71997901e-02, ...,\n",
       "           -9.66638029e-02, -1.59701794e-01, -3.71162896e-03]],\n",
       " \n",
       "         [[-2.92973250e-01,  1.22233085e-01,  8.06196406e-03, ...,\n",
       "            2.34186109e-02, -2.16638371e-01, -1.93493977e-01],\n",
       "          [ 7.82369152e-02, -1.97587237e-01, -1.27751172e-01, ...,\n",
       "           -1.12454981e-01, -1.35655934e-02,  9.97153372e-02],\n",
       "          [ 1.72773451e-02, -1.56940863e-01,  2.48965800e-01, ...,\n",
       "            1.38685122e-01, -9.21727810e-03, -5.50679080e-02],\n",
       "          ...,\n",
       "          [ 9.41999629e-03, -3.90455429e-03,  5.84831461e-02, ...,\n",
       "            3.46843004e-02, -1.52199447e-01, -1.80424422e-01],\n",
       "          [-3.60609926e-02, -2.04526171e-01,  1.24993734e-01, ...,\n",
       "           -4.10413882e-03, -1.26984298e-01,  5.05017564e-02],\n",
       "          [ 1.10039152e-01,  4.64663468e-02, -2.19982371e-01, ...,\n",
       "            1.36113921e-02,  5.79525083e-02,  6.69438094e-02]],\n",
       " \n",
       "         [[-1.55652314e-01, -7.36339539e-02, -1.02985717e-01, ...,\n",
       "           -1.60311013e-01, -9.12899598e-02, -2.51498789e-01],\n",
       "          [ 5.91870993e-02, -1.97723657e-01, -1.89382970e-01, ...,\n",
       "           -2.70238165e-02,  6.62348941e-02,  3.65736783e-02],\n",
       "          [-1.05408914e-01, -8.34938586e-02, -1.34152159e-01, ...,\n",
       "           -1.33188128e-01,  2.81559974e-02, -1.57667220e-01],\n",
       "          ...,\n",
       "          [ 1.26532027e-02, -2.84614623e-01,  2.17827931e-02, ...,\n",
       "           -9.31910127e-02,  2.04729252e-02,  8.11183918e-03],\n",
       "          [-2.01858744e-01, -3.26184422e-01, -3.18096131e-01, ...,\n",
       "           -8.36684257e-02,  1.42178386e-01, -4.05043632e-01],\n",
       "          [ 1.77124321e-01, -7.59564042e-02,  1.20221421e-01, ...,\n",
       "            4.54220138e-02,  1.43656239e-01, -8.74993503e-02]],\n",
       " \n",
       "         [[-5.03761284e-02, -1.61219865e-01, -1.48810923e-01, ...,\n",
       "           -1.86226130e-01,  6.11758195e-02,  2.55476683e-01],\n",
       "          [-5.79918548e-02, -9.08232015e-03, -1.27669021e-01, ...,\n",
       "            9.76250097e-02, -8.15730449e-03, -1.53972030e-01],\n",
       "          [ 1.07861623e-01, -2.43237317e-01,  6.38970686e-03, ...,\n",
       "           -3.44451666e-01,  8.04789141e-02, -9.94754508e-02],\n",
       "          ...,\n",
       "          [-9.42930020e-03, -3.56891081e-02, -1.59249350e-01, ...,\n",
       "           -6.98109269e-02,  4.20087427e-02,  6.51407391e-02],\n",
       "          [ 1.83290422e-01,  2.01093182e-01, -1.30062401e-01, ...,\n",
       "           -6.38953894e-02,  2.02496260e-01, -2.43363939e-02],\n",
       "          [ 2.78409600e-01, -1.03273161e-01, -1.58890739e-01, ...,\n",
       "           -7.82861412e-02,  2.03954652e-01,  3.01120579e-02]],\n",
       " \n",
       "         [[ 3.56265567e-02,  9.52658355e-02,  6.90687895e-02, ...,\n",
       "            6.41622320e-02,  1.26156315e-01, -7.41571188e-02],\n",
       "          [-2.84429282e-01, -9.70792025e-02, -2.10748404e-01, ...,\n",
       "            1.00942753e-01, -2.04986066e-01, -2.91387796e-01],\n",
       "          [ 1.21656306e-01, -3.82129252e-02, -3.96540388e-02, ...,\n",
       "           -1.11167692e-02,  6.93616718e-02, -6.58609420e-02],\n",
       "          ...,\n",
       "          [-1.20228074e-01, -2.20864732e-03, -1.40066864e-02, ...,\n",
       "            1.49056777e-01,  9.29225236e-03, -5.88466004e-02],\n",
       "          [ 2.85541657e-02,  2.60173351e-01,  6.94771623e-03, ...,\n",
       "           -2.26164952e-01, -7.96058327e-02, -1.25561193e-01],\n",
       "          [-4.28998806e-02, -2.05220561e-02, -1.27906486e-01, ...,\n",
       "            1.33285686e-01,  2.54498541e-01,  1.69007272e-01]]]],\n",
       "       dtype=float32)>,\n",
       " <tf.Variable 'conv2d_3/bias:0' shape=(32,) dtype=float32, numpy=\n",
       " array([-0.33673   , -0.2519861 , -0.12395445, -0.20620956, -0.22835413,\n",
       "        -0.10126442, -0.4654533 , -0.07359172, -0.30850488, -0.00402748,\n",
       "        -0.45885906, -0.15537275, -0.126024  , -0.10605329, -0.15132171,\n",
       "        -0.10903022, -0.04667179, -0.53635705, -0.10606667, -0.3001291 ,\n",
       "        -0.17374466, -0.36642817, -0.16431352, -0.5169851 , -0.24901277,\n",
       "        -0.29096195, -0.03397739, -0.32099837,  0.06271677, -0.05023008,\n",
       "        -0.10354064, -0.13436817], dtype=float32)>,\n",
       " <tf.Variable 'dense_2/kernel:0' shape=(9248, 128) dtype=float32, numpy=\n",
       " array([[-0.0102442 ,  0.01615652, -0.0224517 , ...,  0.03046182,\n",
       "          0.00265007, -0.02019812],\n",
       "        [-0.14162357,  0.16583566, -0.07197655, ...,  0.05173501,\n",
       "         -0.09026912, -0.02570695],\n",
       "        [-0.1372372 ,  0.2471827 , -0.10712462, ...,  0.0557151 ,\n",
       "         -0.07074361, -0.07045373],\n",
       "        ...,\n",
       "        [ 0.09781995,  0.01935827,  0.03589372, ..., -0.06780503,\n",
       "         -0.03258971, -0.02655198],\n",
       "        [ 0.37739804,  0.01216384,  0.00464602, ...,  0.06841981,\n",
       "         -0.12685284,  0.09434038],\n",
       "        [ 0.0472174 ,  0.0158378 , -0.09529091, ...,  0.00136483,\n",
       "         -0.04182541, -0.00665038]], dtype=float32)>,\n",
       " <tf.Variable 'dense_2/bias:0' shape=(128,) dtype=float32, numpy=\n",
       " array([-0.09813108,  0.12158382, -0.05825394,  0.11192413, -0.07736766,\n",
       "        -0.00795077, -0.09620599, -0.05275839, -0.04208602, -0.14360335,\n",
       "         0.10384707, -0.18193701, -0.02033943, -0.1984181 , -0.0474815 ,\n",
       "         0.36119732,  0.01969514,  0.13865589, -0.2661463 ,  0.16884774,\n",
       "        -0.01217029, -0.06405444, -0.151282  , -0.0060047 , -0.07465453,\n",
       "        -0.15168571, -0.08726641,  0.17554112, -0.00600484,  0.17050627,\n",
       "        -0.08671048, -0.10845578, -0.0059587 , -0.03476189, -0.00600514,\n",
       "        -0.11233007, -0.06441009, -0.07902095, -0.03078147, -0.00600534,\n",
       "        -0.13474265, -0.03019842,  0.08938962,  0.09942163, -0.15409963,\n",
       "        -0.01013739, -0.01327419,  0.1005858 , -0.00600395, -0.07303508,\n",
       "        -0.00600525, -0.01071997,  0.2390284 ,  0.27743775,  0.23315117,\n",
       "         0.0147877 , -0.0141481 , -0.06913451,  0.1985767 , -0.00600507,\n",
       "        -0.13652499,  0.1412104 , -0.19552997,  0.10715561, -0.02825738,\n",
       "        -0.00758243, -0.09000746, -0.08999155,  0.22304532, -0.03539108,\n",
       "        -0.18497945, -0.17395207,  0.15936491, -0.0060031 , -0.08236266,\n",
       "        -0.01578872, -0.00664491,  0.07681476,  0.267097  ,  0.090374  ,\n",
       "        -0.01885875, -0.10179463, -0.11372829,  0.21882309, -0.04665496,\n",
       "         0.19663562, -0.19454592, -0.00600511,  0.10222384, -0.1030558 ,\n",
       "         0.10800974, -0.00600489,  0.24951027,  0.01499312,  0.19678053,\n",
       "         0.00583406, -0.10667309,  0.16824394,  0.14109686,  0.02221127,\n",
       "         0.34012076, -0.03540901, -0.00804424, -0.06783164, -0.01291717,\n",
       "        -0.222436  , -0.12085938, -0.06935026, -0.02138884, -0.03390478,\n",
       "        -0.05641149,  0.04417627,  0.01537827,  0.2608646 ,  0.18642992,\n",
       "         0.01676166,  0.24620742, -0.08293731, -0.00592724,  0.13678834,\n",
       "        -0.01353602,  0.15187974, -0.17300792, -0.13086706, -0.21817744,\n",
       "        -0.02006242,  0.08191506, -0.2760316 ], dtype=float32)>,\n",
       " <tf.Variable 'dense_3/kernel:0' shape=(128, 9) dtype=float32, numpy=\n",
       " array([[-0.52845764, -0.0615917 ,  0.3229027 , ..., -0.23178658,\n",
       "          0.03070641, -0.84993947],\n",
       "        [ 0.32134673, -0.11418594,  0.05343056, ..., -0.24423301,\n",
       "         -0.02667768,  0.15647405],\n",
       "        [-0.37605053, -0.0356409 ,  0.32115027, ..., -0.19041248,\n",
       "          0.03843596, -0.46743706],\n",
       "        ...,\n",
       "        [-0.26521003, -0.35147664, -0.09234632, ...,  0.13390575,\n",
       "         -0.11665095,  0.03132112],\n",
       "        [ 0.06131249, -0.2604568 ,  0.10926502, ..., -0.13793176,\n",
       "          0.11413857,  0.12026355],\n",
       "        [-0.26000577,  0.33515266,  0.14793004, ...,  0.03521523,\n",
       "         -0.10201658, -0.45521602]], dtype=float32)>,\n",
       " <tf.Variable 'dense_3/bias:0' shape=(9,) dtype=float32, numpy=\n",
       " array([-0.12360761, -0.01171832, -0.1490081 , -0.31493613,  0.13561487,\n",
       "        -0.23081563, -0.05921875,  0.16218415,  0.21938662], dtype=float32)>]"
      ]
     },
     "execution_count": 40,
     "metadata": {},
     "output_type": "execute_result"
    }
   ],
   "source": [
    "model.weights"
   ]
  },
  {
   "cell_type": "code",
   "execution_count": 41,
   "id": "09483138",
   "metadata": {},
   "outputs": [],
   "source": [
    "model.save('model_CNN.h5')"
   ]
  },
  {
   "cell_type": "code",
   "execution_count": 20,
   "id": "14f9225e",
   "metadata": {},
   "outputs": [],
   "source": [
    "m_cnn = tf.keras.models.load_model('model_CNN.h5')"
   ]
  },
  {
   "cell_type": "code",
   "execution_count": 21,
   "id": "2ba445ea",
   "metadata": {},
   "outputs": [
    {
     "name": "stderr",
     "output_type": "stream",
     "text": [
      "2023-07-16 02:20:02.420098: I tensorflow/compiler/xla/stream_executor/cuda/cuda_dnn.cc:424] Loaded cuDNN version 8902\n"
     ]
    },
    {
     "name": "stdout",
     "output_type": "stream",
     "text": [
      "  34/3702 [..............................] - ETA: 17s - loss: 0.3065 - accuracy: 0.9540  "
     ]
    },
    {
     "name": "stderr",
     "output_type": "stream",
     "text": [
      "2023-07-16 02:20:04.171005: I tensorflow/compiler/xla/stream_executor/cuda/cuda_blas.cc:637] TensorFloat-32 will be used for the matrix multiplication. This will only be logged once.\n"
     ]
    },
    {
     "name": "stdout",
     "output_type": "stream",
     "text": [
      "3702/3702 [==============================] - 22s 5ms/step - loss: 1.0204 - accuracy: 0.7480\n"
     ]
    }
   ],
   "source": [
    "test_loss, test_acc = m_cnn.evaluate(X_test, y_test)"
   ]
  },
  {
   "cell_type": "code",
   "execution_count": null,
   "id": "57cdfcc6",
   "metadata": {},
   "outputs": [],
   "source": []
  }
 ],
 "metadata": {
  "kernelspec": {
   "display_name": "Python 3 (ipykernel)",
   "language": "python",
   "name": "python3"
  },
  "language_info": {
   "codemirror_mode": {
    "name": "ipython",
    "version": 3
   },
   "file_extension": ".py",
   "mimetype": "text/x-python",
   "name": "python",
   "nbconvert_exporter": "python",
   "pygments_lexer": "ipython3",
   "version": "3.10.6"
  }
 },
 "nbformat": 4,
 "nbformat_minor": 5
}
