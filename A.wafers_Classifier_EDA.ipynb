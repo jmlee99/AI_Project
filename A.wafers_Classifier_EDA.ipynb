{
 "cells": [
  {
   "cell_type": "code",
   "execution_count": 1,
   "id": "afecefdf",
   "metadata": {},
   "outputs": [],
   "source": [
    "import numpy as np\n",
    "import pandas as pd\n",
    "import matplotlib.pyplot as plt\n",
    "import seaborn as sns\n",
    "import os\n",
    "import pickle\n",
    "import time\n",
    "os.environ[\"CUDA_VISIBLE_DEVICES\"] = \"0\""
   ]
  },
  {
   "cell_type": "code",
   "execution_count": 2,
   "id": "2cd37128",
   "metadata": {},
   "outputs": [],
   "source": [
    "# 리눅스 한글 설정\n",
    "plt.rc('font', family = 'NanumGothic')"
   ]
  },
  {
   "cell_type": "code",
   "execution_count": 3,
   "id": "36f57d41",
   "metadata": {},
   "outputs": [],
   "source": [
    "df = pd.read_pickle('mywafer.pkl')"
   ]
  },
  {
   "cell_type": "code",
   "execution_count": 4,
   "id": "44548417",
   "metadata": {},
   "outputs": [
    {
     "data": {
      "text/html": [
       "<div>\n",
       "<style scoped>\n",
       "    .dataframe tbody tr th:only-of-type {\n",
       "        vertical-align: middle;\n",
       "    }\n",
       "\n",
       "    .dataframe tbody tr th {\n",
       "        vertical-align: top;\n",
       "    }\n",
       "\n",
       "    .dataframe thead th {\n",
       "        text-align: right;\n",
       "    }\n",
       "</style>\n",
       "<table border=\"1\" class=\"dataframe\">\n",
       "  <thead>\n",
       "    <tr style=\"text-align: right;\">\n",
       "      <th></th>\n",
       "      <th>index</th>\n",
       "      <th>diesize</th>\n",
       "      <th>lotname</th>\n",
       "      <th>waferindex</th>\n",
       "      <th>waferdims</th>\n",
       "      <th>train_test_label</th>\n",
       "      <th>failure_type</th>\n",
       "      <th>check_tuple</th>\n",
       "      <th>wafermap_reshape</th>\n",
       "    </tr>\n",
       "  </thead>\n",
       "  <tbody>\n",
       "    <tr>\n",
       "      <th>0</th>\n",
       "      <td>0</td>\n",
       "      <td>1683.0</td>\n",
       "      <td>lot1</td>\n",
       "      <td>1.0</td>\n",
       "      <td>(45, 48)</td>\n",
       "      <td>Training</td>\n",
       "      <td>none</td>\n",
       "      <td>True</td>\n",
       "      <td>[[0, 0, 0, 0, 0, 0, 0, 0, 0, 0, 0, 0, 0, 0, 0,...</td>\n",
       "    </tr>\n",
       "    <tr>\n",
       "      <th>1</th>\n",
       "      <td>1</td>\n",
       "      <td>1683.0</td>\n",
       "      <td>lot1</td>\n",
       "      <td>2.0</td>\n",
       "      <td>(45, 48)</td>\n",
       "      <td>Training</td>\n",
       "      <td>none</td>\n",
       "      <td>True</td>\n",
       "      <td>[[0, 0, 0, 0, 0, 0, 0, 0, 0, 0, 0, 0, 0, 0, 0,...</td>\n",
       "    </tr>\n",
       "    <tr>\n",
       "      <th>2</th>\n",
       "      <td>2</td>\n",
       "      <td>1683.0</td>\n",
       "      <td>lot1</td>\n",
       "      <td>3.0</td>\n",
       "      <td>(45, 48)</td>\n",
       "      <td>Training</td>\n",
       "      <td>none</td>\n",
       "      <td>True</td>\n",
       "      <td>[[0, 0, 0, 0, 0, 0, 0, 0, 0, 0, 0, 0, 0, 0, 0,...</td>\n",
       "    </tr>\n",
       "    <tr>\n",
       "      <th>3</th>\n",
       "      <td>3</td>\n",
       "      <td>1683.0</td>\n",
       "      <td>lot1</td>\n",
       "      <td>4.0</td>\n",
       "      <td>(45, 48)</td>\n",
       "      <td>Training</td>\n",
       "      <td>none</td>\n",
       "      <td>True</td>\n",
       "      <td>[[0, 0, 0, 0, 0, 0, 0, 0, 0, 0, 0, 0, 0, 0, 0,...</td>\n",
       "    </tr>\n",
       "    <tr>\n",
       "      <th>4</th>\n",
       "      <td>4</td>\n",
       "      <td>1683.0</td>\n",
       "      <td>lot1</td>\n",
       "      <td>5.0</td>\n",
       "      <td>(45, 48)</td>\n",
       "      <td>Training</td>\n",
       "      <td>none</td>\n",
       "      <td>True</td>\n",
       "      <td>[[0, 0, 0, 0, 0, 0, 0, 0, 0, 0, 0, 0, 0, 0, 0,...</td>\n",
       "    </tr>\n",
       "  </tbody>\n",
       "</table>\n",
       "</div>"
      ],
      "text/plain": [
       "   index  diesize lotname  waferindex waferdims train_test_label failure_type  \\\n",
       "0      0   1683.0    lot1         1.0  (45, 48)         Training         none   \n",
       "1      1   1683.0    lot1         2.0  (45, 48)         Training         none   \n",
       "2      2   1683.0    lot1         3.0  (45, 48)         Training         none   \n",
       "3      3   1683.0    lot1         4.0  (45, 48)         Training         none   \n",
       "4      4   1683.0    lot1         5.0  (45, 48)         Training         none   \n",
       "\n",
       "   check_tuple                                   wafermap_reshape  \n",
       "0         True  [[0, 0, 0, 0, 0, 0, 0, 0, 0, 0, 0, 0, 0, 0, 0,...  \n",
       "1         True  [[0, 0, 0, 0, 0, 0, 0, 0, 0, 0, 0, 0, 0, 0, 0,...  \n",
       "2         True  [[0, 0, 0, 0, 0, 0, 0, 0, 0, 0, 0, 0, 0, 0, 0,...  \n",
       "3         True  [[0, 0, 0, 0, 0, 0, 0, 0, 0, 0, 0, 0, 0, 0, 0,...  \n",
       "4         True  [[0, 0, 0, 0, 0, 0, 0, 0, 0, 0, 0, 0, 0, 0, 0,...  "
      ]
     },
     "execution_count": 4,
     "metadata": {},
     "output_type": "execute_result"
    }
   ],
   "source": [
    "df.head()"
   ]
  },
  {
   "cell_type": "code",
   "execution_count": 5,
   "id": "118f1b5a",
   "metadata": {},
   "outputs": [
    {
     "name": "stdout",
     "output_type": "stream",
     "text": [
      "<class 'pandas.core.frame.DataFrame'>\n",
      "RangeIndex: 745630 entries, 0 to 745629\n",
      "Data columns (total 9 columns):\n",
      " #   Column            Non-Null Count   Dtype  \n",
      "---  ------            --------------   -----  \n",
      " 0   index             745630 non-null  int64  \n",
      " 1   diesize           745630 non-null  float64\n",
      " 2   lotname           745630 non-null  object \n",
      " 3   waferindex        745630 non-null  float64\n",
      " 4   waferdims         745630 non-null  object \n",
      " 5   train_test_label  171350 non-null  object \n",
      " 6   failure_type      171350 non-null  object \n",
      " 7   check_tuple       745630 non-null  bool   \n",
      " 8   wafermap_reshape  745630 non-null  object \n",
      "dtypes: bool(1), float64(2), int64(1), object(5)\n",
      "memory usage: 46.2+ MB\n"
     ]
    }
   ],
   "source": [
    "df.info()"
   ]
  },
  {
   "cell_type": "code",
   "execution_count": 6,
   "id": "c428fb74",
   "metadata": {},
   "outputs": [],
   "source": [
    "df_train = df[df['train_test_label']=='Training']\n",
    "df_test = df[df['train_test_label']=='Test']\n",
    "df_real = df[df['train_test_label'].isna()]"
   ]
  },
  {
   "cell_type": "code",
   "execution_count": 7,
   "id": "97c9fdad",
   "metadata": {},
   "outputs": [
    {
     "name": "stdout",
     "output_type": "stream",
     "text": [
      "   level_0  index  diesize lotname  waferindex waferdims train_test_label  \\\n",
      "0        0      0   1683.0    lot1         1.0  (45, 48)         Training   \n",
      "1        1      1   1683.0    lot1         2.0  (45, 48)         Training   \n",
      "2        2      2   1683.0    lot1         3.0  (45, 48)         Training   \n",
      "3        3      3   1683.0    lot1         4.0  (45, 48)         Training   \n",
      "4        4      4   1683.0    lot1         5.0  (45, 48)         Training   \n",
      "\n",
      "  failure_type  check_tuple                                   wafermap_reshape  \n",
      "0         none         True  [[0, 0, 0, 0, 0, 0, 0, 0, 0, 0, 0, 0, 0, 0, 0,...  \n",
      "1         none         True  [[0, 0, 0, 0, 0, 0, 0, 0, 0, 0, 0, 0, 0, 0, 0,...  \n",
      "2         none         True  [[0, 0, 0, 0, 0, 0, 0, 0, 0, 0, 0, 0, 0, 0, 0,...  \n",
      "3         none         True  [[0, 0, 0, 0, 0, 0, 0, 0, 0, 0, 0, 0, 0, 0, 0,...  \n",
      "4         none         True  [[0, 0, 0, 0, 0, 0, 0, 0, 0, 0, 0, 0, 0, 0, 0,...      level_0   index  diesize   lotname  waferindex waferdims train_test_label  \\\n",
      "0   573986  639663    533.0  lot40328         1.0  (26, 26)             Test   \n",
      "1   573987  639664    533.0  lot40328         2.0  (26, 26)             Test   \n",
      "2   573988  639665    533.0  lot40328         3.0  (26, 26)             Test   \n",
      "3   573989  639666    533.0  lot40328         4.0  (26, 26)             Test   \n",
      "4   573990  639667    533.0  lot40328         5.0  (26, 26)             Test   \n",
      "\n",
      "  failure_type  check_tuple                                   wafermap_reshape  \n",
      "0         none         True  [[0, 0, 0, 0, 0, 0, 0, 0, 0, 0, 0, 0, 0, 0, 0,...  \n",
      "1         none         True  [[0, 0, 0, 0, 0, 0, 0, 0, 0, 0, 0, 0, 0, 0, 0,...  \n",
      "2         none         True  [[0, 0, 0, 0, 0, 0, 0, 0, 0, 0, 0, 0, 0, 0, 0,...  \n",
      "3         none         True  [[0, 0, 0, 0, 0, 0, 0, 0, 0, 0, 0, 0, 0, 0, 0,...  \n",
      "4         none         True  [[0, 0, 0, 0, 0, 0, 0, 0, 0, 0, 0, 0, 0, 0, 0,...      level_0  index  diesize lotname  waferindex waferdims train_test_label  \\\n",
      "0       35     35   2460.0    lot2        11.0  (53, 58)              NaN   \n",
      "1       45     45   2460.0    lot2        21.0  (53, 58)              NaN   \n",
      "2       69     69   2460.0    lot3        20.0  (53, 58)              NaN   \n",
      "3      120    120   2460.0    lot5        21.0  (53, 58)              NaN   \n",
      "4      158    158    533.0    lot7         9.0  (26, 26)              NaN   \n",
      "\n",
      "  failure_type  check_tuple                                   wafermap_reshape  \n",
      "0          NaN         True  [[0, 0, 0, 0, 0, 0, 0, 0, 0, 0, 0, 0, 0, 0, 0,...  \n",
      "1          NaN         True  [[0, 0, 0, 0, 0, 0, 0, 0, 0, 0, 0, 0, 0, 0, 0,...  \n",
      "2          NaN         True  [[0, 0, 0, 0, 0, 0, 0, 0, 0, 0, 0, 0, 0, 0, 0,...  \n",
      "3          NaN         True  [[0, 0, 0, 0, 0, 0, 0, 0, 0, 0, 0, 0, 0, 0, 0,...  \n",
      "4          NaN         True  [[0, 0, 0, 0, 0, 0, 0, 0, 0, 0, 0, 0, 0, 0, 0,...  \n"
     ]
    }
   ],
   "source": [
    "df_train.reset_index(inplace = True)\n",
    "df_test.reset_index(inplace = True)\n",
    "df_real.reset_index(inplace = True)\n",
    "print(df_train.head(), df_test.head(), df_real.head())"
   ]
  },
  {
   "cell_type": "code",
   "execution_count": 8,
   "id": "da3bb275",
   "metadata": {},
   "outputs": [
    {
     "name": "stderr",
     "output_type": "stream",
     "text": [
      "/tmp/ipykernel_3388/2479246445.py:1: SettingWithCopyWarning: \n",
      "A value is trying to be set on a copy of a slice from a DataFrame\n",
      "\n",
      "See the caveats in the documentation: https://pandas.pydata.org/pandas-docs/stable/user_guide/indexing.html#returning-a-view-versus-a-copy\n",
      "  df_train.drop(['level_0', 'index'], axis = 1, inplace = True)\n",
      "/tmp/ipykernel_3388/2479246445.py:2: SettingWithCopyWarning: \n",
      "A value is trying to be set on a copy of a slice from a DataFrame\n",
      "\n",
      "See the caveats in the documentation: https://pandas.pydata.org/pandas-docs/stable/user_guide/indexing.html#returning-a-view-versus-a-copy\n",
      "  df_test.drop(['level_0', 'index'], axis = 1, inplace = True)\n",
      "/tmp/ipykernel_3388/2479246445.py:3: SettingWithCopyWarning: \n",
      "A value is trying to be set on a copy of a slice from a DataFrame\n",
      "\n",
      "See the caveats in the documentation: https://pandas.pydata.org/pandas-docs/stable/user_guide/indexing.html#returning-a-view-versus-a-copy\n",
      "  df_real.drop(['level_0', 'index'], axis = 1, inplace = True)\n"
     ]
    }
   ],
   "source": [
    "df_train.drop(['level_0', 'index'], axis = 1, inplace = True)\n",
    "df_test.drop(['level_0', 'index'], axis = 1, inplace = True)\n",
    "df_real.drop(['level_0', 'index'], axis = 1, inplace = True)"
   ]
  },
  {
   "cell_type": "code",
   "execution_count": 9,
   "id": "bedd284f",
   "metadata": {},
   "outputs": [
    {
     "data": {
      "text/plain": [
       "(array(['Center', 'Donut', 'Edge-Loc', 'Edge-Ring', 'Loc', 'Near-full',\n",
       "        'Random', 'Scratch', 'none'], dtype=object),\n",
       " array([ 3415,   408,  2355,  7856,  1487,    54,   595,   394, 36341]))"
      ]
     },
     "execution_count": 9,
     "metadata": {},
     "output_type": "execute_result"
    }
   ],
   "source": [
    "np.unique(df_train['failure_type'], return_counts = True)"
   ]
  },
  {
   "cell_type": "code",
   "execution_count": 10,
   "id": "06e5d50e",
   "metadata": {},
   "outputs": [
    {
     "data": {
      "text/plain": [
       "(array(['Center', 'Donut', 'Edge-Loc', 'Edge-Ring', 'Loc', 'Near-full',\n",
       "        'Random', 'Scratch', 'none'], dtype=object),\n",
       " array([   832,    146,   2772,   1126,   1971,     95,    257,    686,\n",
       "        110560]))"
      ]
     },
     "execution_count": 10,
     "metadata": {},
     "output_type": "execute_result"
    }
   ],
   "source": [
    "np.unique(df_test['failure_type'], return_counts = True)"
   ]
  },
  {
   "cell_type": "code",
   "execution_count": 11,
   "id": "86cc5bd9",
   "metadata": {},
   "outputs": [
    {
     "data": {
      "text/plain": [
       "(array([nan, nan, nan, ..., nan, nan, nan], dtype=object),\n",
       " array([1, 1, 1, ..., 1, 1, 1]))"
      ]
     },
     "execution_count": 11,
     "metadata": {},
     "output_type": "execute_result"
    }
   ],
   "source": [
    "np.unique(df_real['failure_type'], return_counts = True)"
   ]
  },
  {
   "cell_type": "markdown",
   "id": "814b0fb2",
   "metadata": {},
   "source": [
    "## 1. 결측 패턴 확인"
   ]
  },
  {
   "cell_type": "code",
   "execution_count": 12,
   "id": "1b84ac28",
   "metadata": {},
   "outputs": [],
   "source": [
    "img, count = np.unique(df_train['failure_type'], return_counts = True)\n",
    "\n",
    "def check_failure(df, img_list):\n",
    "    ct, e = 0, 0\n",
    "    fig, axes = plt.subplots(3,3, figsize = (15,15))\n",
    "    for i in range(len(img_list)):\n",
    "        filter1 = img_list[i]\n",
    "        data = df[df['failure_type'] == filter1]\n",
    "        index = data.index[12]\n",
    "        axes[e][ct].imshow(data['wafermap_reshape'][index], cmap = 'gray')\n",
    "        title_font = {'fontsize': 16, 'fontweight': 'bold'}\n",
    "        axes[e][ct].set_title(img_list[i], fontdict = title_font)\n",
    "        ct += 1\n",
    "        if (i == 2) | (i == 5):\n",
    "            e += 1\n",
    "            ct = 0\n",
    "            \n",
    "def check_failuretype(df, img_list):\n",
    "    ct, e = 0, 0\n",
    "    fig, axes = plt.subplots(3,3, figsize = (15,15))\n",
    "    for i in range(len(img_list)):\n",
    "        filter1 = img_list[i]\n",
    "        data = df[df['failure_type'] == filter1]\n",
    "        index = data.index[0]\n",
    "        axes[e][ct].imshow(data['wafermap_reshape'][index], cmap = 'RdPu')\n",
    "        title_font = {'fontsize': 20, 'fontweight': 'bold'}\n",
    "        axes[e][ct].set_title(img_list[i], fontdict = title_font)\n",
    "        ct += 1\n",
    "        if (i == 2) | (i == 5):\n",
    "            e += 1\n",
    "            ct = 0"
   ]
  },
  {
   "cell_type": "code",
   "execution_count": 13,
   "id": "3b0d7476",
   "metadata": {},
   "outputs": [
    {
     "data": {
      "image/png": "[encoded data removed]",
      "text/plain": [
       "<Figure size 1080x1080 with 9 Axes>"
      ]
     },
     "metadata": {
      "needs_background": "light"
     },
     "output_type": "display_data"
    }
   ],
   "source": [
    "check_failure(df_train, img) # Donut, Edge-Ring "
   ]
  },
  {
   "cell_type": "code",
   "execution_count": 14,
   "id": "92b37af2",
   "metadata": {},
   "outputs": [
    {
     "data": {
      "image/png": "[encoded data removed]",
      "text/plain": [
       "<Figure size 1080x1080 with 9 Axes>"
      ]
     },
     "metadata": {
      "needs_background": "light"
     },
     "output_type": "display_data"
    }
   ],
   "source": [
    "check_failuretype(df_train, img) # Center, Edge-Loc, Near-full"
   ]
  },
  {
   "cell_type": "markdown",
   "id": "78ba2a51",
   "metadata": {},
   "source": [
    "## 2. lot num별로 통계치 분석 "
   ]
  },
  {
   "cell_type": "code",
   "execution_count": 15,
   "id": "9b14a42a",
   "metadata": {
    "scrolled": true
   },
   "outputs": [
    {
     "data": {
      "text/html": [
       "<div>\n",
       "<style scoped>\n",
       "    .dataframe tbody tr th:only-of-type {\n",
       "        vertical-align: middle;\n",
       "    }\n",
       "\n",
       "    .dataframe tbody tr th {\n",
       "        vertical-align: top;\n",
       "    }\n",
       "\n",
       "    .dataframe thead th {\n",
       "        text-align: right;\n",
       "    }\n",
       "</style>\n",
       "<table border=\"1\" class=\"dataframe\">\n",
       "  <thead>\n",
       "    <tr style=\"text-align: right;\">\n",
       "      <th></th>\n",
       "      <th>lotname</th>\n",
       "      <th>diesize</th>\n",
       "    </tr>\n",
       "  </thead>\n",
       "  <tbody>\n",
       "    <tr>\n",
       "      <th>0</th>\n",
       "      <td>lot1</td>\n",
       "      <td>1683.0</td>\n",
       "    </tr>\n",
       "    <tr>\n",
       "      <th>1</th>\n",
       "      <td>lot1</td>\n",
       "      <td>1683.0</td>\n",
       "    </tr>\n",
       "    <tr>\n",
       "      <th>2</th>\n",
       "      <td>lot1</td>\n",
       "      <td>1683.0</td>\n",
       "    </tr>\n",
       "    <tr>\n",
       "      <th>3</th>\n",
       "      <td>lot1</td>\n",
       "      <td>1683.0</td>\n",
       "    </tr>\n",
       "    <tr>\n",
       "      <th>4</th>\n",
       "      <td>lot1</td>\n",
       "      <td>1683.0</td>\n",
       "    </tr>\n",
       "  </tbody>\n",
       "</table>\n",
       "</div>"
      ],
      "text/plain": [
       "  lotname  diesize\n",
       "0    lot1   1683.0\n",
       "1    lot1   1683.0\n",
       "2    lot1   1683.0\n",
       "3    lot1   1683.0\n",
       "4    lot1   1683.0"
      ]
     },
     "execution_count": 15,
     "metadata": {},
     "output_type": "execute_result"
    }
   ],
   "source": [
    "df11 = df[['lotname', 'diesize']]\n",
    "df11.head()"
   ]
  },
  {
   "cell_type": "code",
   "execution_count": 16,
   "id": "1e9a8bdc",
   "metadata": {},
   "outputs": [
    {
     "data": {
      "text/html": [
       "<div>\n",
       "<style scoped>\n",
       "    .dataframe tbody tr th:only-of-type {\n",
       "        vertical-align: middle;\n",
       "    }\n",
       "\n",
       "    .dataframe tbody tr th {\n",
       "        vertical-align: top;\n",
       "    }\n",
       "\n",
       "    .dataframe thead tr th {\n",
       "        text-align: left;\n",
       "    }\n",
       "\n",
       "    .dataframe thead tr:last-of-type th {\n",
       "        text-align: right;\n",
       "    }\n",
       "</style>\n",
       "<table border=\"1\" class=\"dataframe\">\n",
       "  <thead>\n",
       "    <tr>\n",
       "      <th></th>\n",
       "      <th colspan=\"4\" halign=\"left\">diesize</th>\n",
       "    </tr>\n",
       "    <tr>\n",
       "      <th></th>\n",
       "      <th>min</th>\n",
       "      <th>max</th>\n",
       "      <th>mean</th>\n",
       "      <th>median</th>\n",
       "    </tr>\n",
       "    <tr>\n",
       "      <th>lotname</th>\n",
       "      <th></th>\n",
       "      <th></th>\n",
       "      <th></th>\n",
       "      <th></th>\n",
       "    </tr>\n",
       "  </thead>\n",
       "  <tbody>\n",
       "    <tr>\n",
       "      <th>lot1</th>\n",
       "      <td>1683.0</td>\n",
       "      <td>1683.0</td>\n",
       "      <td>1683.00</td>\n",
       "      <td>1683.0</td>\n",
       "    </tr>\n",
       "    <tr>\n",
       "      <th>lot10</th>\n",
       "      <td>533.0</td>\n",
       "      <td>533.0</td>\n",
       "      <td>533.00</td>\n",
       "      <td>533.0</td>\n",
       "    </tr>\n",
       "    <tr>\n",
       "      <th>lot100</th>\n",
       "      <td>533.0</td>\n",
       "      <td>533.0</td>\n",
       "      <td>533.00</td>\n",
       "      <td>533.0</td>\n",
       "    </tr>\n",
       "    <tr>\n",
       "      <th>lot10000</th>\n",
       "      <td>904.0</td>\n",
       "      <td>904.0</td>\n",
       "      <td>904.00</td>\n",
       "      <td>904.0</td>\n",
       "    </tr>\n",
       "    <tr>\n",
       "      <th>lot10001</th>\n",
       "      <td>904.0</td>\n",
       "      <td>904.0</td>\n",
       "      <td>904.00</td>\n",
       "      <td>904.0</td>\n",
       "    </tr>\n",
       "    <tr>\n",
       "      <th>...</th>\n",
       "      <td>...</td>\n",
       "      <td>...</td>\n",
       "      <td>...</td>\n",
       "      <td>...</td>\n",
       "    </tr>\n",
       "    <tr>\n",
       "      <th>lot9995</th>\n",
       "      <td>2005.0</td>\n",
       "      <td>2007.0</td>\n",
       "      <td>2006.88</td>\n",
       "      <td>2007.0</td>\n",
       "    </tr>\n",
       "    <tr>\n",
       "      <th>lot9996</th>\n",
       "      <td>2002.0</td>\n",
       "      <td>2007.0</td>\n",
       "      <td>2006.36</td>\n",
       "      <td>2007.0</td>\n",
       "    </tr>\n",
       "    <tr>\n",
       "      <th>lot9997</th>\n",
       "      <td>904.0</td>\n",
       "      <td>904.0</td>\n",
       "      <td>904.00</td>\n",
       "      <td>904.0</td>\n",
       "    </tr>\n",
       "    <tr>\n",
       "      <th>lot9998</th>\n",
       "      <td>904.0</td>\n",
       "      <td>904.0</td>\n",
       "      <td>904.00</td>\n",
       "      <td>904.0</td>\n",
       "    </tr>\n",
       "    <tr>\n",
       "      <th>lot9999</th>\n",
       "      <td>904.0</td>\n",
       "      <td>904.0</td>\n",
       "      <td>904.00</td>\n",
       "      <td>904.0</td>\n",
       "    </tr>\n",
       "  </tbody>\n",
       "</table>\n",
       "<p>42548 rows × 4 columns</p>\n",
       "</div>"
      ],
      "text/plain": [
       "         diesize                         \n",
       "             min     max     mean  median\n",
       "lotname                                  \n",
       "lot1      1683.0  1683.0  1683.00  1683.0\n",
       "lot10      533.0   533.0   533.00   533.0\n",
       "lot100     533.0   533.0   533.00   533.0\n",
       "lot10000   904.0   904.0   904.00   904.0\n",
       "lot10001   904.0   904.0   904.00   904.0\n",
       "...          ...     ...      ...     ...\n",
       "lot9995   2005.0  2007.0  2006.88  2007.0\n",
       "lot9996   2002.0  2007.0  2006.36  2007.0\n",
       "lot9997    904.0   904.0   904.00   904.0\n",
       "lot9998    904.0   904.0   904.00   904.0\n",
       "lot9999    904.0   904.0   904.00   904.0\n",
       "\n",
       "[42548 rows x 4 columns]"
      ]
     },
     "execution_count": 16,
     "metadata": {},
     "output_type": "execute_result"
    }
   ],
   "source": [
    "g1 = df11.groupby('lotname').aggregate([min, max, np.mean, np.median])\n",
    "g1"
   ]
  },
  {
   "cell_type": "code",
   "execution_count": 17,
   "id": "bf43707d",
   "metadata": {},
   "outputs": [
    {
     "data": {
      "text/plain": [
       "<seaborn.axisgrid.FacetGrid at 0x7fdb9100a590>"
      ]
     },
     "execution_count": 17,
     "metadata": {},
     "output_type": "execute_result"
    },
    {
     "data": {
      "image/png": "[encoded data removed]",
      "text/plain": [
       "<Figure size 426.875x360 with 1 Axes>"
      ]
     },
     "metadata": {
      "needs_background": "light"
     },
     "output_type": "display_data"
    }
   ],
   "source": [
    "sns.displot(data = g1, kde = True)"
   ]
  },
  {
   "cell_type": "markdown",
   "id": "4729d94d",
   "metadata": {},
   "source": [
    "## lot number 별 waferdims and waferdims별 failure_type 확인"
   ]
  },
  {
   "cell_type": "code",
   "execution_count": 20,
   "id": "0ee9e213",
   "metadata": {},
   "outputs": [
    {
     "data": {
      "text/html": [
       "<div>\n",
       "<style scoped>\n",
       "    .dataframe tbody tr th:only-of-type {\n",
       "        vertical-align: middle;\n",
       "    }\n",
       "\n",
       "    .dataframe tbody tr th {\n",
       "        vertical-align: top;\n",
       "    }\n",
       "\n",
       "    .dataframe thead th {\n",
       "        text-align: right;\n",
       "    }\n",
       "</style>\n",
       "<table border=\"1\" class=\"dataframe\">\n",
       "  <thead>\n",
       "    <tr style=\"text-align: right;\">\n",
       "      <th></th>\n",
       "      <th>lotname</th>\n",
       "      <th>diesize</th>\n",
       "      <th>waferdims</th>\n",
       "      <th>failure_type</th>\n",
       "    </tr>\n",
       "  </thead>\n",
       "  <tbody>\n",
       "    <tr>\n",
       "      <th>0</th>\n",
       "      <td>lot1</td>\n",
       "      <td>1683.0</td>\n",
       "      <td>(45, 48)</td>\n",
       "      <td>none</td>\n",
       "    </tr>\n",
       "    <tr>\n",
       "      <th>1</th>\n",
       "      <td>lot1</td>\n",
       "      <td>1683.0</td>\n",
       "      <td>(45, 48)</td>\n",
       "      <td>none</td>\n",
       "    </tr>\n",
       "    <tr>\n",
       "      <th>2</th>\n",
       "      <td>lot1</td>\n",
       "      <td>1683.0</td>\n",
       "      <td>(45, 48)</td>\n",
       "      <td>none</td>\n",
       "    </tr>\n",
       "    <tr>\n",
       "      <th>3</th>\n",
       "      <td>lot1</td>\n",
       "      <td>1683.0</td>\n",
       "      <td>(45, 48)</td>\n",
       "      <td>none</td>\n",
       "    </tr>\n",
       "    <tr>\n",
       "      <th>4</th>\n",
       "      <td>lot1</td>\n",
       "      <td>1683.0</td>\n",
       "      <td>(45, 48)</td>\n",
       "      <td>none</td>\n",
       "    </tr>\n",
       "  </tbody>\n",
       "</table>\n",
       "</div>"
      ],
      "text/plain": [
       "  lotname  diesize waferdims failure_type\n",
       "0    lot1   1683.0  (45, 48)         none\n",
       "1    lot1   1683.0  (45, 48)         none\n",
       "2    lot1   1683.0  (45, 48)         none\n",
       "3    lot1   1683.0  (45, 48)         none\n",
       "4    lot1   1683.0  (45, 48)         none"
      ]
     },
     "execution_count": 20,
     "metadata": {},
     "output_type": "execute_result"
    }
   ],
   "source": [
    "ex_df = df[['lotname', 'diesize', 'waferdims', 'failure_type']]\n",
    "ex_df.head()"
   ]
  },
  {
   "cell_type": "code",
   "execution_count": 27,
   "id": "c15f7802",
   "metadata": {},
   "outputs": [
    {
     "name": "stderr",
     "output_type": "stream",
     "text": [
      "/tmp/ipykernel_3388/298861814.py:1: SettingWithCopyWarning: \n",
      "A value is trying to be set on a copy of a slice from a DataFrame.\n",
      "Try using .loc[row_indexer,col_indexer] = value instead\n",
      "\n",
      "See the caveats in the documentation: https://pandas.pydata.org/pandas-docs/stable/user_guide/indexing.html#returning-a-view-versus-a-copy\n",
      "  ex_df['lotname_cat'] = ex_df['lotname'].astype('category').cat.codes\n"
     ]
    }
   ],
   "source": [
    "ex_df['lotname_cat'] = ex_df['lotname'].astype('category').cat.codes"
   ]
  },
  {
   "cell_type": "code",
   "execution_count": 28,
   "id": "001b8ae8",
   "metadata": {},
   "outputs": [
    {
     "name": "stderr",
     "output_type": "stream",
     "text": [
      "/tmp/ipykernel_3388/3917643646.py:1: SettingWithCopyWarning: \n",
      "A value is trying to be set on a copy of a slice from a DataFrame.\n",
      "Try using .loc[row_indexer,col_indexer] = value instead\n",
      "\n",
      "See the caveats in the documentation: https://pandas.pydata.org/pandas-docs/stable/user_guide/indexing.html#returning-a-view-versus-a-copy\n",
      "  ex_df['waferdims_cat'] = ex_df['waferdims'].astype('category').cat.codes\n"
     ]
    }
   ],
   "source": [
    "ex_df['waferdims_cat'] = ex_df['waferdims'].astype('category').cat.codes"
   ]
  },
  {
   "cell_type": "code",
   "execution_count": 29,
   "id": "d03065fe",
   "metadata": {},
   "outputs": [
    {
     "data": {
      "text/html": [
       "<div>\n",
       "<style scoped>\n",
       "    .dataframe tbody tr th:only-of-type {\n",
       "        vertical-align: middle;\n",
       "    }\n",
       "\n",
       "    .dataframe tbody tr th {\n",
       "        vertical-align: top;\n",
       "    }\n",
       "\n",
       "    .dataframe thead th {\n",
       "        text-align: right;\n",
       "    }\n",
       "</style>\n",
       "<table border=\"1\" class=\"dataframe\">\n",
       "  <thead>\n",
       "    <tr style=\"text-align: right;\">\n",
       "      <th></th>\n",
       "      <th>lotname</th>\n",
       "      <th>diesize</th>\n",
       "      <th>waferdims</th>\n",
       "      <th>failure_type</th>\n",
       "      <th>lotname_cat</th>\n",
       "      <th>waferdims_cat</th>\n",
       "    </tr>\n",
       "  </thead>\n",
       "  <tbody>\n",
       "    <tr>\n",
       "      <th>0</th>\n",
       "      <td>lot1</td>\n",
       "      <td>1683.0</td>\n",
       "      <td>(45, 48)</td>\n",
       "      <td>none</td>\n",
       "      <td>0</td>\n",
       "      <td>227</td>\n",
       "    </tr>\n",
       "    <tr>\n",
       "      <th>1</th>\n",
       "      <td>lot1</td>\n",
       "      <td>1683.0</td>\n",
       "      <td>(45, 48)</td>\n",
       "      <td>none</td>\n",
       "      <td>0</td>\n",
       "      <td>227</td>\n",
       "    </tr>\n",
       "    <tr>\n",
       "      <th>2</th>\n",
       "      <td>lot1</td>\n",
       "      <td>1683.0</td>\n",
       "      <td>(45, 48)</td>\n",
       "      <td>none</td>\n",
       "      <td>0</td>\n",
       "      <td>227</td>\n",
       "    </tr>\n",
       "    <tr>\n",
       "      <th>3</th>\n",
       "      <td>lot1</td>\n",
       "      <td>1683.0</td>\n",
       "      <td>(45, 48)</td>\n",
       "      <td>none</td>\n",
       "      <td>0</td>\n",
       "      <td>227</td>\n",
       "    </tr>\n",
       "    <tr>\n",
       "      <th>4</th>\n",
       "      <td>lot1</td>\n",
       "      <td>1683.0</td>\n",
       "      <td>(45, 48)</td>\n",
       "      <td>none</td>\n",
       "      <td>0</td>\n",
       "      <td>227</td>\n",
       "    </tr>\n",
       "  </tbody>\n",
       "</table>\n",
       "</div>"
      ],
      "text/plain": [
       "  lotname  diesize waferdims failure_type  lotname_cat  waferdims_cat\n",
       "0    lot1   1683.0  (45, 48)         none            0            227\n",
       "1    lot1   1683.0  (45, 48)         none            0            227\n",
       "2    lot1   1683.0  (45, 48)         none            0            227\n",
       "3    lot1   1683.0  (45, 48)         none            0            227\n",
       "4    lot1   1683.0  (45, 48)         none            0            227"
      ]
     },
     "execution_count": 29,
     "metadata": {},
     "output_type": "execute_result"
    }
   ],
   "source": [
    "ex_df.head()"
   ]
  },
  {
   "cell_type": "code",
   "execution_count": null,
   "id": "d65a60a1",
   "metadata": {},
   "outputs": [],
   "source": [
    "fig, axe = plt.subplots(figsize=(10,5))\n",
    "axe = sns.countplot(data = ex_df, y = 'lotname', palette = 'hls', order = ex_df['lotname'].value_counts().index)\n",
    "axe.set_xticklabels(axe.get_xticklabels(), rotation = 45)\n",
    "axe.set_title('노트북 브랜드별 수')\n",
    "#axe.bar_label(axe.containers[0])"
   ]
  },
  {
   "cell_type": "code",
   "execution_count": null,
   "id": "2696ad63",
   "metadata": {},
   "outputs": [],
   "source": [
    "fig, axes = plt.subplots(1, 2, figsize = (20,10))\n",
    "sns.histplot(data = ex_df, x = 'lotname', y = 'waferdims', ax = axes[0])"
   ]
  },
  {
   "cell_type": "code",
   "execution_count": null,
   "id": "45e2ef4b",
   "metadata": {},
   "outputs": [],
   "source": []
  }
 ],
 "metadata": {
  "kernelspec": {
   "display_name": "Python 3 (ipykernel)",
   "language": "python",
   "name": "python3"
  },
  "language_info": {
   "codemirror_mode": {
    "name": "ipython",
    "version": 3
   },
   "file_extension": ".py",
   "mimetype": "text/x-python",
   "name": "python",
   "nbconvert_exporter": "python",
   "pygments_lexer": "ipython3",
   "version": "3.10.6"
  }
 },
 "nbformat": 4,
 "nbformat_minor": 5
}
