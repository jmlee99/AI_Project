{
 "cells": [
  {
   "cell_type": "code",
   "execution_count": 42,
   "id": "ad03551b",
   "metadata": {},
   "outputs": [],
   "source": [
    "import numpy as np\n",
    "import pandas as pd\n",
    "import matplotlib.pyplot as plt\n",
    "import seaborn as sns\n",
    "import os\n",
    "import pickle\n",
    "import time\n",
    "os.environ[\"CUDA_VISIBLE_DEVICES\"] = \"-1\"\n",
    "\n",
    "from tensorflow import keras\n",
    "import tensorflow as tf"
   ]
  },
  {
   "cell_type": "code",
   "execution_count": 2,
   "id": "e82c6296",
   "metadata": {},
   "outputs": [],
   "source": [
    "# 리눅스 한글 설정\n",
    "plt.rc('font', family = 'NanumGothic')"
   ]
  },
  {
   "cell_type": "code",
   "execution_count": 3,
   "id": "9cbd75f6",
   "metadata": {},
   "outputs": [],
   "source": [
    "df = pd.read_pickle('mywafer.pkl')"
   ]
  },
  {
   "cell_type": "code",
   "execution_count": 5,
   "id": "eae7c2de",
   "metadata": {},
   "outputs": [],
   "source": [
    "df_train = df[df['train_test_label']=='Training']\n",
    "df_test = df[df['train_test_label']=='Test']\n",
    "df_real = df[df['train_test_label'].isna()]"
   ]
  },
  {
   "cell_type": "code",
   "execution_count": 6,
   "id": "2214b2be",
   "metadata": {},
   "outputs": [],
   "source": [
    "X_tr = df_train['wafermap_reshape'].apply(lambda x: np.array(x))"
   ]
  },
  {
   "cell_type": "code",
   "execution_count": 7,
   "id": "9ef9e6dc",
   "metadata": {},
   "outputs": [],
   "source": [
    "X_te = df_test['wafermap_reshape'].apply(lambda x: np.array(x))"
   ]
  },
  {
   "cell_type": "code",
   "execution_count": 8,
   "id": "ac03e0c5",
   "metadata": {},
   "outputs": [],
   "source": [
    "X_test = np.array([x for x in X_te])"
   ]
  },
  {
   "cell_type": "code",
   "execution_count": 9,
   "id": "7fd5dfb2",
   "metadata": {},
   "outputs": [],
   "source": [
    "X_train = np.array([x for x in X_tr])"
   ]
  },
  {
   "cell_type": "code",
   "execution_count": 10,
   "id": "d719dd7c",
   "metadata": {},
   "outputs": [],
   "source": [
    "y_train = df_train['failure_type'].astype('category').cat.codes\n",
    "y_test = df_test['failure_type'].astype('category').cat.codes"
   ]
  },
  {
   "cell_type": "markdown",
   "id": "5a0bd904",
   "metadata": {},
   "source": [
    "### CNN_model 불러오기"
   ]
  },
  {
   "cell_type": "code",
   "execution_count": 17,
   "id": "4b5aba95",
   "metadata": {},
   "outputs": [],
   "source": [
    "m_cnn55 = tf.keras.models.load_model('model_CNN.h5')\n",
    "m_cnn33 = tf.keras.models.load_model('model_CNN33.h5')"
   ]
  },
  {
   "cell_type": "code",
   "execution_count": 15,
   "id": "734303c6",
   "metadata": {},
   "outputs": [
    {
     "name": "stderr",
     "output_type": "stream",
     "text": [
      "2023-07-16 14:57:27.346994: I tensorflow/compiler/xla/stream_executor/cuda/cuda_dnn.cc:424] Loaded cuDNN version 8902\n"
     ]
    },
    {
     "name": "stdout",
     "output_type": "stream",
     "text": [
      "  35/3702 [..............................] - ETA: 16s - loss: 0.3054 - accuracy: 0.9536  "
     ]
    },
    {
     "name": "stderr",
     "output_type": "stream",
     "text": [
      "2023-07-16 14:57:29.200586: I tensorflow/compiler/xla/stream_executor/cuda/cuda_blas.cc:637] TensorFloat-32 will be used for the matrix multiplication. This will only be logged once.\n"
     ]
    },
    {
     "name": "stdout",
     "output_type": "stream",
     "text": [
      "3702/3702 [==============================] - 21s 4ms/step - loss: 1.0204 - accuracy: 0.7480\n"
     ]
    },
    {
     "data": {
      "text/plain": [
       "[1.0204004049301147, 0.7480180859565735]"
      ]
     },
     "execution_count": 15,
     "metadata": {},
     "output_type": "execute_result"
    }
   ],
   "source": [
    "m_cnn55.evaluate(X_test, y_test)"
   ]
  },
  {
   "cell_type": "code",
   "execution_count": 18,
   "id": "d578fb62",
   "metadata": {},
   "outputs": [
    {
     "name": "stdout",
     "output_type": "stream",
     "text": [
      "3702/3702 [==============================] - 15s 4ms/step - loss: 1.2765 - accuracy: 0.7116\n"
     ]
    },
    {
     "data": {
      "text/plain": [
       "[1.2764838933944702, 0.7115792036056519]"
      ]
     },
     "execution_count": 18,
     "metadata": {},
     "output_type": "execute_result"
    }
   ],
   "source": [
    "m_cnn33.evaluate(X_test, y_test)"
   ]
  },
  {
   "cell_type": "markdown",
   "id": "9052ab23",
   "metadata": {},
   "source": [
    "## CNN모델은 kernel size가 (5,5)인것이 (3,3)인것 보다 좋은 정확도를 보인다.\n",
    "### kernel size가 크면 좋은 성능을 보일까? ==> (10,10)으로 다시 만들어보자"
   ]
  },
  {
   "cell_type": "code",
   "execution_count": 19,
   "id": "5c3ce06b",
   "metadata": {},
   "outputs": [
    {
     "name": "stdout",
     "output_type": "stream",
     "text": [
      "Model: \"sequential\"\n",
      "_________________________________________________________________\n",
      " Layer (type)                Output Shape              Param #   \n",
      "=================================================================\n",
      " conv2d (Conv2D)             (None, 71, 71, 32)        3232      \n",
      "                                                                 \n",
      " max_pooling2d (MaxPooling2D  (None, 35, 35, 32)       0         \n",
      " )                                                               \n",
      "                                                                 \n",
      " conv2d_1 (Conv2D)           (None, 26, 26, 32)        102432    \n",
      "                                                                 \n",
      " max_pooling2d_1 (MaxPooling  (None, 13, 13, 32)       0         \n",
      " 2D)                                                             \n",
      "                                                                 \n",
      " flatten (Flatten)           (None, 5408)              0         \n",
      "                                                                 \n",
      " dense (Dense)               (None, 128)               692352    \n",
      "                                                                 \n",
      " dense_1 (Dense)             (None, 9)                 1161      \n",
      "                                                                 \n",
      "=================================================================\n",
      "Total params: 799,177\n",
      "Trainable params: 799,177\n",
      "Non-trainable params: 0\n",
      "_________________________________________________________________\n"
     ]
    }
   ],
   "source": [
    "# CNN kernel_size를 (10,10)으로 설정\n",
    "model = keras.Sequential([\n",
    "    keras.layers.Conv2D(32, kernel_size=(10,10), activation = 'relu', input_shape=(80, 80, 1),\n",
    "                       padding = 'valid', data_format = 'channels_last'), # 2D는 평면\n",
    "    keras.layers.MaxPooling2D(pool_size = (2,2)),\n",
    "    keras.layers.Conv2D(32, kernel_size = (10,10), activation='relu'),\n",
    "    keras.layers.MaxPooling2D(pool_size = (2,2)),\n",
    "    keras.layers.Flatten(),\n",
    "    keras.layers.Dense(128, activation='relu'),\n",
    "    #keras.layers.Dense(64, activation='relu'),\n",
    "    keras.layers.Dense(9)\n",
    "])\n",
    "\n",
    "\n",
    "model.compile(loss = keras.losses.SparseCategoricalCrossentropy(from_logits = True),\n",
    "         optimizer = keras.optimizers.Adam(learning_rate = 0.001),\n",
    "         metrics = ['accuracy'])\n",
    "\n",
    "model.summary()"
   ]
  },
  {
   "cell_type": "code",
   "execution_count": 20,
   "id": "1d3ac5b9",
   "metadata": {},
   "outputs": [
    {
     "name": "stdout",
     "output_type": "stream",
     "text": [
      "Epoch 1/10\n"
     ]
    },
    {
     "name": "stderr",
     "output_type": "stream",
     "text": [
      "2023-07-16 15:01:02.447169: I tensorflow/compiler/xla/service/service.cc:169] XLA service 0x558a3198a3c0 initialized for platform CUDA (this does not guarantee that XLA will be used). Devices:\n",
      "2023-07-16 15:01:02.447214: I tensorflow/compiler/xla/service/service.cc:177]   StreamExecutor device (0): NVIDIA GeForce RTX 3050 Ti Laptop GPU, Compute Capability 8.6\n",
      "2023-07-16 15:01:02.501586: I tensorflow/compiler/mlir/tensorflow/utils/dump_mlir_util.cc:269] disabling MLIR crash reproducer, set env var `MLIR_CRASH_REPRODUCER_DIRECTORY` to enable.\n",
      "2023-07-16 15:01:02.896749: I ./tensorflow/compiler/jit/device_compiler.h:180] Compiled cluster using XLA!  This line is logged at most once for the lifetime of the process.\n"
     ]
    },
    {
     "name": "stdout",
     "output_type": "stream",
     "text": [
      "1654/1654 [==============================] - 21s 10ms/step - loss: 0.2988 - accuracy: 0.9178\n",
      "Epoch 2/10\n",
      "1654/1654 [==============================] - 16s 10ms/step - loss: 0.1283 - accuracy: 0.9619\n",
      "Epoch 3/10\n",
      "1654/1654 [==============================] - 16s 10ms/step - loss: 0.0890 - accuracy: 0.9725\n",
      "Epoch 4/10\n",
      "1654/1654 [==============================] - 16s 10ms/step - loss: 0.0698 - accuracy: 0.9787\n",
      "Epoch 5/10\n",
      "1654/1654 [==============================] - 16s 10ms/step - loss: 0.0541 - accuracy: 0.9830\n",
      "Epoch 6/10\n",
      "1654/1654 [==============================] - 16s 10ms/step - loss: 0.0435 - accuracy: 0.9862\n",
      "Epoch 7/10\n",
      "1654/1654 [==============================] - 16s 10ms/step - loss: 0.0364 - accuracy: 0.9888\n",
      "Epoch 8/10\n",
      "1654/1654 [==============================] - 16s 10ms/step - loss: 0.0293 - accuracy: 0.9905\n",
      "Epoch 9/10\n",
      "1654/1654 [==============================] - 16s 10ms/step - loss: 0.0222 - accuracy: 0.9927\n",
      "Epoch 10/10\n",
      "1654/1654 [==============================] - 16s 10ms/step - loss: 0.0223 - accuracy: 0.9928\n"
     ]
    },
    {
     "data": {
      "text/plain": [
       "<keras.callbacks.History at 0x7fe1aa4761a0>"
      ]
     },
     "execution_count": 20,
     "metadata": {},
     "output_type": "execute_result"
    }
   ],
   "source": [
    "model.fit(X_train, y_train, epochs = 10)"
   ]
  },
  {
   "cell_type": "code",
   "execution_count": 23,
   "id": "6563db4f",
   "metadata": {},
   "outputs": [],
   "source": [
    "model.save('model_CNN10.h5')"
   ]
  },
  {
   "cell_type": "code",
   "execution_count": 29,
   "id": "b13c6605",
   "metadata": {},
   "outputs": [],
   "source": [
    "m_cnn10 = tf.keras.models.load_model('model_CNN10.h5')"
   ]
  },
  {
   "cell_type": "code",
   "execution_count": 30,
   "id": "67cf8220",
   "metadata": {},
   "outputs": [
    {
     "name": "stdout",
     "output_type": "stream",
     "text": [
      "3702/3702 [==============================] - 17s 4ms/step - loss: 1.3408 - accuracy: 0.7200\n"
     ]
    },
    {
     "data": {
      "text/plain": [
       "[1.340801477432251, 0.7199544310569763]"
      ]
     },
     "execution_count": 30,
     "metadata": {},
     "output_type": "execute_result"
    }
   ],
   "source": [
    "m_cnn10.evaluate(X_test, y_test)"
   ]
  },
  {
   "cell_type": "markdown",
   "id": "92c360e2",
   "metadata": {},
   "source": [
    "### 10,10으로 했을 때도 5,5보다 좋지 못한 성능을 보인다. kernel size를 10과 5사이에서 조율이 필요하다."
   ]
  },
  {
   "cell_type": "code",
   "execution_count": 31,
   "id": "fd22517b",
   "metadata": {},
   "outputs": [
    {
     "name": "stdout",
     "output_type": "stream",
     "text": [
      "Model: \"sequential_1\"\n",
      "_________________________________________________________________\n",
      " Layer (type)                Output Shape              Param #   \n",
      "=================================================================\n",
      " conv2d_2 (Conv2D)           (None, 73, 73, 32)        2080      \n",
      "                                                                 \n",
      " max_pooling2d_2 (MaxPooling  (None, 36, 36, 32)       0         \n",
      " 2D)                                                             \n",
      "                                                                 \n",
      " conv2d_3 (Conv2D)           (None, 29, 29, 32)        65568     \n",
      "                                                                 \n",
      " max_pooling2d_3 (MaxPooling  (None, 14, 14, 32)       0         \n",
      " 2D)                                                             \n",
      "                                                                 \n",
      " flatten_1 (Flatten)         (None, 6272)              0         \n",
      "                                                                 \n",
      " dense_2 (Dense)             (None, 128)               802944    \n",
      "                                                                 \n",
      " dense_3 (Dense)             (None, 9)                 1161      \n",
      "                                                                 \n",
      "=================================================================\n",
      "Total params: 871,753\n",
      "Trainable params: 871,753\n",
      "Non-trainable params: 0\n",
      "_________________________________________________________________\n"
     ]
    }
   ],
   "source": [
    "model = keras.Sequential([\n",
    "    keras.layers.Conv2D(32, kernel_size=(8,8), activation = 'relu', input_shape=(80, 80, 1),\n",
    "                       padding = 'valid', data_format = 'channels_last'), # 2D는 평면\n",
    "    keras.layers.MaxPooling2D(pool_size = (2,2)),\n",
    "    keras.layers.Conv2D(32, kernel_size = (8,8), activation='relu'),\n",
    "    keras.layers.MaxPooling2D(pool_size = (2,2)),\n",
    "    keras.layers.Flatten(),\n",
    "    keras.layers.Dense(128, activation='relu'),\n",
    "    #keras.layers.Dense(64, activation='relu'),\n",
    "    keras.layers.Dense(9)\n",
    "])\n",
    "\n",
    "\n",
    "model.compile(loss = keras.losses.SparseCategoricalCrossentropy(from_logits = True),\n",
    "         optimizer = keras.optimizers.Adam(learning_rate = 0.001),\n",
    "         metrics = ['accuracy'])\n",
    "\n",
    "model.summary()"
   ]
  },
  {
   "cell_type": "code",
   "execution_count": 32,
   "id": "ec1b265b",
   "metadata": {},
   "outputs": [
    {
     "name": "stdout",
     "output_type": "stream",
     "text": [
      "Epoch 1/10\n",
      "1654/1654 [==============================] - 19s 9ms/step - loss: 0.2756 - accuracy: 0.9242\n",
      "Epoch 2/10\n",
      "1654/1654 [==============================] - 16s 9ms/step - loss: 0.1173 - accuracy: 0.9643\n",
      "Epoch 3/10\n",
      "1654/1654 [==============================] - 16s 9ms/step - loss: 0.0836 - accuracy: 0.9738\n",
      "Epoch 4/10\n",
      "1654/1654 [==============================] - 16s 10ms/step - loss: 0.0675 - accuracy: 0.9790\n",
      "Epoch 5/10\n",
      "1654/1654 [==============================] - 16s 9ms/step - loss: 0.0523 - accuracy: 0.9831\n",
      "Epoch 6/10\n",
      "1654/1654 [==============================] - 16s 10ms/step - loss: 0.0400 - accuracy: 0.9873\n",
      "Epoch 7/10\n",
      "1654/1654 [==============================] - 15s 9ms/step - loss: 0.0312 - accuracy: 0.9902\n",
      "Epoch 8/10\n",
      "1654/1654 [==============================] - 15s 9ms/step - loss: 0.0266 - accuracy: 0.9916\n",
      "Epoch 9/10\n",
      "1654/1654 [==============================] - 15s 9ms/step - loss: 0.0226 - accuracy: 0.9927\n",
      "Epoch 10/10\n",
      "1654/1654 [==============================] - 15s 9ms/step - loss: 0.0181 - accuracy: 0.9943\n"
     ]
    },
    {
     "data": {
      "text/plain": [
       "<keras.callbacks.History at 0x7fe188f65fc0>"
      ]
     },
     "execution_count": 32,
     "metadata": {},
     "output_type": "execute_result"
    }
   ],
   "source": [
    "model.fit(X_train, y_train, epochs = 10)"
   ]
  },
  {
   "cell_type": "code",
   "execution_count": 33,
   "id": "6ad6f930",
   "metadata": {},
   "outputs": [],
   "source": [
    "model.save('model_CNN8.h5')"
   ]
  },
  {
   "cell_type": "code",
   "execution_count": 34,
   "id": "7e27459a",
   "metadata": {},
   "outputs": [],
   "source": [
    "m_cnn8 = tf.keras.models.load_model('model_CNN8.h5')"
   ]
  },
  {
   "cell_type": "code",
   "execution_count": 35,
   "id": "dc2c20e5",
   "metadata": {},
   "outputs": [
    {
     "name": "stdout",
     "output_type": "stream",
     "text": [
      "3702/3702 [==============================] - 16s 4ms/step - loss: 1.0979 - accuracy: 0.7371\n"
     ]
    },
    {
     "data": {
      "text/plain": [
       "[1.097948670387268, 0.7370594143867493]"
      ]
     },
     "execution_count": 35,
     "metadata": {},
     "output_type": "execute_result"
    }
   ],
   "source": [
    "m_cnn8.evaluate(X_test, y_test)"
   ]
  },
  {
   "cell_type": "markdown",
   "id": "ac1d3978",
   "metadata": {},
   "source": [
    "### kernel size는 5,5가 가장 높은 정확도를 보여준다. 이제 5,5모델의 learning_rate를 바꿔보자"
   ]
  },
  {
   "cell_type": "code",
   "execution_count": 36,
   "id": "3fc1dde9",
   "metadata": {},
   "outputs": [
    {
     "name": "stdout",
     "output_type": "stream",
     "text": [
      "Model: \"sequential_2\"\n",
      "_________________________________________________________________\n",
      " Layer (type)                Output Shape              Param #   \n",
      "=================================================================\n",
      " conv2d_4 (Conv2D)           (None, 76, 76, 32)        832       \n",
      "                                                                 \n",
      " max_pooling2d_4 (MaxPooling  (None, 38, 38, 32)       0         \n",
      " 2D)                                                             \n",
      "                                                                 \n",
      " conv2d_5 (Conv2D)           (None, 34, 34, 32)        25632     \n",
      "                                                                 \n",
      " max_pooling2d_5 (MaxPooling  (None, 17, 17, 32)       0         \n",
      " 2D)                                                             \n",
      "                                                                 \n",
      " flatten_2 (Flatten)         (None, 9248)              0         \n",
      "                                                                 \n",
      " dense_4 (Dense)             (None, 128)               1183872   \n",
      "                                                                 \n",
      " dense_5 (Dense)             (None, 9)                 1161      \n",
      "                                                                 \n",
      "=================================================================\n",
      "Total params: 1,211,497\n",
      "Trainable params: 1,211,497\n",
      "Non-trainable params: 0\n",
      "_________________________________________________________________\n"
     ]
    }
   ],
   "source": [
    "#learning_rate = 0.01\n",
    "\n",
    "model = keras.Sequential([\n",
    "    keras.layers.Conv2D(32, kernel_size=(5,5), activation = 'relu', input_shape=(80, 80, 1),\n",
    "                       padding = 'valid', data_format = 'channels_last'), # 2D는 평면\n",
    "    keras.layers.MaxPooling2D(pool_size = (2,2)),\n",
    "    keras.layers.Conv2D(32, kernel_size = (5,5), activation='relu'),\n",
    "    keras.layers.MaxPooling2D(pool_size = (2,2)),\n",
    "    keras.layers.Flatten(),\n",
    "    keras.layers.Dense(128, activation='relu'),\n",
    "    #keras.layers.Dense(64, activation='relu'),\n",
    "    keras.layers.Dense(9)\n",
    "])\n",
    "\n",
    "\n",
    "model.compile(loss = keras.losses.SparseCategoricalCrossentropy(from_logits = True),\n",
    "         optimizer = keras.optimizers.Adam(learning_rate = 0.01),\n",
    "         metrics = ['accuracy'])\n",
    "\n",
    "model.summary()"
   ]
  },
  {
   "cell_type": "code",
   "execution_count": 37,
   "id": "5614c404",
   "metadata": {},
   "outputs": [
    {
     "name": "stdout",
     "output_type": "stream",
     "text": [
      "Epoch 1/10\n",
      "1654/1654 [==============================] - 17s 9ms/step - loss: 0.3598 - accuracy: 0.9050\n",
      "Epoch 2/10\n",
      "1654/1654 [==============================] - 14s 9ms/step - loss: 0.2724 - accuracy: 0.9274\n",
      "Epoch 3/10\n",
      "1654/1654 [==============================] - 14s 9ms/step - loss: 0.2500 - accuracy: 0.9326\n",
      "Epoch 4/10\n",
      "1654/1654 [==============================] - 14s 9ms/step - loss: 0.2352 - accuracy: 0.9357\n",
      "Epoch 5/10\n",
      "1654/1654 [==============================] - 14s 9ms/step - loss: 0.2245 - accuracy: 0.9387\n",
      "Epoch 6/10\n",
      "1654/1654 [==============================] - 14s 9ms/step - loss: 0.2166 - accuracy: 0.9418\n",
      "Epoch 7/10\n",
      "1654/1654 [==============================] - 14s 9ms/step - loss: 0.2099 - accuracy: 0.9420\n",
      "Epoch 8/10\n",
      "1654/1654 [==============================] - 14s 9ms/step - loss: 0.2022 - accuracy: 0.9451\n",
      "Epoch 9/10\n",
      "1654/1654 [==============================] - 14s 9ms/step - loss: 0.1892 - accuracy: 0.9480\n",
      "Epoch 10/10\n",
      "1654/1654 [==============================] - 14s 9ms/step - loss: 0.1854 - accuracy: 0.9499\n"
     ]
    },
    {
     "data": {
      "text/plain": [
       "<keras.callbacks.History at 0x7fe1aac28cd0>"
      ]
     },
     "execution_count": 37,
     "metadata": {},
     "output_type": "execute_result"
    }
   ],
   "source": [
    "model.fit(X_train, y_train, epochs = 10)"
   ]
  },
  {
   "cell_type": "code",
   "execution_count": 38,
   "id": "ceda1632",
   "metadata": {},
   "outputs": [],
   "source": [
    "model.save('m_cnn5_rate001.h5')"
   ]
  },
  {
   "cell_type": "code",
   "execution_count": 44,
   "id": "a2993a84",
   "metadata": {},
   "outputs": [],
   "source": [
    "m_cnn5_rate001 = tf.keras.models.load_model('m_cnn5_rate001.h5')"
   ]
  },
  {
   "cell_type": "code",
   "execution_count": 45,
   "id": "94a0c004",
   "metadata": {},
   "outputs": [
    {
     "name": "stderr",
     "output_type": "stream",
     "text": [
      "2023-07-16 15:21:15.797633: W tensorflow/tsl/framework/bfc_allocator.cc:485] Allocator (GPU_0_bfc) ran out of memory trying to allocate 722.93MiB (rounded to 758048000)requested by op _EagerConst\n",
      "If the cause is memory fragmentation maybe the environment variable 'TF_GPU_ALLOCATOR=cuda_malloc_async' will improve the situation. \n",
      "Current allocation summary follows.\n",
      "Current allocation summary follows.\n",
      "2023-07-16 15:21:15.797706: I tensorflow/tsl/framework/bfc_allocator.cc:1039] BFCAllocator dump for GPU_0_bfc\n",
      "2023-07-16 15:21:15.797723: I tensorflow/tsl/framework/bfc_allocator.cc:1046] Bin (256): \tTotal Chunks: 218, Chunks in use: 218. 54.5KiB allocated for chunks. 54.5KiB in use in bin. 10.0KiB client-requested in use in bin.\n",
      "2023-07-16 15:21:15.797735: I tensorflow/tsl/framework/bfc_allocator.cc:1046] Bin (512): \tTotal Chunks: 33, Chunks in use: 33. 17.2KiB allocated for chunks. 17.2KiB in use in bin. 16.5KiB client-requested in use in bin.\n",
      "2023-07-16 15:21:15.797746: I tensorflow/tsl/framework/bfc_allocator.cc:1046] Bin (1024): \tTotal Chunks: 3, Chunks in use: 3. 4.2KiB allocated for chunks. 4.2KiB in use in bin. 3.3KiB client-requested in use in bin.\n",
      "2023-07-16 15:21:15.797757: I tensorflow/tsl/framework/bfc_allocator.cc:1046] Bin (2048): \tTotal Chunks: 6, Chunks in use: 6. 18.5KiB allocated for chunks. 18.5KiB in use in bin. 16.8KiB client-requested in use in bin.\n",
      "2023-07-16 15:21:15.797769: I tensorflow/tsl/framework/bfc_allocator.cc:1046] Bin (4096): \tTotal Chunks: 40, Chunks in use: 39. 200.5KiB allocated for chunks. 195.8KiB in use in bin. 165.9KiB client-requested in use in bin.\n",
      "2023-07-16 15:21:15.797780: I tensorflow/tsl/framework/bfc_allocator.cc:1046] Bin (8192): \tTotal Chunks: 17, Chunks in use: 17. 187.5KiB allocated for chunks. 187.5KiB in use in bin. 177.5KiB client-requested in use in bin.\n",
      "2023-07-16 15:21:15.797791: I tensorflow/tsl/framework/bfc_allocator.cc:1046] Bin (16384): \tTotal Chunks: 2, Chunks in use: 2. 43.5KiB allocated for chunks. 43.5KiB in use in bin. 25.0KiB client-requested in use in bin.\n",
      "2023-07-16 15:21:15.797802: I tensorflow/tsl/framework/bfc_allocator.cc:1046] Bin (32768): \tTotal Chunks: 4, Chunks in use: 4. 160.0KiB allocated for chunks. 160.0KiB in use in bin. 159.7KiB client-requested in use in bin.\n",
      "2023-07-16 15:21:15.797813: I tensorflow/tsl/framework/bfc_allocator.cc:1046] Bin (65536): \tTotal Chunks: 13, Chunks in use: 11. 1.22MiB allocated for chunks. 1.06MiB in use in bin. 1.04MiB client-requested in use in bin.\n",
      "2023-07-16 15:21:15.797824: I tensorflow/tsl/framework/bfc_allocator.cc:1046] Bin (131072): \tTotal Chunks: 3, Chunks in use: 3. 479.8KiB allocated for chunks. 479.8KiB in use in bin. 300.0KiB client-requested in use in bin.\n",
      "2023-07-16 15:21:15.797834: I tensorflow/tsl/framework/bfc_allocator.cc:1046] Bin (262144): \tTotal Chunks: 18, Chunks in use: 18. 6.37MiB allocated for chunks. 6.37MiB in use in bin. 6.19MiB client-requested in use in bin.\n",
      "2023-07-16 15:21:15.797844: I tensorflow/tsl/framework/bfc_allocator.cc:1046] Bin (524288): \tTotal Chunks: 0, Chunks in use: 0. 0B allocated for chunks. 0B in use in bin. 0B client-requested in use in bin.\n",
      "2023-07-16 15:21:15.797855: I tensorflow/tsl/framework/bfc_allocator.cc:1046] Bin (1048576): \tTotal Chunks: 1, Chunks in use: 0. 1.40MiB allocated for chunks. 0B in use in bin. 0B client-requested in use in bin.\n",
      "2023-07-16 15:21:15.797867: I tensorflow/tsl/framework/bfc_allocator.cc:1046] Bin (2097152): \tTotal Chunks: 14, Chunks in use: 13. 41.14MiB allocated for chunks. 38.08MiB in use in bin. 36.86MiB client-requested in use in bin.\n",
      "2023-07-16 15:21:15.797879: I tensorflow/tsl/framework/bfc_allocator.cc:1046] Bin (4194304): \tTotal Chunks: 20, Chunks in use: 19. 92.34MiB allocated for chunks. 87.82MiB in use in bin. 77.52MiB client-requested in use in bin.\n",
      "2023-07-16 15:21:15.797889: I tensorflow/tsl/framework/bfc_allocator.cc:1046] Bin (8388608): \tTotal Chunks: 1, Chunks in use: 1. 8.62MiB allocated for chunks. 8.62MiB in use in bin. 5.06MiB client-requested in use in bin.\n",
      "2023-07-16 15:21:15.797898: I tensorflow/tsl/framework/bfc_allocator.cc:1046] Bin (16777216): \tTotal Chunks: 0, Chunks in use: 0. 0B allocated for chunks. 0B in use in bin. 0B client-requested in use in bin.\n",
      "2023-07-16 15:21:15.797917: I tensorflow/tsl/framework/bfc_allocator.cc:1046] Bin (33554432): \tTotal Chunks: 0, Chunks in use: 0. 0B allocated for chunks. 0B in use in bin. 0B client-requested in use in bin.\n",
      "2023-07-16 15:21:15.797927: I tensorflow/tsl/framework/bfc_allocator.cc:1046] Bin (67108864): \tTotal Chunks: 0, Chunks in use: 0. 0B allocated for chunks. 0B in use in bin. 0B client-requested in use in bin.\n",
      "2023-07-16 15:21:15.797937: I tensorflow/tsl/framework/bfc_allocator.cc:1046] Bin (134217728): \tTotal Chunks: 1, Chunks in use: 0. 149.62MiB allocated for chunks. 0B in use in bin. 0B client-requested in use in bin.\n",
      "2023-07-16 15:21:15.797947: I tensorflow/tsl/framework/bfc_allocator.cc:1046] Bin (268435456): \tTotal Chunks: 4, Chun"
     ]
    },
    {
     "ename": "InternalError",
     "evalue": "Failed copying input tensor from /job:localhost/replica:0/task:0/device:CPU:0 to /job:localhost/replica:0/task:0/device:GPU:0 in order to run _EagerConst: Dst tensor is not initialized.",
     "output_type": "error",
     "traceback": [
      "\u001b[0;31m---------------------------------------------------------------------------\u001b[0m",
      "\u001b[0;31mInternalError\u001b[0m                             Traceback (most recent call last)",
      "\u001b[0;32m/tmp/ipykernel_3061/2692348423.py\u001b[0m in \u001b[0;36m<module>\u001b[0;34m\u001b[0m\n\u001b[0;32m----> 1\u001b[0;31m \u001b[0mm_cnn5_rate001\u001b[0m\u001b[0;34m.\u001b[0m\u001b[0mevaluate\u001b[0m\u001b[0;34m(\u001b[0m\u001b[0mX_test\u001b[0m\u001b[0;34m,\u001b[0m \u001b[0my_test\u001b[0m\u001b[0;34m)\u001b[0m\u001b[0;34m\u001b[0m\u001b[0;34m\u001b[0m\u001b[0m\n\u001b[0m",
      "\u001b[0;32m~/.local/lib/python3.10/site-packages/keras/utils/traceback_utils.py\u001b[0m in \u001b[0;36merror_handler\u001b[0;34m(*args, **kwargs)\u001b[0m\n\u001b[1;32m     68\u001b[0m             \u001b[0;31m# To get the full stack trace, call:\u001b[0m\u001b[0;34m\u001b[0m\u001b[0;34m\u001b[0m\u001b[0m\n\u001b[1;32m     69\u001b[0m             \u001b[0;31m# `tf.debugging.disable_traceback_filtering()`\u001b[0m\u001b[0;34m\u001b[0m\u001b[0;34m\u001b[0m\u001b[0m\n\u001b[0;32m---> 70\u001b[0;31m             \u001b[0;32mraise\u001b[0m \u001b[0me\u001b[0m\u001b[0;34m.\u001b[0m\u001b[0mwith_traceback\u001b[0m\u001b[0;34m(\u001b[0m\u001b[0mfiltered_tb\u001b[0m\u001b[0;34m)\u001b[0m \u001b[0;32mfrom\u001b[0m \u001b[0;32mNone\u001b[0m\u001b[0;34m\u001b[0m\u001b[0;34m\u001b[0m\u001b[0m\n\u001b[0m\u001b[1;32m     71\u001b[0m         \u001b[0;32mfinally\u001b[0m\u001b[0;34m:\u001b[0m\u001b[0;34m\u001b[0m\u001b[0;34m\u001b[0m\u001b[0m\n\u001b[1;32m     72\u001b[0m             \u001b[0;32mdel\u001b[0m \u001b[0mfiltered_tb\u001b[0m\u001b[0;34m\u001b[0m\u001b[0;34m\u001b[0m\u001b[0m\n",
      "\u001b[0;32m~/.local/lib/python3.10/site-packages/tensorflow/python/framework/constant_op.py\u001b[0m in \u001b[0;36mconvert_to_eager_tensor\u001b[0;34m(value, ctx, dtype)\u001b[0m\n\u001b[1;32m    101\u001b[0m       \u001b[0mdtype\u001b[0m \u001b[0;34m=\u001b[0m \u001b[0mdtypes\u001b[0m\u001b[0;34m.\u001b[0m\u001b[0mas_dtype\u001b[0m\u001b[0;34m(\u001b[0m\u001b[0mdtype\u001b[0m\u001b[0;34m)\u001b[0m\u001b[0;34m.\u001b[0m\u001b[0mas_datatype_enum\u001b[0m\u001b[0;34m\u001b[0m\u001b[0;34m\u001b[0m\u001b[0m\n\u001b[1;32m    102\u001b[0m   \u001b[0mctx\u001b[0m\u001b[0;34m.\u001b[0m\u001b[0mensure_initialized\u001b[0m\u001b[0;34m(\u001b[0m\u001b[0;34m)\u001b[0m\u001b[0;34m\u001b[0m\u001b[0;34m\u001b[0m\u001b[0m\n\u001b[0;32m--> 103\u001b[0;31m   \u001b[0;32mreturn\u001b[0m \u001b[0mops\u001b[0m\u001b[0;34m.\u001b[0m\u001b[0mEagerTensor\u001b[0m\u001b[0;34m(\u001b[0m\u001b[0mvalue\u001b[0m\u001b[0;34m,\u001b[0m \u001b[0mctx\u001b[0m\u001b[0;34m.\u001b[0m\u001b[0mdevice_name\u001b[0m\u001b[0;34m,\u001b[0m \u001b[0mdtype\u001b[0m\u001b[0;34m)\u001b[0m\u001b[0;34m\u001b[0m\u001b[0;34m\u001b[0m\u001b[0m\n\u001b[0m\u001b[1;32m    104\u001b[0m \u001b[0;34m\u001b[0m\u001b[0m\n\u001b[1;32m    105\u001b[0m \u001b[0;34m\u001b[0m\u001b[0m\n",
      "\u001b[0;31mInternalError\u001b[0m: Failed copying input tensor from /job:localhost/replica:0/task:0/device:CPU:0 to /job:localhost/replica:0/task:0/device:GPU:0 in order to run _EagerConst: Dst tensor is not initialized."
     ]
    },
    {
     "name": "stderr",
     "output_type": "stream",
     "text": [
      "ks in use: 3. 1.73GiB allocated for chunks. 1.34GiB in use in bin. 1.34GiB client-requested in use in bin.\n",
      "2023-07-16 15:21:15.797958: I tensorflow/tsl/framework/bfc_allocator.cc:1062] Bin for 722.93MiB was 256.00MiB, Chunk State: \n",
      "2023-07-16 15:21:15.797979: I tensorflow/tsl/framework/bfc_allocator.cc:1068]   Size: 405.02MiB | Requested Size: 0B | in_use: 0 | bin_num: 20, prev:   Size: 322.91MiB | Requested Size: 322.91MiB | in_use: 1 | bin_num: -1, next:   Size: 4.52MiB | Requested Size: 4.52MiB | in_use: 1 | bin_num: -1\n",
      "2023-07-16 15:21:15.797988: I tensorflow/tsl/framework/bfc_allocator.cc:1075] Next region of size 2176450560\n",
      "2023-07-16 15:21:15.798000: I tensorflow/tsl/framework/bfc_allocator.cc:1095] InUse at 7fdfc2000000 of size 256 next 1\n",
      "2023-07-16 15:21:15.798008: I tensorflow/tsl/framework/bfc_allocator.cc:1095] InUse at 7fdfc2000100 of size 1280 next 2\n",
      "2023-07-16 15:21:15.798016: I tensorflow/tsl/framework/bfc_allocator.cc:1095] InUse at 7fdfc2000600 of size 256 next 3\n",
      "2023-07-16 15:21:15.798023: I tensorflow/tsl/framework/bfc_allocator.cc:1095] InUse at 7fdfc2000700 of size 256 next 4\n",
      "2023-07-16 15:21:15.798030: I tensorflow/tsl/framework/bfc_allocator.cc:1095] InUse at 7fdfc2000800 of size 256 next 6\n",
      "2023-07-16 15:21:15.798038: I tensorflow/tsl/framework/bfc_allocator.cc:1095] InUse at 7fdfc2000900 of size 256 next 7\n",
      "2023-07-16 15:21:15.798045: I tensorflow/tsl/framework/bfc_allocator.cc:1095] InUse at 7fdfc2000a00 of size 256 next 5\n",
      "2023-07-16 15:21:15.798052: I tensorflow/tsl/framework/bfc_allocator.cc:1095] InUse at 7fdfc2000b00 of size 256 next 8\n",
      "2023-07-16 15:21:15.798059: I tensorflow/tsl/framework/bfc_allocator.cc:1095] InUse at 7fdfc2000c00 of size 256 next 13\n",
      "2023-07-16 15:21:15.798067: I tensorflow/tsl/framework/bfc_allocator.cc:1095] InUse at 7fdfc2000d00 of size 256 next 11\n",
      "2023-07-16 15:21:15.798074: I tensorflow/tsl/framework/bfc_allocator.cc:1095] InUse at 7fdfc2000e00 of size 256 next 12\n",
      "2023-07-16 15:21:15.798081: I tensorflow/tsl/framework/bfc_allocator.cc:1095] InUse at 7fdfc2000f00 of size 256 next 63\n",
      "2023-07-16 15:21:15.798089: I tensorflow/tsl/framework/bfc_allocator.cc:1095] InUse at 7fdfc2001000 of size 256 next 18\n",
      "2023-07-16 15:21:15.798096: I tensorflow/tsl/framework/bfc_allocator.cc:1095] InUse at 7fdfc2001100 of size 256 next 16\n",
      "2023-07-16 15:21:15.798103: I tensorflow/tsl/framework/bfc_allocator.cc:1095] InUse at 7fdfc2001200 of size 256 next 17\n",
      "2023-07-16 15:21:15.798110: I tensorflow/tsl/framework/bfc_allocator.cc:1095] InUse at 7fdfc2001300 of size 256 next 23\n",
      "2023-07-16 15:21:15.798118: I tensorflow/tsl/framework/bfc_allocator.cc:1095] InUse at 7fdfc2001400 of size 4608 next 65\n",
      "2023-07-16 15:21:15.798126: I tensorflow/tsl/framework/bfc_allocator.cc:1095] InUse at 7fdfc2002600 of size 5120 next 19\n",
      "2023-07-16 15:21:15.798135: I tensorflow/tsl/framework/bfc_allocator.cc:1095] InUse at 7fdfc2003a00 of size 256 next 21\n",
      "2023-07-16 15:21:15.798143: I tensorflow/tsl/framework/bfc_allocator.cc:1095] InUse at 7fdfc2003b00 of size 256 next 22\n",
      "2023-07-16 15:21:15.798151: I tensorflow/tsl/framework/bfc_allocator.cc:1095] InUse at 7fdfc2003c00 of size 256 next 26\n",
      "2023-07-16 15:21:15.798160: I tensorflow/tsl/framework/bfc_allocator.cc:1095] InUse at 7fdfc2003d00 of size 256 next 27\n",
      "2023-07-16 15:21:15.798168: I tensorflow/tsl/framework/bfc_allocator.cc:1095] InUse at 7fdfc2003e00 of size 256 next 156\n",
      "2023-07-16 15:21:15.798175: I tensorflow/tsl/framework/bfc_allocator.cc:1095] InUse at 7fdfc2003f00 of size 256 next 157\n",
      "2023-07-16 15:21:15.798184: I tensorflow/tsl/framework/bfc_allocator.cc:1095] InUse at 7fdfc2004000 of size 256 next 159\n",
      "2023-07-16 15:21:15.798192: I tensorflow/tsl/framework/bfc_allocator.cc:1095] InUse at 7fdfc2004100 of size 256 next 160\n",
      "2023-07-16 15:21:15.798199: I tensorflow/tsl/framework/bfc_allocator.cc:1095] InUse at 7fdfc2004200 of size 256 next 162\n",
      "2023-07-16 15:21:15.798206: I tensorflow/tsl/framework/bfc_allocator.cc:1095] InUse at 7fdfc2004300 of size 256 next 164\n",
      "2023-07-16 15:21:15.798214: I tensorflow/tsl/framework/bfc_allocator.cc:1095] InUse at 7fdfc2004400 of size 256 next 165\n",
      "2023-07-16 15:21:15.798221: I tensorflow/tsl/framework/bfc_allocator.cc:1095] InUse at 7fdfc2004500 of size 256 next 167\n",
      "2023-07-16 15:21:15.798228: I tensorflow/tsl/framework/bfc_allocator.cc:1095] InUse at 7fdfc2004600 of size 256 next 168\n",
      "2023-07-16 15:21:15.798237: I tensorflow/tsl/framework/bfc_allocator.cc:1095] InUse at 7fdfc2004700 of size 512 next 169\n",
      "2023-07-16 15:21:15.798245: I tensorflow/tsl/framework/bfc_allocator.cc:1095] InUse at 7fdfc2004900 of size 512 next 170\n",
      "2023-07-16 15:21:15.798252: I tensorflow/tsl/framework/bfc_allocator.cc:1095] InUse at 7fdfc2004b00 of size 256 next 171\n",
      "2023-07-16 15:21:15.798260: I tensorflow/tsl/framework/bfc_allocator.cc:1095] InUse at 7fdfc2004c00 of size 256 next 172\n",
      "2023-07-16 15:21:15.798267: I tensorflow/tsl/framework/bfc_allocator.cc:1095] InUse at 7fdfc2004d00 of size 256 next 173\n",
      "2023-07-16 15:21:15.798274: I tensorflow/tsl/framework/bfc_allocator.cc:1095] InUse at 7fdfc2004e00 of size 256 next 174\n",
      "2023-07-16 15:21:15.798281: I tensorflow/tsl/framework/bfc_allocator.cc:1095] InUse at 7fdfc2004f00 of size 256 next 39\n",
      "2023-07-16 15:21:15.798288: I tensorflow/tsl/framework/bfc_allocator.cc:1095] InUse at 7fdfc2005000 of size 512 next 28\n",
      "2023-07-16 15:21:15.798296: I tensorflow/tsl/framework/bfc_allocator.cc:1095] InUse at 7fdfc2005200 of size 256 next 55\n",
      "2023-07-16 15:21:15.798303: I tensorflow/tsl/framework/bfc_allocator.cc:1095] InUse at 7fdfc2005300 of size 256 next 49\n",
      "2023-07-16 15:21:15.798310: I tensorflow/tsl/framework/bfc_allocator.cc:1095] InUse at 7fdfc2005400 of size 256 next 10\n",
      "2023-07-16 15:21:15.798317: I tensorflow/tsl/framework/bfc_allocator.cc:1095] InUse at 7fdfc2005500 of size 256 next 56\n",
      "2023-07-16 15:21:15.798325: I tensorflow/tsl/framework/bfc_allocator.cc:1095] InUse at 7fdfc2005600 of size 256 next 52\n",
      "2023-07-16 15:21:15.798332: I tensorflow/tsl/framework/bfc_allocator.cc:1095] InUse at 7fdfc2005700 of size 256 next 67\n",
      "2023-07-16 15:21:15.798339: I tensorflow/tsl/framework/bfc_allocator.cc:1095] InUse at 7fdfc2005800 of size 512 next 64\n",
      "2023-07-16 15:21:15.798346: I tensorflow/tsl/framework/bfc_allocator.cc:1095] InUse at 7fdfc2005a00 of size 256 next 59\n",
      "2023-07-16 15:21:15.798354: I tensorflow/tsl/framework/bfc_allocator.cc:1095] InUse at 7fdfc2005b00 of size 256 next 61\n",
      "2023-07-16 15:21:15.798361: I tensorflow/tsl/framework/bfc_allocator.cc:1095] InUse at 7fdfc2005c00 of size 256 next 74\n",
      "2023-07-16 15:21:15.798368: I tensorflow/tsl/framework/bfc_allocator.cc:1095] InUse at 7fdfc2005d00 of size 256 next 9\n",
      "2023-07-16 15:21:15.798375: I tensorflow/tsl/framework/bfc_allocator.cc:1095] InUse at 7fdfc2005e00 of size 256 next 75\n",
      "2023-07-16 15:21:15.798383: I tensorflow/tsl/framework/bfc_allocator.cc:1095] InUse at 7fdfc2005f00 of size 256 next 48\n",
      "2023-07-16 15:21:15.798390: I tensorflow/tsl/framework/bfc_allocator.cc:1095] InUse at 7fdfc2006000 of size 256 next 66\n",
      "2023-07-16 15:21:15.798397: I tensorflow/tsl/framework/bfc_allocator.cc:1095] InUse at 7fdfc2006100 of size 512 next 36\n",
      "2023-07-16 15:21:15.798404: I tensorflow/tsl/framework/bfc_allocator.cc:1095] InUse at 7fdfc2006300 of size 256 next 29\n",
      "2023-07-16 15:21:15.798413: I tensorflow/tsl/framework/bfc_allocator.cc:1095] InUse at 7fdfc2006400 of size 256 next 32\n",
      "2023-07-16 15:21:15.798420: I tensorflow/tsl/framework/bfc_allocator.cc:1095] InUse at 7fdfc2006500 of size 256 next 40\n",
      "2023-07-16 15:21:15.798427: I tensorflow/tsl/framework/bfc_allocator.cc:1095] InUse at 7fdfc2006600 of size 256 next 31\n",
      "2023-07-16 15:21:15.798434: I tensorflow/tsl/framework/bfc_allocator.cc:1095] InUse at 7fdfc2006700 of size 256 next 24\n",
      "2023-07-16 15:21:15.798442: I tensorflow/tsl/framework/bfc_allocator.cc:1095] InUse at 7fdfc2006800 of size 4925952 next 14\n",
      "2023-07-16 15:21:15.798450: I tensorflow/tsl/framework/bfc_allocator.cc:1095] InUse at 7fdfc24b9200 of size 4948992 next 37\n",
      "2023-07-16 15:21:15.798458: I tensorflow/tsl/framework/bfc_allocator.cc:1095] InUse at 7fdfc2971600 of size 256 next 20\n",
      "2023-07-16 15:21:15.798465: I tensorflow/tsl/framework/bfc_allocator.cc:1095] InUse at 7fdfc2971700 of size 256 next 62\n",
      "2023-07-16 15:21:15.798472: I tensorflow/tsl/framework/bfc_allocator.cc:1095] InUse at 7fdfc2971800 of size 256 next 244\n",
      "2023-07-16 15:21:15.798480: I tensorflow/tsl/framework/bfc_allocator.cc:1095] InUse at 7fdfc2971900 of size 256 next 247\n",
      "2023-07-16 15:21:15.798487: I tensorflow/tsl/framework/bfc_allocator.cc:1095] InUse at 7fdfc2971a00 of size 256 next 248\n",
      "2023-07-16 15:21:15.798494: I tensorflow/tsl/framework/bfc_allocator.cc:1095] InUse at 7fdfc2971b00 of size 256 next 249\n",
      "2023-07-16 15:21:15.798501: I tensorflow/tsl/framework/bfc_allocator.cc:1095] InUse at 7fdfc2971c00 of size 256 next 250\n",
      "2023-07-16 15:21:15.798509: I tensorflow/tsl/framework/bfc_allocator.cc:1095] InUse at 7fdfc2971d00 of size 512 next 252\n",
      "2023-07-16 15:21:15.798516: I tensorflow/tsl/framework/bfc_allocator.cc:1095] InUse at 7fdfc2971f00 of size 512 next 253\n",
      "2023-07-16 15:21:15.798523: I tensorflow/tsl/framework/bfc_allocator.cc:1095] InUse at 7fdfc2972100 of size 256 next 255\n",
      "2023-07-16 15:21:15.798530: I tensorflow/tsl/framework/bfc_allocator.cc:1095] InUse at 7fdfc2972200 of size 256 next 256\n",
      "2023-07-16 15:21:15.798538: I tensorflow/tsl/framework/bfc_allocator.cc:1095] InUse at 7fdfc2972300 of size 256 next 257\n",
      "2023-07-16 15:21:15.798545: I tensorflow/tsl/framework/bfc_allocator.cc:1095] InUse at 7fdfc2972400 of size 256 next 258\n",
      "2023-07-16 15:21:15.798552: I tensorflow/tsl/framework/bfc_allocator.cc:1095] InUse at 7fdfc2972500 of size 256 next 259\n",
      "2023-07-16 15:21:15.798559: I tensorflow/tsl/framework/bfc_allocator.cc:1095] InUse at 7fdfc2972600 of size 256 next 260\n",
      "2023-07-16 15:21:15.798567: I tensorflow/tsl/framework/bfc_allocator.cc:1095] InUse at 7fdfc2972700 of size 256 next 42\n",
      "2023-07-16 15:21:15.798574: I tensorflow/tsl/framework/bfc_allocator.cc:1095] InUse at 7fdfc2972800 of size 7936 next 70\n",
      "2023-07-16 15:21:15.798582: I tensorflow/tsl/framework/bfc_allocator.cc:1095] InUse at 7fdfc2974700 of size 256 next 149\n",
      "2023-07-16 15:21:15.798589: I tensorflow/tsl/framework/bfc_allocator.cc:1095] InUse at 7fdfc2974800 of size 256 next 150\n",
      "2023-07-16 15:21:15.798596: I tensorflow/tsl/framework/bfc_allocator.cc:1095] InUse at 7fdfc2974900 of size 256 next 47\n",
      "2023-07-16 15:21:15.798604: I tensorflow/tsl/framework/bfc_allocator.cc:1095] InUse at 7fdfc2974a00 of size 256 next 152\n",
      "2023-07-16 15:21:15.798611: I tensorflow/tsl/framework/bfc_allocator.cc:1095] InUse at 7fdfc2974b00 of size 512 next 33\n",
      "2023-07-16 15:21:15.798618: I tensorflow/tsl/framework/bfc_allocator.cc:1095] InUse at 7fdfc2974d00 of size 256 next 78\n",
      "2023-07-16 15:21:15.798625: I tensorflow/tsl/framework/bfc_allocator.cc:1095] InUse at 7fdfc2974e00 of size 256 next 96\n",
      "2023-07-16 15:21:15.798632: I tensorflow/tsl/framework/bfc_allocator.cc:1095] InUse at 7fdfc2974f00 of size 256 next 80\n",
      "2023-07-16 15:21:15.798640: I tensorflow/tsl/framework/bfc_allocator.cc:1095] InUse at 7fdfc2975000 of size 256 next 83\n",
      "2023-07-16 15:21:15.798647: I tensorflow/tsl/framework/bfc_allocator.cc:1095] InUse at 7fdfc2975100 of size 256 next 86\n",
      "2023-07-16 15:21:15.798656: I tensorflow/tsl/framework/bfc_allocator.cc:1095] InUse at 7fdfc2975200 of size 256 next 79\n",
      "2023-07-16 15:21:15.798693: I tensorflow/tsl/framework/bfc_allocator.cc:1095] InUse at 7fdfc2975300 of size 256 next 92\n",
      "2023-07-16 15:21:15.798702: I tensorflow/tsl/framework/bfc_allocator.cc:1095] InUse at 7fdfc2975400 of size 256 next 57\n",
      "2023-07-16 15:21:15.798710: I tensorflow/tsl/framework/bfc_allocator.cc:1095] InUse at 7fdfc2975500 of size 307712 next 68\n",
      "2023-07-16 15:21:15.798718: I tensorflow/tsl/framework/bfc_allocator.cc:1095] InUse at 7fdfc29c0700 of size 7936 next 44\n",
      "2023-07-16 15:21:15.798725: I tensorflow/tsl/framework/bfc_allocator.cc:1095] InUse at 7fdfc29c2600 of size 4608 next 129\n",
      "2023-07-16 15:21:15.798733: I tensorflow/tsl/framework/bfc_allocator.cc:1095] InUse at 7fdfc29c3800 of size 1280 next 131\n",
      "2023-07-16 15:21:15.798740: I tensorflow/tsl/framework/bfc_allocator.cc:1095] InUse at 7fdfc29c3d00 of size 256 next 143\n",
      "2023-07-16 15:21:15.798748: I tensorflow/tsl/framework/bfc_allocator.cc:1095] InUse at 7fdfc29c3e00 of size 512 next 146\n",
      "2023-07-16 15:21:15.798755: I tensorflow/tsl/framework/bfc_allocator.cc:1095] InUse at 7fdfc29c4000 of size 512 next 132\n",
      "2023-07-16 15:21:15.798762: I tensorflow/tsl/framework/bfc_allocator.cc:1095] InUse at 7fdfc29c4200 of size 256 next 138\n",
      "2023-07-16 15:21:15.798770: I tensorflow/tsl/framework/bfc_allocator.cc:1095] InUse at 7fdfc29c4300 of size 256 next 155\n",
      "2023-07-16 15:21:15.798777: I tensorflow/tsl/framework/bfc_allocator.cc:1095] InUse at 7fdfc29c4400 of size 256 next 46\n",
      "2023-07-16 15:21:15.798784: I tensorflow/tsl/framework/bfc_allocator.cc:1095] InUse at 7fdfc29c4500 of size 256 next 148\n"
     ]
    },
    {
     "name": "stderr",
     "output_type": "stream",
     "text": [
      "2023-07-16 15:21:15.798791: I tensorflow/tsl/framework/bfc_allocator.cc:1095] InUse at 7fdfc29c4600 of size 256 next 151\n",
      "2023-07-16 15:21:15.798799: I tensorflow/tsl/framework/bfc_allocator.cc:1095] InUse at 7fdfc29c4700 of size 256 next 141\n",
      "2023-07-16 15:21:15.798806: I tensorflow/tsl/framework/bfc_allocator.cc:1095] InUse at 7fdfc29c4800 of size 256 next 142\n",
      "2023-07-16 15:21:15.798814: I tensorflow/tsl/framework/bfc_allocator.cc:1095] InUse at 7fdfc29c4900 of size 2304 next 87\n",
      "2023-07-16 15:21:15.798821: I tensorflow/tsl/framework/bfc_allocator.cc:1095] InUse at 7fdfc29c5200 of size 256 next 98\n",
      "2023-07-16 15:21:15.798829: I tensorflow/tsl/framework/bfc_allocator.cc:1095] InUse at 7fdfc29c5300 of size 512 next 104\n",
      "2023-07-16 15:21:15.798836: I tensorflow/tsl/framework/bfc_allocator.cc:1095] InUse at 7fdfc29c5500 of size 256 next 103\n",
      "2023-07-16 15:21:15.798844: I tensorflow/tsl/framework/bfc_allocator.cc:1095] InUse at 7fdfc29c5600 of size 4096 next 90\n",
      "2023-07-16 15:21:15.798852: I tensorflow/tsl/framework/bfc_allocator.cc:1095] InUse at 7fdfc29c6600 of size 8192 next 84\n",
      "2023-07-16 15:21:15.798860: I tensorflow/tsl/framework/bfc_allocator.cc:1095] InUse at 7fdfc29c8600 of size 256 next 88\n",
      "2023-07-16 15:21:15.798867: I tensorflow/tsl/framework/bfc_allocator.cc:1095] InUse at 7fdfc29c8700 of size 256 next 106\n",
      "2023-07-16 15:21:15.798874: I tensorflow/tsl/framework/bfc_allocator.cc:1095] InUse at 7fdfc29c8800 of size 256 next 97\n",
      "2023-07-16 15:21:15.798882: I tensorflow/tsl/framework/bfc_allocator.cc:1095] InUse at 7fdfc29c8900 of size 256 next 89\n",
      "2023-07-16 15:21:15.798889: I tensorflow/tsl/framework/bfc_allocator.cc:1095] InUse at 7fdfc29c8a00 of size 256 next 102\n",
      "2023-07-16 15:21:15.798897: I tensorflow/tsl/framework/bfc_allocator.cc:1095] InUse at 7fdfc29c8b00 of size 5632 next 99\n",
      "2023-07-16 15:21:15.798905: I tensorflow/tsl/framework/bfc_allocator.cc:1095] InUse at 7fdfc29ca100 of size 4608 next 107\n",
      "2023-07-16 15:21:15.798912: I tensorflow/tsl/framework/bfc_allocator.cc:1095] InUse at 7fdfc29cb300 of size 256 next 122\n",
      "2023-07-16 15:21:15.798919: I tensorflow/tsl/framework/bfc_allocator.cc:1095] InUse at 7fdfc29cb400 of size 256 next 101\n",
      "2023-07-16 15:21:15.798926: I tensorflow/tsl/framework/bfc_allocator.cc:1095] InUse at 7fdfc29cb500 of size 256 next 123\n",
      "2023-07-16 15:21:15.798935: I tensorflow/tsl/framework/bfc_allocator.cc:1095] InUse at 7fdfc29cb600 of size 256 next 105\n",
      "2023-07-16 15:21:15.798943: I tensorflow/tsl/framework/bfc_allocator.cc:1095] InUse at 7fdfc29cb700 of size 512 next 124\n",
      "2023-07-16 15:21:15.798950: I tensorflow/tsl/framework/bfc_allocator.cc:1095] InUse at 7fdfc29cb900 of size 512 next 111\n",
      "2023-07-16 15:21:15.798957: I tensorflow/tsl/framework/bfc_allocator.cc:1095] InUse at 7fdfc29cbb00 of size 7936 next 116\n",
      "2023-07-16 15:21:15.798965: I tensorflow/tsl/framework/bfc_allocator.cc:1095] InUse at 7fdfc29cda00 of size 256 next 115\n",
      "2023-07-16 15:21:15.798972: I tensorflow/tsl/framework/bfc_allocator.cc:1095] InUse at 7fdfc29cdb00 of size 256 next 117\n",
      "2023-07-16 15:21:15.798979: I tensorflow/tsl/framework/bfc_allocator.cc:1095] InUse at 7fdfc29cdc00 of size 256 next 91\n",
      "2023-07-16 15:21:15.798986: I tensorflow/tsl/framework/bfc_allocator.cc:1095] InUse at 7fdfc29cdd00 of size 256 next 128\n",
      "2023-07-16 15:21:15.798994: I tensorflow/tsl/framework/bfc_allocator.cc:1095] InUse at 7fdfc29cde00 of size 256 next 118\n",
      "2023-07-16 15:21:15.799001: I tensorflow/tsl/framework/bfc_allocator.cc:1095] InUse at 7fdfc29cdf00 of size 1792 next 45\n",
      "2023-07-16 15:21:15.799009: I tensorflow/tsl/framework/bfc_allocator.cc:1095] InUse at 7fdfc29ce600 of size 256 next 127\n",
      "2023-07-16 15:21:15.799017: I tensorflow/tsl/framework/bfc_allocator.cc:1095] InUse at 7fdfc29ce700 of size 512 next 125\n",
      "2023-07-16 15:21:15.799024: I tensorflow/tsl/framework/bfc_allocator.cc:1095] InUse at 7fdfc29ce900 of size 256 next 130\n",
      "2023-07-16 15:21:15.799031: I tensorflow/tsl/framework/bfc_allocator.cc:1095] InUse at 7fdfc29cea00 of size 256 next 133\n",
      "2023-07-16 15:21:15.799039: I tensorflow/tsl/framework/bfc_allocator.cc:1095] InUse at 7fdfc29ceb00 of size 256 next 134\n",
      "2023-07-16 15:21:15.799046: I tensorflow/tsl/framework/bfc_allocator.cc:1095] InUse at 7fdfc29cec00 of size 256 next 135\n",
      "2023-07-16 15:21:15.799053: I tensorflow/tsl/framework/bfc_allocator.cc:1095] InUse at 7fdfc29ced00 of size 256 next 119\n",
      "2023-07-16 15:21:15.799060: I tensorflow/tsl/framework/bfc_allocator.cc:1095] InUse at 7fdfc29cee00 of size 256 next 120\n",
      "2023-07-16 15:21:15.799068: I tensorflow/tsl/framework/bfc_allocator.cc:1095] InUse at 7fdfc29cef00 of size 3328 next 121\n",
      "2023-07-16 15:21:15.799075: I tensorflow/tsl/framework/bfc_allocator.cc:1095] InUse at 7fdfc29cfc00 of size 4608 next 114\n",
      "2023-07-16 15:21:15.799083: I tensorflow/tsl/framework/bfc_allocator.cc:1095] InUse at 7fdfc29d0e00 of size 37120 next 72\n",
      "2023-07-16 15:21:15.799091: I tensorflow/tsl/framework/bfc_allocator.cc:1095] InUse at 7fdfc29d9f00 of size 4608 next 254\n",
      "2023-07-16 15:21:15.799098: I tensorflow/tsl/framework/bfc_allocator.cc:1095] InUse at 7fdfc29db100 of size 256 next 276\n",
      "2023-07-16 15:21:15.799105: I tensorflow/tsl/framework/bfc_allocator.cc:1095] InUse at 7fdfc29db200 of size 256 next 272\n",
      "2023-07-16 15:21:15.799113: I tensorflow/tsl/framework/bfc_allocator.cc:1095] InUse at 7fdfc29db300 of size 256 next 269\n",
      "2023-07-16 15:21:15.799120: I tensorflow/tsl/framework/bfc_allocator.cc:1095] InUse at 7fdfc29db400 of size 256 next 267\n",
      "2023-07-16 15:21:15.799127: I tensorflow/tsl/framework/bfc_allocator.cc:1095] InUse at 7fdfc29db500 of size 256 next 281\n",
      "2023-07-16 15:21:15.799134: I tensorflow/tsl/framework/bfc_allocator.cc:1095] InUse at 7fdfc29db600 of size 256 next 273\n",
      "2023-07-16 15:21:15.799142: I tensorflow/tsl/framework/bfc_allocator.cc:1095] InUse at 7fdfc29db700 of size 256 next 264\n",
      "2023-07-16 15:21:15.799149: I tensorflow/tsl/framework/bfc_allocator.cc:1095] InUse at 7fdfc29db800 of size 256 next 268\n",
      "2023-07-16 15:21:15.799156: I tensorflow/tsl/framework/bfc_allocator.cc:1095] InUse at 7fdfc29db900 of size 256 next 266\n",
      "2023-07-16 15:21:15.799163: I tensorflow/tsl/framework/bfc_allocator.cc:1095] InUse at 7fdfc29dba00 of size 256 next 274\n",
      "2023-07-16 15:21:15.799171: I tensorflow/tsl/framework/bfc_allocator.cc:1095] InUse at 7fdfc29dbb00 of size 9728 next 263\n",
      "2023-07-16 15:21:15.799180: I tensorflow/tsl/framework/bfc_allocator.cc:1095] InUse at 7fdfc29de100 of size 256 next 277\n",
      "2023-07-16 15:21:15.799187: I tensorflow/tsl/framework/bfc_allocator.cc:1095] InUse at 7fdfc29de200 of size 256 next 279\n",
      "2023-07-16 15:21:15.799195: I tensorflow/tsl/framework/bfc_allocator.cc:1095] InUse at 7fdfc29de300 of size 256 next 283\n",
      "2023-07-16 15:21:15.799202: I tensorflow/tsl/framework/bfc_allocator.cc:1095] InUse at 7fdfc29de400 of size 768 next 287\n",
      "2023-07-16 15:21:15.799210: I tensorflow/tsl/framework/bfc_allocator.cc:1095] InUse at 7fdfc29de700 of size 5120 next 262\n",
      "2023-07-16 15:21:15.799217: I tensorflow/tsl/framework/bfc_allocator.cc:1095] InUse at 7fdfc29dfb00 of size 256 next 261\n",
      "2023-07-16 15:21:15.799225: I tensorflow/tsl/framework/bfc_allocator.cc:1095] InUse at 7fdfc29dfc00 of size 512 next 275\n",
      "2023-07-16 15:21:15.799232: I tensorflow/tsl/framework/bfc_allocator.cc:1095] InUse at 7fdfc29dfe00 of size 4608 next 271\n",
      "2023-07-16 15:21:15.799240: I tensorflow/tsl/framework/bfc_allocator.cc:1095] InUse at 7fdfc29e1000 of size 8192 next 265\n",
      "2023-07-16 15:21:15.799247: I tensorflow/tsl/framework/bfc_allocator.cc:1095] InUse at 7fdfc29e3000 of size 256 next 294\n",
      "2023-07-16 15:21:15.799254: I tensorflow/tsl/framework/bfc_allocator.cc:1095] InUse at 7fdfc29e3100 of size 512 next 297\n",
      "2023-07-16 15:21:15.799262: I tensorflow/tsl/framework/bfc_allocator.cc:1095] InUse at 7fdfc29e3300 of size 7424 next 282\n",
      "2023-07-16 15:21:15.799269: I tensorflow/tsl/framework/bfc_allocator.cc:1095] InUse at 7fdfc29e5000 of size 256 next 288\n",
      "2023-07-16 15:21:15.799277: I tensorflow/tsl/framework/bfc_allocator.cc:1095] InUse at 7fdfc29e5100 of size 256 next 289\n",
      "2023-07-16 15:21:15.799284: I tensorflow/tsl/framework/bfc_allocator.cc:1095] InUse at 7fdfc29e5200 of size 256 next 284\n",
      "2023-07-16 15:21:15.799291: I tensorflow/tsl/framework/bfc_allocator.cc:1095] InUse at 7fdfc29e5300 of size 256 next 308\n",
      "2023-07-16 15:21:15.799298: I tensorflow/tsl/framework/bfc_allocator.cc:1095] InUse at 7fdfc29e5400 of size 256 next 300\n",
      "2023-07-16 15:21:15.799306: I tensorflow/tsl/framework/bfc_allocator.cc:1095] InUse at 7fdfc29e5500 of size 256 next 304\n",
      "2023-07-16 15:21:15.799313: I tensorflow/tsl/framework/bfc_allocator.cc:1095] InUse at 7fdfc29e5600 of size 256 next 301\n",
      "2023-07-16 15:21:15.799320: I tensorflow/tsl/framework/bfc_allocator.cc:1095] InUse at 7fdfc29e5700 of size 256 next 299\n",
      "2023-07-16 15:21:15.799328: I tensorflow/tsl/framework/bfc_allocator.cc:1095] InUse at 7fdfc29e5800 of size 512 next 298\n",
      "2023-07-16 15:21:15.799335: I tensorflow/tsl/framework/bfc_allocator.cc:1095] InUse at 7fdfc29e5a00 of size 256 next 303\n",
      "2023-07-16 15:21:15.799342: I tensorflow/tsl/framework/bfc_allocator.cc:1095] InUse at 7fdfc29e5b00 of size 256 next 309\n",
      "2023-07-16 15:21:15.799349: I tensorflow/tsl/framework/bfc_allocator.cc:1095] InUse at 7fdfc29e5c00 of size 256 next 313\n",
      "2023-07-16 15:21:15.799357: I tensorflow/tsl/framework/bfc_allocator.cc:1095] InUse at 7fdfc29e5d00 of size 256 next 314\n",
      "2023-07-16 15:21:15.799364: I tensorflow/tsl/framework/bfc_allocator.cc:1095] InUse at 7fdfc29e5e00 of size 256 next 317\n",
      "2023-07-16 15:21:15.799371: I tensorflow/tsl/framework/bfc_allocator.cc:1095] InUse at 7fdfc29e5f00 of size 256 next 318\n",
      "2023-07-16 15:21:15.799378: I tensorflow/tsl/framework/bfc_allocator.cc:1095] InUse at 7fdfc29e6000 of size 256 next 320\n",
      "2023-07-16 15:21:15.799386: I tensorflow/tsl/framework/bfc_allocator.cc:1095] InUse at 7fdfc29e6100 of size 256 next 321\n",
      "2023-07-16 15:21:15.799393: I tensorflow/tsl/framework/bfc_allocator.cc:1095] InUse at 7fdfc29e6200 of size 512 next 291\n",
      "2023-07-16 15:21:15.799400: I tensorflow/tsl/framework/bfc_allocator.cc:1095] InUse at 7fdfc29e6400 of size 256 next 292\n",
      "2023-07-16 15:21:15.799408: I tensorflow/tsl/framework/bfc_allocator.cc:1095] InUse at 7fdfc29e6500 of size 8192 next 293\n",
      "2023-07-16 15:21:15.799415: I tensorflow/tsl/framework/bfc_allocator.cc:1095] InUse at 7fdfc29e8500 of size 3328 next 316\n",
      "2023-07-16 15:21:15.799424: I tensorflow/tsl/framework/bfc_allocator.cc:1095] InUse at 7fdfc29e9200 of size 512 next 323\n",
      "2023-07-16 15:21:15.799431: I tensorflow/tsl/framework/bfc_allocator.cc:1095] InUse at 7fdfc29e9400 of size 256 next 326\n",
      "2023-07-16 15:21:15.799439: I tensorflow/tsl/framework/bfc_allocator.cc:1095] InUse at 7fdfc29e9500 of size 256 next 327\n",
      "2023-07-16 15:21:15.799446: I tensorflow/tsl/framework/bfc_allocator.cc:1095] InUse at 7fdfc29e9600 of size 256 next 328\n",
      "2023-07-16 15:21:15.799453: I tensorflow/tsl/framework/bfc_allocator.cc:1095] InUse at 7fdfc29e9700 of size 256 next 329\n",
      "2023-07-16 15:21:15.799460: I tensorflow/tsl/framework/bfc_allocator.cc:1095] InUse at 7fdfc29e9800 of size 256 next 330\n",
      "2023-07-16 15:21:15.799468: I tensorflow/tsl/framework/bfc_allocator.cc:1095] InUse at 7fdfc29e9900 of size 256 next 331\n",
      "2023-07-16 15:21:15.799475: I tensorflow/tsl/framework/bfc_allocator.cc:1095] InUse at 7fdfc29e9a00 of size 256 next 332\n",
      "2023-07-16 15:21:15.799482: I tensorflow/tsl/framework/bfc_allocator.cc:1095] InUse at 7fdfc29e9b00 of size 256 next 333\n",
      "2023-07-16 15:21:15.799489: I tensorflow/tsl/framework/bfc_allocator.cc:1095] InUse at 7fdfc29e9c00 of size 256 next 344\n",
      "2023-07-16 15:21:15.799497: I tensorflow/tsl/framework/bfc_allocator.cc:1095] InUse at 7fdfc29e9d00 of size 256 next 342\n",
      "2023-07-16 15:21:15.799504: I tensorflow/tsl/framework/bfc_allocator.cc:1095] InUse at 7fdfc29e9e00 of size 256 next 305\n",
      "2023-07-16 15:21:15.799511: I tensorflow/tsl/framework/bfc_allocator.cc:1095] InUse at 7fdfc29e9f00 of size 3328 next 310\n",
      "2023-07-16 15:21:15.799519: I tensorflow/tsl/framework/bfc_allocator.cc:1095] InUse at 7fdfc29eac00 of size 4608 next 312\n",
      "2023-07-16 15:21:15.799526: I tensorflow/tsl/framework/bfc_allocator.cc:1095] InUse at 7fdfc29ebe00 of size 4608 next 306\n",
      "2023-07-16 15:21:15.799533: I tensorflow/tsl/framework/bfc_allocator.cc:1095] InUse at 7fdfc29ed000 of size 4608 next 324\n",
      "2023-07-16 15:21:15.799541: I tensorflow/tsl/framework/bfc_allocator.cc:1095] InUse at 7fdfc29ee200 of size 4608 next 325\n",
      "2023-07-16 15:21:15.799548: I tensorflow/tsl/framework/bfc_allocator.cc:1095] InUse at 7fdfc29ef400 of size 256 next 337\n",
      "2023-07-16 15:21:15.799555: I tensorflow/tsl/framework/bfc_allocator.cc:1095] InUse at 7fdfc29ef500 of size 256 next 338\n",
      "2023-07-16 15:21:15.799563: I tensorflow/tsl/framework/bfc_allocator.cc:1095] InUse at 7fdfc29ef600 of size 256 next 343\n",
      "2023-07-16 15:21:15.799570: I tensorflow/tsl/framework/bfc_allocator.cc:1095] InUse at 7fdfc29ef700 of size 256 next 340\n",
      "2023-07-16 15:21:15.799577: I tensorflow/tsl/framework/bfc_allocator.cc:1095] InUse at 7fdfc29ef800 of size 256 next 339\n",
      "2023-07-16 15:21:15.799585: I tensorflow/tsl/framework/bfc_allocator.cc:1095] InUse at 7fdfc29ef900 of size 6144 next 335\n",
      "2023-07-16 15:21:15.799592: I tensorflow/tsl/framework/bfc_allocator.cc:1095] InUse at 7fdfc29f1100 of size 256 next 349\n",
      "2023-07-16 15:21:15.799600: I tensorflow/tsl/framework/bfc_allocator.cc:1095] InUse at 7fdfc29f1200 of size 512 next 341\n",
      "2023-07-16 15:21:15.799607: I tensorflow/tsl/framework/bfc_allocator.cc:1095] InUse at 7fdfc29f1400 of size 4608 next 353\n",
      "2023-07-16 15:21:15.799614: I tensorflow/tsl/framework/bfc_allocator.cc:1095] InUse at 7fdfc29f2600 of size 256 next 366\n",
      "2023-07-16 15:21:15.799622: I tensorflow/tsl/framework/bfc_allocator.cc:1095] InUse at 7fdfc29f2700 of size 256 next 334\n",
      "2023-07-16 15:21:15.799629: I tensorflow/tsl/framework/bfc_allocator.cc:1095] InUse at 7fdfc29f2800 of size 256 next 347\n",
      "2023-07-16 15:21:15.799636: I tensorflow/tsl/framework/bfc_allocator.cc:1095] InUse at 7fdfc29f2900 of size 512 next 368\n",
      "2023-07-16 15:21:15.799644: I tensorflow/tsl/framework/bfc_allocator.cc:1095] InUse at 7fdfc29f2b00 of size 512 next 355\n",
      "2023-07-16 15:21:15.799651: I tensorflow/tsl/framework/bfc_allocator.cc:1095] InUse at 7fdfc29f2d00 of size 256 next 360\n",
      "2023-07-16 15:21:15.799658: I tensorflow/tsl/framework/bfc_allocator.cc:1095] InUse at 7fdfc29f2e00 of size 256 next 361\n",
      "2023-07-16 15:21:15.799667: I tensorflow/tsl/framework/bfc_allocator.cc:1095] InUse at 7fdfc29f2f00 of size 256 next 370\n",
      "2023-07-16 15:21:15.799674: I tensorflow/tsl/framework/bfc_allocator.cc:1095] InUse at 7fdfc29f3000 of size 256 next 379\n",
      "2023-07-16 15:21:15.799681: I tensorflow/tsl/framework/bfc_allocator.cc:1095] InUse at 7fdfc29f3100 of size 256 next 362\n",
      "2023-07-16 15:21:15.799688: I tensorflow/tsl/framework/bfc_allocator.cc:1095] InUse at 7fdfc29f3200 of size 256 next 376\n",
      "2023-07-16 15:21:15.799696: I tensorflow/tsl/framework/bfc_allocator.cc:1095] InUse at 7fdfc29f3300 of size 256 next 369\n",
      "2023-07-16 15:21:15.799703: I tensorflow/tsl/framework/bfc_allocator.cc:1095] InUse at 7fdfc29f3400 of size 256 next 372\n",
      "2023-07-16 15:21:15.799710: I tensorflow/tsl/framework/bfc_allocator.cc:1095] InUse at 7fdfc29f3500 of size 512 next 377\n",
      "2023-07-16 15:21:15.799717: I tensorflow/tsl/framework/bfc_allocator.cc:1095] InUse at 7fdfc29f3700 of size 256 next 375\n",
      "2023-07-16 15:21:15.799725: I tensorflow/tsl/framework/bfc_allocator.cc:1095] InUse at 7fdfc29f3800 of size 256 next 381\n",
      "2023-07-16 15:21:15.799732: I tensorflow/tsl/framework/bfc_allocator.cc:1095] InUse at 7fdfc29f3900 of size 256 next 382\n",
      "2023-07-16 15:21:15.799739: I tensorflow/tsl/framework/bfc_allocator.cc:1095] InUse at 7fdfc29f3a00 of size 256 next 385\n",
      "2023-07-16 15:21:15.799747: I tensorflow/tsl/framework/bfc_allocator.cc:1095] InUse at 7fdfc29f3b00 of size 256 next 386\n",
      "2023-07-16 15:21:15.799754: I tensorflow/tsl/framework/bfc_allocator.cc:1095] InUse at 7fdfc29f3c00 of size 256 next 76\n",
      "2023-07-16 15:21:15.799761: I tensorflow/tsl/framework/bfc_allocator.cc:1095] InUse at 7fdfc29f3d00 of size 9041408 next 34\n",
      "2023-07-16 15:21:15.799770: I tensorflow/tsl/framework/bfc_allocator.cc:1095] InUse at 7fdfc3293300 of size 2768896 next 140\n",
      "2023-07-16 15:21:15.799778: I tensorflow/tsl/framework/bfc_allocator.cc:1095] InUse at 7fdfc3537300 of size 262144 next 295\n",
      "2023-07-16 15:21:15.799786: I tensorflow/tsl/framework/bfc_allocator.cc:1095] InUse at 7fdfc3577300 of size 102400 next 319\n",
      "2023-07-16 15:21:15.799794: I tensorflow/tsl/framework/bfc_allocator.cc:1095] InUse at 7fdfc3590300 of size 256 next 351\n",
      "2023-07-16 15:21:15.799801: I tensorflow/tsl/framework/bfc_allocator.cc:1095] InUse at 7fdfc3590400 of size 256 next 350\n",
      "2023-07-16 15:21:15.799809: I tensorflow/tsl/framework/bfc_allocator.cc:1095] InUse at 7fdfc3590500 of size 4096 next 348\n",
      "2023-07-16 15:21:15.799816: I tensorflow/tsl/framework/bfc_allocator.cc:1095] InUse at 7fdfc3591500 of size 200192 next 336\n",
      "2023-07-16 15:21:15.799824: I tensorflow/tsl/framework/bfc_allocator.cc:1095] InUse at 7fdfc35c2300 of size 256 next 346\n",
      "2023-07-16 15:21:15.799832: I tensorflow/tsl/framework/bfc_allocator.cc:1095] InUse at 7fdfc35c2400 of size 102656 next 345\n",
      "2023-07-16 15:21:15.799840: I tensorflow/tsl/framework/bfc_allocator.cc:1095] InUse at 7fdfc35db500 of size 4608 next 358\n",
      "2023-07-16 15:21:15.799847: I tensorflow/tsl/framework/bfc_allocator.cc:1095] InUse at 7fdfc35dc700 of size 4608 next 359\n",
      "2023-07-16 15:21:15.799854: I tensorflow/tsl/framework/bfc_allocator.cc:1095] InUse at 7fdfc35dd900 of size 4608 next 373\n",
      "2023-07-16 15:21:15.799862: I tensorflow/tsl/framework/bfc_allocator.cc:1095] InUse at 7fdfc35deb00 of size 5376 next 371\n",
      "2023-07-16 15:21:15.799869: I tensorflow/tsl/framework/bfc_allocator.cc:1095] InUse at 7fdfc35e0000 of size 4608 next 380\n",
      "2023-07-16 15:21:15.799877: I tensorflow/tsl/framework/bfc_allocator.cc:1095] InUse at 7fdfc35e1200 of size 256 next 396\n",
      "2023-07-16 15:21:15.799884: I tensorflow/tsl/framework/bfc_allocator.cc:1095] InUse at 7fdfc35e1300 of size 512 next 399\n",
      "2023-07-16 15:21:15.799892: I tensorflow/tsl/framework/bfc_allocator.cc:1095] InUse at 7fdfc35e1500 of size 512 next 374\n",
      "2023-07-16 15:21:15.799899: I tensorflow/tsl/framework/bfc_allocator.cc:1095] InUse at 7fdfc35e1700 of size 7680 next 391\n",
      "2023-07-16 15:21:15.799908: I tensorflow/tsl/framework/bfc_allocator.cc:1095] Free  at 7fdfc35e3500 of size 4864 next 393\n",
      "2023-07-16 15:21:15.799917: I tensorflow/tsl/framework/bfc_allocator.cc:1095] InUse at 7fdfc35e4800 of size 256 next 394\n",
      "2023-07-16 15:21:15.799924: I tensorflow/tsl/framework/bfc_allocator.cc:1095] InUse at 7fdfc35e4900 of size 3328 next 395\n",
      "2023-07-16 15:21:15.799932: I tensorflow/tsl/framework/bfc_allocator.cc:1095] InUse at 7fdfc35e5600 of size 4608 next 389\n",
      "2023-07-16 15:21:15.799939: I tensorflow/tsl/framework/bfc_allocator.cc:1095] Free  at 7fdfc35e6800 of size 67840 next 363\n",
      "2023-07-16 15:21:15.799946: I tensorflow/tsl/framework/bfc_allocator.cc:1095] InUse at 7fdfc35f7100 of size 256 next 364\n",
      "2023-07-16 15:21:15.799954: I tensorflow/tsl/framework/bfc_allocator.cc:1095] InUse at 7fdfc35f7200 of size 3328 next 365\n",
      "2023-07-16 15:21:15.799961: I tensorflow/tsl/framework/bfc_allocator.cc:1095] InUse at 7fdfc35f7f00 of size 102400 next 367\n",
      "2023-07-16 15:21:15.799969: I tensorflow/tsl/framework/bfc_allocator.cc:1095] InUse at 7fdfc3610f00 of size 102400 next 378\n",
      "2023-07-16 15:21:15.799976: I tensorflow/tsl/framework/bfc_allocator.cc:1095] InUse at 7fdfc3629f00 of size 102400 next 383\n",
      "2023-07-16 15:21:15.799983: I tensorflow/tsl/framework/bfc_allocator.cc:1095] Free  at 7fdfc3642f00 of size 102400 next 384\n",
      "2023-07-16 15:21:15.799991: I tensorflow/tsl/framework/bfc_allocator.cc:1095] InUse at 7fdfc365bf00 of size 102400 next 397\n",
      "2023-07-16 15:21:15.799998: I tensorflow/tsl/framework/bfc_allocator.cc:1095] Free  at 7fdfc3674f00 of size 1467392 next 50\n",
      "2023-07-16 15:21:15.800006: I tensorflow/tsl/framework/bfc_allocator.cc:1095] InUse at 7fdfc37db300 of size 4050688 next 38\n",
      "2023-07-16 15:21:15.800013: I tensorflow/tsl/framework/bfc_allocator.cc:1095] InUse at 7fdfc3bb8200 of size 256 next 197\n",
      "2023-07-16 15:21:15.800021: I tensorflow/tsl/framework/bfc_allocator.cc:1095] InUse at 7fdfc3bb8300 of size 256 next 187\n",
      "2023-07-16 15:21:15.800028: I tensorflow/tsl/framework/bfc_allocator.cc:1095] InUse at 7fdfc3bb8400 of size 256 next 184\n",
      "2023-07-16 15:21:15.800035: I tensorflow/tsl/framework/bfc_allocator.cc:1095] InUse at 7fdfc3bb8500 of size 256 next 200\n",
      "2023-07-16 15:21:15.800043: I tensorflow/tsl/framework/bfc_allocator.cc:1095] InUse at 7fdfc3bb8600 of size 768 next 203\n",
      "2023-07-16 15:21:15.800050: I tensorflow/tsl/framework/bfc_allocator.cc:1095] InUse at 7fdfc3bb8900 of size 256 next 190\n",
      "2023-07-16 15:21:15.800057: I tensorflow/tsl/framework/bfc_allocator.cc:1095] InUse at 7fdfc3bb8a00 of size 256 next 204\n",
      "2023-07-16 15:21:15.800065: I tensorflow/tsl/framework/bfc_allocator.cc:1095] InUse at 7fdfc3bb8b00 of size 256 next 206\n",
      "2023-07-16 15:21:15.800072: I tensorflow/tsl/framework/bfc_allocator.cc:1095] InUse at 7fdfc3bb8c00 of size 256 next 207\n",
      "2023-07-16 15:21:15.800079: I tensorflow/tsl/framework/bfc_allocator.cc:1095] InUse at 7fdfc3bb8d00 of size 256 next 208\n",
      "2023-07-16 15:21:15.800086: I tensorflow/tsl/framework/bfc_allocator.cc:1095] InUse at 7fdfc3bb8e00 of size 256 next 210\n",
      "2023-07-16 15:21:15.800094: I tensorflow/tsl/framework/bfc_allocator.cc:1095] InUse at 7fdfc3bb8f00 of size 512 next 213\n",
      "2023-07-16 15:21:15.800101: I tensorflow/tsl/framework/bfc_allocator.cc:1095] InUse at 7fdfc3bb9100 of size 256 next 222\n",
      "2023-07-16 15:21:15.800108: I tensorflow/tsl/framework/bfc_allocator.cc:1095] InUse at 7fdfc3bb9200 of size 256 next 217\n",
      "2023-07-16 15:21:15.800116: I tensorflow/tsl/framework/bfc_allocator.cc:1095] InUse at 7fdfc3bb9300 of size 256 next 177\n",
      "2023-07-16 15:21:15.800123: I tensorflow/tsl/framework/bfc_allocator.cc:1095] InUse at 7fdfc3bb9400 of size 20992 next 180\n",
      "2023-07-16 15:21:15.800131: I tensorflow/tsl/framework/bfc_allocator.cc:1095] InUse at 7fdfc3bbe600 of size 12800 next 193\n",
      "2023-07-16 15:21:15.800139: I tensorflow/tsl/framework/bfc_allocator.cc:1095] InUse at 7fdfc3bc1800 of size 4608 next 201\n",
      "2023-07-16 15:21:15.800146: I tensorflow/tsl/framework/bfc_allocator.cc:1095] InUse at 7fdfc3bc2a00 of size 12800 next 205\n",
      "2023-07-16 15:21:15.800154: I tensorflow/tsl/framework/bfc_allocator.cc:1095] InUse at 7fdfc3bc5c00 of size 12800 next 209\n",
      "2023-07-16 15:21:15.800162: I tensorflow/tsl/framework/bfc_allocator.cc:1095] InUse at 7fdfc3bc8e00 of size 256 next 220\n",
      "2023-07-16 15:21:15.800170: I tensorflow/tsl/framework/bfc_allocator.cc:1095] InUse at 7fdfc3bc8f00 of size 256 next 221\n",
      "2023-07-16 15:21:15.800177: I tensorflow/tsl/framework/bfc_allocator.cc:1095] InUse at 7fdfc3bc9000 of size 256 next 223\n",
      "2023-07-16 15:21:15.800184: I tensorflow/tsl/framework/bfc_allocator.cc:1095] InUse at 7fdfc3bc9100 of size 256 next 225\n",
      "2023-07-16 15:21:15.800192: I tensorflow/tsl/framework/bfc_allocator.cc:1095] InUse at 7fdfc3bc9200 of size 768 next 229\n",
      "2023-07-16 15:21:15.800199: I tensorflow/tsl/framework/bfc_allocator.cc:1095] InUse at 7fdfc3bc9500 of size 256 next 231\n",
      "2023-07-16 15:21:15.800206: I tensorflow/tsl/framework/bfc_allocator.cc:1095] InUse at 7fdfc3bc9600 of size 256 next 230\n",
      "2023-07-16 15:21:15.800214: I tensorflow/tsl/framework/bfc_allocator.cc:1095] InUse at 7fdfc3bc9700 of size 512 next 234\n",
      "2023-07-16 15:21:15.800221: I tensorflow/tsl/framework/bfc_allocator.cc:1095] InUse at 7fdfc3bc9900 of size 256 next 235\n",
      "2023-07-16 15:21:15.800228: I tensorflow/tsl/framework/bfc_allocator.cc:1095] InUse at 7fdfc3bc9a00 of size 256 next 237\n",
      "2023-07-16 15:21:15.800236: I tensorflow/tsl/framework/bfc_allocator.cc:1095] InUse at 7fdfc3bc9b00 of size 512 next 240\n",
      "2023-07-16 15:21:15.800243: I tensorflow/tsl/framework/bfc_allocator.cc:1095] InUse at 7fdfc3bc9d00 of size 256 next 241\n",
      "2023-07-16 15:21:15.800251: I tensorflow/tsl/framework/bfc_allocator.cc:1095] InUse at 7fdfc3bc9e00 of size 256 next 43\n",
      "2023-07-16 15:21:15.800258: I tensorflow/tsl/framework/bfc_allocator.cc:1095] InUse at 7fdfc3bc9f00 of size 256 next 51\n",
      "2023-07-16 15:21:15.800265: I tensorflow/tsl/framework/bfc_allocator.cc:1095] InUse at 7fdfc3bca000 of size 256 next 216\n",
      "2023-07-16 15:21:15.800273: I tensorflow/tsl/framework/bfc_allocator.cc:1095] InUse at 7fdfc3bca100 of size 256 next 215\n",
      "2023-07-16 15:21:15.800280: I tensorflow/tsl/framework/bfc_allocator.cc:1095] InUse at 7fdfc3bca200 of size 512 next 218\n",
      "2023-07-16 15:21:15.800287: I tensorflow/tsl/framework/bfc_allocator.cc:1095] InUse at 7fdfc3bca400 of size 4608 next 219\n",
      "2023-07-16 15:21:15.800295: I tensorflow/tsl/framework/bfc_allocator.cc:1095] InUse at 7fdfc3bcb600 of size 23552 next 41\n",
      "2023-07-16 15:21:15.800304: I tensorflow/tsl/framework/bfc_allocator.cc:1095] InUse at 7fdfc3bd1200 of size 36864 next 93\n",
      "2023-07-16 15:21:15.800312: I tensorflow/tsl/framework/bfc_allocator.cc:1095] InUse at 7fdfc3bda200 of size 12800 next 53\n",
      "2023-07-16 15:21:15.800320: I tensorflow/tsl/framework/bfc_allocator.cc:1095] InUse at 7fdfc3bdd400 of size 12800 next 242\n",
      "2023-07-16 15:21:15.800328: I tensorflow/tsl/framework/bfc_allocator.cc:1095] InUse at 7fdfc3be0600 of size 12800 next 69\n",
      "2023-07-16 15:21:15.800335: I tensorflow/tsl/framework/bfc_allocator.cc:1095] InUse at 7fdfc3be3800 of size 8192 next 73\n",
      "2023-07-16 15:21:15.800342: I tensorflow/tsl/framework/bfc_allocator.cc:1095] InUse at 7fdfc3be5800 of size 8192 next 60\n",
      "2023-07-16 15:21:15.800350: I tensorflow/tsl/framework/bfc_allocator.cc:1095] InUse at 7fdfc3be7800 of size 4608 next 245\n",
      "2023-07-16 15:21:15.800357: I tensorflow/tsl/framework/bfc_allocator.cc:1095] InUse at 7fdfc3be8a00 of size 6144 next 81\n",
      "2023-07-16 15:21:15.800365: I tensorflow/tsl/framework/bfc_allocator.cc:1095] InUse at 7fdfc3bea200 of size 102400 next 82\n",
      "2023-07-16 15:21:15.800372: I tensorflow/tsl/framework/bfc_allocator.cc:1095] InUse at 7fdfc3c03200 of size 4608 next 139\n",
      "2023-07-16 15:21:15.800379: I tensorflow/tsl/framework/bfc_allocator.cc:1095] InUse at 7fdfc3c04400 of size 36864 next 144\n",
      "2023-07-16 15:21:15.800387: I tensorflow/tsl/framework/bfc_allocator.cc:1095] InUse at 7fdfc3c0d400 of size 4608 next 137\n",
      "2023-07-16 15:21:15.800394: I tensorflow/tsl/framework/bfc_allocator.cc:1095] InUse at 7fdfc3c0e600 of size 12800 next 163\n",
      "2023-07-16 15:21:15.800402: I tensorflow/tsl/framework/bfc_allocator.cc:1095] InUse at 7fdfc3c11800 of size 256 next 175\n",
      "2023-07-16 15:21:15.800411: I tensorflow/tsl/framework/bfc_allocator.cc:1095] InUse at 7fdfc3c11900 of size 256 next 176\n",
      "2023-07-16 15:21:15.800418: I tensorflow/tsl/framework/bfc_allocator.cc:1095] InUse at 7fdfc3c11a00 of size 256 next 189\n",
      "2023-07-16 15:21:15.800425: I tensorflow/tsl/framework/bfc_allocator.cc:1095] InUse at 7fdfc3c11b00 of size 256 next 178\n",
      "2023-07-16 15:21:15.800433: I tensorflow/tsl/framework/bfc_allocator.cc:1095] InUse at 7fdfc3c11c00 of size 256 next 188\n",
      "2023-07-16 15:21:15.800440: I tensorflow/tsl/framework/bfc_allocator.cc:1095] InUse at 7fdfc3c11d00 of size 256 next 181\n",
      "2023-07-16 15:21:15.800447: I tensorflow/tsl/framework/bfc_allocator.cc:1095] InUse at 7fdfc3c11e00 of size 256 next 182\n",
      "2023-07-16 15:21:15.800454: I tensorflow/tsl/framework/bfc_allocator.cc:1095] InUse at 7fdfc3c11f00 of size 256 next 194\n",
      "2023-07-16 15:21:15.800462: I tensorflow/tsl/framework/bfc_allocator.cc:1095] InUse at 7fdfc3c12000 of size 256 next 179\n",
      "2023-07-16 15:21:15.800469: I tensorflow/tsl/framework/bfc_allocator.cc:1095] InUse at 7fdfc3c12100 of size 256 next 186\n",
      "2023-07-16 15:21:15.800476: I tensorflow/tsl/framework/bfc_allocator.cc:1095] InUse at 7fdfc3c12200 of size 256 next 196\n",
      "2023-07-16 15:21:15.800483: I tensorflow/tsl/framework/bfc_allocator.cc:1095] InUse at 7fdfc3c12300 of size 256 next 183\n",
      "2023-07-16 15:21:15.800491: I tensorflow/tsl/framework/bfc_allocator.cc:1095] InUse at 7fdfc3c12400 of size 512 next 195\n",
      "2023-07-16 15:21:15.800498: I tensorflow/tsl/framework/bfc_allocator.cc:1095] InUse at 7fdfc3c12600 of size 4608 next 185\n",
      "2023-07-16 15:21:15.800505: I tensorflow/tsl/framework/bfc_allocator.cc:1095] InUse at 7fdfc3c13800 of size 4608 next 71\n",
      "2023-07-16 15:21:15.800513: I tensorflow/tsl/framework/bfc_allocator.cc:1095] InUse at 7fdfc3c14a00 of size 12800 next 30\n",
      "2023-07-16 15:21:15.800520: I tensorflow/tsl/framework/bfc_allocator.cc:1095] InUse at 7fdfc3c17c00 of size 4608 next 158\n",
      "2023-07-16 15:21:15.800528: I tensorflow/tsl/framework/bfc_allocator.cc:1095] InUse at 7fdfc3c18e00 of size 13312 next 94\n",
      "2023-07-16 15:21:15.800536: I tensorflow/tsl/framework/bfc_allocator.cc:1095] InUse at 7fdfc3c1c200 of size 102400 next 108\n",
      "2023-07-16 15:21:15.800543: I tensorflow/tsl/framework/bfc_allocator.cc:1095] InUse at 7fdfc3c35200 of size 4608 next 226\n",
      "2023-07-16 15:21:15.800550: I tensorflow/tsl/framework/bfc_allocator.cc:1095] InUse at 7fdfc3c36400 of size 4608 next 214\n",
      "2023-07-16 15:21:15.800558: I tensorflow/tsl/framework/bfc_allocator.cc:1095] InUse at 7fdfc3c37600 of size 12800 next 232\n",
      "2023-07-16 15:21:15.800565: I tensorflow/tsl/framework/bfc_allocator.cc:1095] InUse at 7fdfc3c3a800 of size 12800 next 236\n",
      "2023-07-16 15:21:15.800573: I tensorflow/tsl/framework/bfc_allocator.cc:1095] InUse at 7fdfc3c3da00 of size 67584 next 109\n",
      "2023-07-16 15:21:15.800580: I tensorflow/tsl/framework/bfc_allocator.cc:1095] InUse at 7fdfc3c4e200 of size 102400 next 100\n",
      "2023-07-16 15:21:15.800588: I tensorflow/tsl/framework/bfc_allocator.cc:1095] InUse at 7fdfc3c67200 of size 118528 next 147\n",
      "2023-07-16 15:21:15.800596: I tensorflow/tsl/framework/bfc_allocator.cc:1095] InUse at 7fdfc3c84100 of size 409600 next 166\n",
      "2023-07-16 15:21:15.800604: I tensorflow/tsl/framework/bfc_allocator.cc:1095] InUse at 7fdfc3ce8100 of size 409600 next 153\n",
      "2023-07-16 15:21:15.800611: I tensorflow/tsl/framework/bfc_allocator.cc:1095] InUse at 7fdfc3d4c100 of size 409600 next 154\n",
      "2023-07-16 15:21:15.800619: I tensorflow/tsl/framework/bfc_allocator.cc:1095] InUse at 7fdfc3db0100 of size 409600 next 191\n",
      "2023-07-16 15:21:15.800626: I tensorflow/tsl/framework/bfc_allocator.cc:1095] InUse at 7fdfc3e14100 of size 409600 next 198\n",
      "2023-07-16 15:21:15.800633: I tensorflow/tsl/framework/bfc_allocator.cc:1095] InUse at 7fdfc3e78100 of size 409600 next 199\n",
      "2023-07-16 15:21:15.800641: I tensorflow/tsl/framework/bfc_allocator.cc:1095] InUse at 7fdfc3edc100 of size 409600 next 211\n",
      "2023-07-16 15:21:15.800648: I tensorflow/tsl/framework/bfc_allocator.cc:1095] InUse at 7fdfc3f40100 of size 409600 next 224\n",
      "2023-07-16 15:21:15.800657: I tensorflow/tsl/framework/bfc_allocator.cc:1095] InUse at 7fdfc3fa4100 of size 338592000 next 246\n",
      "2023-07-16 15:21:15.800665: I tensorflow/tsl/framework/bfc_allocator.cc:1095] Free  at 7fdfd828c200 of size 424695296 next 35\n",
      "2023-07-16 15:21:15.800673: I tensorflow/tsl/framework/bfc_allocator.cc:1095] InUse at 7fdff1791800 of size 4734976 next 85\n",
      "2023-07-16 15:21:15.800680: I tensorflow/tsl/framework/bfc_allocator.cc:1095] InUse at 7fdff1c15800 of size 4734976 next 95\n",
      "2023-07-16 15:21:15.800688: I tensorflow/tsl/framework/bfc_allocator.cc:1095] InUse at 7fdff2099800 of size 4734976 next 112\n",
      "2023-07-16 15:21:15.800695: I tensorflow/tsl/framework/bfc_allocator.cc:1095] InUse at 7fdff251d800 of size 4734976 next 113\n",
      "2023-07-16 15:21:15.800703: I tensorflow/tsl/framework/bfc_allocator.cc:1095] InUse at 7fdff29a1800 of size 4734976 next 110\n",
      "2023-07-16 15:21:15.800710: I tensorflow/tsl/framework/bfc_allocator.cc:1095] InUse at 7fdff2e25800 of size 5308416 next 126\n",
      "2023-07-16 15:21:15.800718: I tensorflow/tsl/framework/bfc_allocator.cc:1095] InUse at 7fdff3335800 of size 5308416 next 136\n",
      "2023-07-16 15:21:15.800727: I tensorflow/tsl/framework/bfc_allocator.cc:1095] InUse at 7fdff3845800 of size 5308416 next 145\n",
      "2023-07-16 15:21:15.800734: I tensorflow/tsl/framework/bfc_allocator.cc:1095] InUse at 7fdff3d55800 of size 758048000 next 290\n",
      "2023-07-16 15:21:15.800742: I tensorflow/tsl/framework/bfc_allocator.cc:1095] InUse at 7fe021043d00 of size 338592000 next 161\n",
      "2023-07-16 15:21:15.800750: I tensorflow/tsl/framework/bfc_allocator.cc:1095] InUse at 7fe03532be00 of size 2768896 next 192\n",
      "2023-07-16 15:21:15.800757: I tensorflow/tsl/framework/bfc_allocator.cc:1095] InUse at 7fe0355cfe00 of size 2768896 next 202\n",
      "2023-07-16 15:21:15.800764: I tensorflow/tsl/framework/bfc_allocator.cc:1095] InUse at 7fe035873e00 of size 2768896 next 212\n",
      "2023-07-16 15:21:15.800772: I tensorflow/tsl/framework/bfc_allocator.cc:1095] InUse at 7fe035b17e00 of size 2768896 next 227\n",
      "2023-07-16 15:21:15.800779: I tensorflow/tsl/framework/bfc_allocator.cc:1095] InUse at 7fe035dbbe00 of size 409600 next 233\n",
      "2023-07-16 15:21:15.800786: I tensorflow/tsl/framework/bfc_allocator.cc:1095] InUse at 7fe035e1fe00 of size 409600 next 58\n",
      "2023-07-16 15:21:15.800794: I tensorflow/tsl/framework/bfc_allocator.cc:1095] InUse at 7fe035e83e00 of size 409600 next 54\n",
      "2023-07-16 15:21:15.800801: I tensorflow/tsl/framework/bfc_allocator.cc:1095] InUse at 7fe035ee7e00 of size 409600 next 77\n",
      "2023-07-16 15:21:15.800809: I tensorflow/tsl/framework/bfc_allocator.cc:1095] InUse at 7fe035f4be00 of size 262144 next 15\n",
      "2023-07-16 15:21:15.800816: I tensorflow/tsl/framework/bfc_allocator.cc:1095] InUse at 7fe035f8be00 of size 262144 next 278\n",
      "2023-07-16 15:21:15.800823: I tensorflow/tsl/framework/bfc_allocator.cc:1095] InUse at 7fe035fcbe00 of size 262144 next 280\n",
      "2023-07-16 15:21:15.800831: I tensorflow/tsl/framework/bfc_allocator.cc:1095] InUse at 7fe03600be00 of size 52992 next 315\n",
      "2023-07-16 15:21:15.800839: I tensorflow/tsl/framework/bfc_allocator.cc:1095] InUse at 7fe036018d00 of size 151808 next 311\n",
      "2023-07-16 15:21:15.800847: I tensorflow/tsl/framework/bfc_allocator.cc:1095] InUse at 7fe03603de00 of size 139264 next 228\n",
      "2023-07-16 15:21:15.800856: I tensorflow/tsl/framework/bfc_allocator.cc:1095] InUse at 7fe03605fe00 of size 409600 next 238\n",
      "2023-07-16 15:21:15.800863: I tensorflow/tsl/framework/bfc_allocator.cc:1095] InUse at 7fe0360c3e00 of size 2768896 next 239\n",
      "2023-07-16 15:21:15.800871: I tensorflow/tsl/framework/bfc_allocator.cc:1095] InUse at 7fe036367e00 of size 3211264 next 251\n",
      "2023-07-16 15:21:15.800878: I tensorflow/tsl/framework/bfc_allocator.cc:1095] InUse at 7fe036677e00 of size 3211264 next 243\n",
      "2023-07-16 15:21:15.800886: I tensorflow/tsl/framework/bfc_allocator.cc:1095] InUse at 7fe036987e00 of size 3211264 next 25\n",
      "2023-07-16 15:21:15.800893: I tensorflow/tsl/framework/bfc_allocator.cc:1095] InUse at 7fe036c97e00 of size 3211264 next 270\n",
      "2023-07-16 15:21:15.800902: I tensorflow/tsl/framework/bfc_allocator.cc:1095] InUse at 7fe036fa7e00 of size 3211264 next 285\n",
      "2023-07-16 15:21:15.800910: I tensorflow/tsl/framework/bfc_allocator.cc:1095] Free  at 7fe0372b7e00 of size 3211264 next 286\n",
      "2023-07-16 15:21:15.800917: I tensorflow/tsl/framework/bfc_allocator.cc:1095] InUse at 7fe0375c7e00 of size 3211264 next 296\n",
      "2023-07-16 15:21:15.800924: I tensorflow/tsl/framework/bfc_allocator.cc:1095] InUse at 7fe0378d7e00 of size 4734976 next 322\n",
      "2023-07-16 15:21:15.800932: I tensorflow/tsl/framework/bfc_allocator.cc:1095] InUse at 7fe037d5be00 of size 4734976 next 302\n",
      "2023-07-16 15:21:15.800939: I tensorflow/tsl/framework/bfc_allocator.cc:1095] InUse at 7fe0381dfe00 of size 4734976 next 307\n",
      "2023-07-16 15:21:15.800946: I tensorflow/tsl/framework/bfc_allocator.cc:1095] InUse at 7fe038663e00 of size 4734976 next 352\n",
      "2023-07-16 15:21:15.800954: I tensorflow/tsl/framework/bfc_allocator.cc:1095] InUse at 7fe038ae7e00 of size 4734976 next 356\n",
      "2023-07-16 15:21:15.800961: I tensorflow/tsl/framework/bfc_allocator.cc:1095] InUse at 7fe038f6be00 of size 4734976 next 357\n",
      "2023-07-16 15:21:15.800968: I tensorflow/tsl/framework/bfc_allocator.cc:1095] InUse at 7fe0393efe00 of size 4734976 next 354\n",
      "2023-07-16 15:21:15.800976: I tensorflow/tsl/framework/bfc_allocator.cc:1095] InUse at 7fe039873e00 of size 4734976 next 387\n",
      "2023-07-16 15:21:15.800983: I tensorflow/tsl/framework/bfc_allocator.cc:1095] Free  at 7fe039cf7e00 of size 4734976 next 388\n",
      "2023-07-16 15:21:15.800990: I tensorflow/tsl/framework/bfc_allocator.cc:1095] InUse at 7fe03a17be00 of size 4734976 next 398\n",
      "2023-07-16 15:21:15.800998: I tensorflow/tsl/framework/bfc_allocator.cc:1095] Free  at 7fe03a5ffe00 of size 156893696 next 18446744073709551615\n",
      "2023-07-16 15:21:15.801005: I tensorflow/tsl/framework/bfc_allocator.cc:1100]      Summary of in-use Chunks by size: \n",
      "2023-07-16 15:21:15.801018: I tensorflow/tsl/framework/bfc_allocator.cc:1103] 218 Chunks of size 256 totalling 54.5KiB\n",
      "2023-07-16 15:21:15.801028: I tensorflow/tsl/framework/bfc_allocator.cc:1103] 30 Chunks of size 512 totalling 15.0KiB\n",
      "2023-07-16 15:21:15.801036: I tensorflow/tsl/framework/bfc_allocator.cc:1103] 3 Chunks of size 768 totalling 2.2KiB\n",
      "2023-07-16 15:21:15.801045: I tensorflow/tsl/framework/bfc_allocator.cc:1103] 2 Chunks of size 1280 totalling 2.5KiB\n",
      "2023-07-16 15:21:15.801053: I tensorflow/tsl/framework/bfc_allocator.cc:1103] 1 Chunks of size 1792 totalling 1.8KiB\n",
      "2023-07-16 15:21:15.801061: I tensorflow/tsl/framework/bfc_allocator.cc:1103] 1 Chunks of size 2304 totalling 2.2KiB\n",
      "2023-07-16 15:21:15.801070: I tensorflow/tsl/framework/bfc_allocator.cc:1103] 5 Chunks of size 3328 totalling 16.2KiB\n",
      "2023-07-16 15:21:15.801078: I tensorflow/tsl/framework/bfc_allocator.cc:1103] 2 Chunks of size 4096 totalling 8.0KiB\n",
      "2023-07-16 15:21:15.801087: I tensorflow/tsl/framework/bfc_allocator.cc:1103] 26 Chunks of size 4608 totalling 117.0KiB\n",
      "2023-07-16 15:21:15.801096: I tensorflow/tsl/framework/bfc_allocator.cc:1103] 2 Chunks of size 5120 totalling 10.0KiB\n",
      "2023-07-16 15:21:15.801104: I tensorflow/tsl/framework/bfc_allocator.cc:1103] 1 Chunks of size 5376 totalling 5.2KiB\n",
      "2023-07-16 15:21:15.801112: I tensorflow/tsl/framework/bfc_allocator.cc:1103] 1 Chunks of size 5632 totalling 5.5KiB\n",
      "2023-07-16 15:21:15.801121: I tensorflow/tsl/framework/bfc_allocator.cc:1103] 2 Chunks of size 6144 totalling 12.0KiB\n",
      "2023-07-16 15:21:15.801129: I tensorflow/tsl/framework/bfc_allocator.cc:1103] 1 Chunks of size 7424 totalling 7.2KiB\n",
      "2023-07-16 15:21:15.801137: I tensorflow/tsl/framework/bfc_allocator.cc:1103] 1 Chunks of size 7680 totalling 7.5KiB\n",
      "2023-07-16 15:21:15.801146: I tensorflow/tsl/framework/bfc_allocator.cc:1103] 3 Chunks of size 7936 totalling 23.2KiB\n",
      "2023-07-16 15:21:15.801154: I tensorflow/tsl/framework/bfc_allocator.cc:1103] 5 Chunks of size 8192 totalling 40.0KiB\n",
      "2023-07-16 15:21:15.801162: I tensorflow/tsl/framework/bfc_allocator.cc:1103] 1 Chunks of size 9728 totalling 9.5KiB\n",
      "2023-07-16 15:21:15.801172: I tensorflow/tsl/framework/bfc_allocator.cc:1103] 10 Chunks of size 12800 totalling 125.0KiB\n",
      "2023-07-16 15:21:15.801181: I tensorflow/tsl/framework/bfc_allocator.cc:1103] 1 Chunks of size 13312 totalling 13.0KiB\n",
      "2023-07-16 15:21:15.801189: I tensorflow/tsl/framework/bfc_allocator.cc:1103] 1 Chunks of size 20992 totalling 20.5KiB\n",
      "2023-07-16 15:21:15.801198: I tensorflow/tsl/framework/bfc_allocator.cc:1103] 1 Chunks of size 23552 totalling 23.0KiB\n",
      "2023-07-16 15:21:15.801206: I tensorflow/tsl/framework/bfc_allocator.cc:1103] 2 Chunks of size 36864 totalling 72.0KiB\n",
      "2023-07-16 15:21:15.801214: I tensorflow/tsl/framework/bfc_allocator.cc:1103] 1 Chunks of size 37120 totalling 36.2KiB\n",
      "2023-07-16 15:21:15.801223: I tensorflow/tsl/framework/bfc_allocator.cc:1103] 1 Chunks of size 52992 totalling 51.8KiB\n",
      "2023-07-16 15:21:15.801231: I tensorflow/tsl/framework/bfc_allocator.cc:1103] 1 Chunks of size 67584 totalling 66.0KiB\n",
      "2023-07-16 15:21:15.801240: I tensorflow/tsl/framework/bfc_allocator.cc:1103] 8 Chunks of size 102400 totalling 800.0KiB\n",
      "2023-07-16 15:21:15.801249: I tensorflow/tsl/framework/bfc_allocator.cc:1103] 1 Chunks of size 102656 totalling 100.2KiB\n",
      "2023-07-16 15:21:15.801257: I tensorflow/tsl/framework/bfc_allocator.cc:1103] 1 Chunks of size 118528 totalling 115.8KiB\n",
      "2023-07-16 15:21:15.801266: I tensorflow/tsl/framework/bfc_allocator.cc:1103] 1 Chunks of size 139264 totalling 136.0KiB\n",
      "2023-07-16 15:21:15.801274: I tensorflow/tsl/framework/bfc_allocator.cc:1103] 1 Chunks of size 151808 totalling 148.2KiB\n",
      "2023-07-16 15:21:15.801283: I tensorflow/tsl/framework/bfc_allocator.cc:1103] 1 Chunks of size 200192 totalling 195.5KiB\n",
      "2023-07-16 15:21:15.801291: I tensorflow/tsl/framework/bfc_allocator.cc:1103] 4 Chunks of size 262144 totalling 1.00MiB\n",
      "2023-07-16 15:21:15.801299: I tensorflow/tsl/framework/bfc_allocator.cc:1103] 1 Chunks of size 307712 totalling 300.5KiB\n",
      "2023-07-16 15:21:15.801308: I tensorflow/tsl/framework/bfc_allocator.cc:1103] 13 Chunks of size 409600 totalling 5.08MiB\n",
      "2023-07-16 15:21:15.801316: I tensorflow/tsl/framework/bfc_allocator.cc:1103] 6 Chunks of size 2768896 totalling 15.84MiB\n",
      "2023-07-16 15:21:15.801325: I tensorflow/tsl/framework/bfc_allocator.cc:1103] 6 Chunks of size 3211264 totalling 18.38MiB\n",
      "2023-07-16 15:21:15.801333: I tensorflow/tsl/framework/bfc_allocator.cc:1103] 1 Chunks of size 4050688 totalling 3.86MiB\n",
      "2023-07-16 15:21:15.801342: I tensorflow/tsl/framework/bfc_allocator.cc:1103] 14 Chunks of size 4734976 totalling 63.22MiB\n",
      "2023-07-16 15:21:15.801350: I tensorflow/tsl/framework/bfc_allocator.cc:1103] 1 Chunks of size 4925952 totalling 4.70MiB\n",
      "2023-07-16 15:21:15.801358: I tensorflow/tsl/framework/bfc_allocator.cc:1103] 1 Chunks of size 4948992 totalling 4.72MiB\n",
      "2023-07-16 15:21:15.801367: I tensorflow/tsl/framework/bfc_allocator.cc:1103] 3 Chunks of size 5308416 totalling 15.19MiB\n",
      "2023-07-16 15:21:15.801375: I tensorflow/tsl/framework/bfc_allocator.cc:1103] 1 Chunks of size 9041408 totalling 8.62MiB\n",
      "2023-07-16 15:21:15.801384: I tensorflow/tsl/framework/bfc_allocator.cc:1103] 2 Chunks of size 338592000 totalling 645.81MiB\n",
      "2023-07-16 15:21:15.801393: I tensorflow/tsl/framework/bfc_allocator.cc:1103] 1 Chunks of size 758048000 totalling 722.93MiB\n",
      "2023-07-16 15:21:15.801401: I tensorflow/tsl/framework/bfc_allocator.cc:1107] Sum Total of in-use chunks: 1.48GiB\n",
      "2023-07-16 15:21:15.801411: I tensorflow/tsl/framework/bfc_allocator.cc:1109] Total bytes in pool: 2176450560 memory_limit_: 2176450560 available bytes: 0 curr_region_allocation_bytes_: 4352901120\n",
      "2023-07-16 15:21:15.801427: I tensorflow/tsl/framework/bfc_allocator.cc:1114] Stats: \n",
      "Limit:                      2176450560\n",
      "InUse:                      1585272832\n",
      "MaxInUse:                   2072805120\n",
      "NumAllocs:                     3630057\n",
      "MaxAllocSize:                763287296\n",
      "Reserved:                            0\n",
      "PeakReserved:                        0\n",
      "LargestFreeBlock:                    0\n",
      "\n",
      "2023-07-16 15:21:15.801457: W tensorflow/tsl/framework/bfc_allocator.cc:497] ******************__________________*********************************************************_______\n"
     ]
    }
   ],
   "source": [
    "m_cnn5_rate001.evaluate(X_test, y_test)"
   ]
  },
  {
   "cell_type": "code",
   "execution_count": null,
   "id": "bc09bffc",
   "metadata": {},
   "outputs": [],
   "source": []
  }
 ],
 "metadata": {
  "kernelspec": {
   "display_name": "Python 3 (ipykernel)",
   "language": "python",
   "name": "python3"
  },
  "language_info": {
   "codemirror_mode": {
    "name": "ipython",
    "version": 3
   },
   "file_extension": ".py",
   "mimetype": "text/x-python",
   "name": "python",
   "nbconvert_exporter": "python",
   "pygments_lexer": "ipython3",
   "version": "3.10.6"
  }
 },
 "nbformat": 4,
 "nbformat_minor": 5
}
