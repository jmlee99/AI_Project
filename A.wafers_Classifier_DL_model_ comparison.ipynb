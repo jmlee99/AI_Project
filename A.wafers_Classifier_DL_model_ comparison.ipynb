{
 "cells": [
  {
   "cell_type": "code",
   "execution_count": 2,
   "id": "ad03551b",
   "metadata": {},
   "outputs": [
    {
     "name": "stderr",
     "output_type": "stream",
     "text": [
      "2023-07-17 16:13:41.918120: I tensorflow/core/util/port.cc:110] oneDNN custom operations are on. You may see slightly different numerical results due to floating-point round-off errors from different computation orders. To turn them off, set the environment variable `TF_ENABLE_ONEDNN_OPTS=0`.\n",
      "2023-07-17 16:13:42.216006: I tensorflow/core/platform/cpu_feature_guard.cc:182] This TensorFlow binary is optimized to use available CPU instructions in performance-critical operations.\n",
      "To enable the following instructions: AVX2 AVX512F AVX512_VNNI FMA, in other operations, rebuild TensorFlow with the appropriate compiler flags.\n",
      "2023-07-17 16:13:43.995339: W tensorflow/compiler/tf2tensorrt/utils/py_utils.cc:38] TF-TRT Warning: Could not find TensorRT\n"
     ]
    }
   ],
   "source": [
    "import numpy as np\n",
    "import pandas as pd\n",
    "import matplotlib.pyplot as plt\n",
    "import seaborn as sns\n",
    "import os\n",
    "import pickle\n",
    "import time\n",
    "os.environ[\"CUDA_VISIBLE_DEVICES\"] = \"0\"\n",
    "\n",
    "from sklearn.tree import DecisionTreeClassifier, plot_tree\n",
    "from sklearn import metrics\n",
    "from sklearn.metrics import RocCurveDisplay, roc_auc_score\n",
    "from sklearn.preprocessing import LabelEncoder, MinMaxScaler, StandardScaler\n",
    "\n",
    "\n",
    "from tensorflow import keras\n",
    "import tensorflow as tf"
   ]
  },
  {
   "cell_type": "code",
   "execution_count": 3,
   "id": "e82c6296",
   "metadata": {},
   "outputs": [],
   "source": [
    "# 리눅스 한글 설정\n",
    "plt.rc('font', family = 'NanumGothic')"
   ]
  },
  {
   "cell_type": "code",
   "execution_count": 4,
   "id": "9cbd75f6",
   "metadata": {},
   "outputs": [],
   "source": [
    "df = pd.read_pickle('mywafer.pkl')"
   ]
  },
  {
   "cell_type": "code",
   "execution_count": 5,
   "id": "eae7c2de",
   "metadata": {},
   "outputs": [],
   "source": [
    "df_train = df[df['train_test_label']=='Training']\n",
    "df_test = df[df['train_test_label']=='Test']\n",
    "df_real = df[df['train_test_label'].isna()]"
   ]
  },
  {
   "cell_type": "code",
   "execution_count": 6,
   "id": "2214b2be",
   "metadata": {},
   "outputs": [],
   "source": [
    "X_tr = df_train['wafermap_reshape'].apply(lambda x: np.array(x))"
   ]
  },
  {
   "cell_type": "code",
   "execution_count": 7,
   "id": "9ef9e6dc",
   "metadata": {},
   "outputs": [],
   "source": [
    "X_te = df_test['wafermap_reshape'].apply(lambda x: np.array(x))"
   ]
  },
  {
   "cell_type": "code",
   "execution_count": 8,
   "id": "ac03e0c5",
   "metadata": {},
   "outputs": [],
   "source": [
    "X_test = np.array([x for x in X_te])"
   ]
  },
  {
   "cell_type": "code",
   "execution_count": 9,
   "id": "7fd5dfb2",
   "metadata": {},
   "outputs": [],
   "source": [
    "X_train = np.array([x for x in X_tr])"
   ]
  },
  {
   "cell_type": "code",
   "execution_count": 10,
   "id": "d719dd7c",
   "metadata": {},
   "outputs": [],
   "source": [
    "y_train = df_train['failure_type'].astype('category').cat.codes\n",
    "y_test = df_test['failure_type'].astype('category').cat.codes"
   ]
  },
  {
   "cell_type": "markdown",
   "id": "5a0bd904",
   "metadata": {},
   "source": [
    "### CNN_model 불러오기"
   ]
  },
  {
   "cell_type": "code",
   "execution_count": 12,
   "id": "4b5aba95",
   "metadata": {},
   "outputs": [],
   "source": [
    "m_cnn55 = tf.keras.models.load_model('model_CNN.h5')\n",
    "m_cnn33 = tf.keras.models.load_model('model_CNN33.h5')"
   ]
  },
  {
   "cell_type": "code",
   "execution_count": 13,
   "id": "734303c6",
   "metadata": {},
   "outputs": [
    {
     "name": "stderr",
     "output_type": "stream",
     "text": [
      "2023-07-16 15:39:33.416366: I tensorflow/compiler/xla/stream_executor/cuda/cuda_dnn.cc:424] Loaded cuDNN version 8902\n"
     ]
    },
    {
     "name": "stdout",
     "output_type": "stream",
     "text": [
      "  35/3702 [..............................] - ETA: 17s - loss: 0.3054 - accuracy: 0.9536  "
     ]
    },
    {
     "name": "stderr",
     "output_type": "stream",
     "text": [
      "2023-07-16 15:39:35.227085: I tensorflow/compiler/xla/stream_executor/cuda/cuda_blas.cc:637] TensorFloat-32 will be used for the matrix multiplication. This will only be logged once.\n"
     ]
    },
    {
     "name": "stdout",
     "output_type": "stream",
     "text": [
      "3702/3702 [==============================] - 20s 4ms/step - loss: 1.0204 - accuracy: 0.7480\n"
     ]
    },
    {
     "data": {
      "text/plain": [
       "[1.0203837156295776, 0.7480011582374573]"
      ]
     },
     "execution_count": 13,
     "metadata": {},
     "output_type": "execute_result"
    }
   ],
   "source": [
    "m_cnn55.evaluate(X_test, y_test)"
   ]
  },
  {
   "cell_type": "code",
   "execution_count": 14,
   "id": "d578fb62",
   "metadata": {},
   "outputs": [
    {
     "name": "stdout",
     "output_type": "stream",
     "text": [
      "3702/3702 [==============================] - 15s 4ms/step - loss: 1.2765 - accuracy: 0.7116\n"
     ]
    },
    {
     "data": {
      "text/plain": [
       "[1.2764838933944702, 0.7115792036056519]"
      ]
     },
     "execution_count": 14,
     "metadata": {},
     "output_type": "execute_result"
    }
   ],
   "source": [
    "m_cnn33.evaluate(X_test, y_test)"
   ]
  },
  {
   "cell_type": "markdown",
   "id": "9052ab23",
   "metadata": {},
   "source": [
    "## CNN모델은 kernel size가 (5,5)인것이 (3,3)인것 보다 좋은 정확도를 보인다.\n",
    "### kernel size가 크면 좋은 성능을 보일까? ==> (10,10)으로 다시 만들어보자"
   ]
  },
  {
   "cell_type": "code",
   "execution_count": 19,
   "id": "5c3ce06b",
   "metadata": {},
   "outputs": [
    {
     "name": "stdout",
     "output_type": "stream",
     "text": [
      "Model: \"sequential\"\n",
      "_________________________________________________________________\n",
      " Layer (type)                Output Shape              Param #   \n",
      "=================================================================\n",
      " conv2d (Conv2D)             (None, 71, 71, 32)        3232      \n",
      "                                                                 \n",
      " max_pooling2d (MaxPooling2D  (None, 35, 35, 32)       0         \n",
      " )                                                               \n",
      "                                                                 \n",
      " conv2d_1 (Conv2D)           (None, 26, 26, 32)        102432    \n",
      "                                                                 \n",
      " max_pooling2d_1 (MaxPooling  (None, 13, 13, 32)       0         \n",
      " 2D)                                                             \n",
      "                                                                 \n",
      " flatten (Flatten)           (None, 5408)              0         \n",
      "                                                                 \n",
      " dense (Dense)               (None, 128)               692352    \n",
      "                                                                 \n",
      " dense_1 (Dense)             (None, 9)                 1161      \n",
      "                                                                 \n",
      "=================================================================\n",
      "Total params: 799,177\n",
      "Trainable params: 799,177\n",
      "Non-trainable params: 0\n",
      "_________________________________________________________________\n"
     ]
    }
   ],
   "source": [
    "# CNN kernel_size를 (10,10)으로 설정\n",
    "model = keras.Sequential([\n",
    "    keras.layers.Conv2D(32, kernel_size=(10,10), activation = 'relu', input_shape=(80, 80, 1),\n",
    "                       padding = 'valid', data_format = 'channels_last'), # 2D는 평면\n",
    "    keras.layers.MaxPooling2D(pool_size = (2,2)),\n",
    "    keras.layers.Conv2D(32, kernel_size = (10,10), activation='relu'),\n",
    "    keras.layers.MaxPooling2D(pool_size = (2,2)),\n",
    "    keras.layers.Flatten(),\n",
    "    keras.layers.Dense(128, activation='relu'),\n",
    "    #keras.layers.Dense(64, activation='relu'),\n",
    "    keras.layers.Dense(9)\n",
    "])\n",
    "\n",
    "\n",
    "model.compile(loss = keras.losses.SparseCategoricalCrossentropy(from_logits = True),\n",
    "         optimizer = keras.optimizers.Adam(learning_rate = 0.001),\n",
    "         metrics = ['accuracy'])\n",
    "\n",
    "model.summary()"
   ]
  },
  {
   "cell_type": "code",
   "execution_count": 20,
   "id": "1d3ac5b9",
   "metadata": {},
   "outputs": [
    {
     "name": "stdout",
     "output_type": "stream",
     "text": [
      "Epoch 1/10\n"
     ]
    },
    {
     "name": "stderr",
     "output_type": "stream",
     "text": [
      "2023-07-16 15:01:02.447169: I tensorflow/compiler/xla/service/service.cc:169] XLA service 0x558a3198a3c0 initialized for platform CUDA (this does not guarantee that XLA will be used). Devices:\n",
      "2023-07-16 15:01:02.447214: I tensorflow/compiler/xla/service/service.cc:177]   StreamExecutor device (0): NVIDIA GeForce RTX 3050 Ti Laptop GPU, Compute Capability 8.6\n",
      "2023-07-16 15:01:02.501586: I tensorflow/compiler/mlir/tensorflow/utils/dump_mlir_util.cc:269] disabling MLIR crash reproducer, set env var `MLIR_CRASH_REPRODUCER_DIRECTORY` to enable.\n",
      "2023-07-16 15:01:02.896749: I ./tensorflow/compiler/jit/device_compiler.h:180] Compiled cluster using XLA!  This line is logged at most once for the lifetime of the process.\n"
     ]
    },
    {
     "name": "stdout",
     "output_type": "stream",
     "text": [
      "1654/1654 [==============================] - 21s 10ms/step - loss: 0.2988 - accuracy: 0.9178\n",
      "Epoch 2/10\n",
      "1654/1654 [==============================] - 16s 10ms/step - loss: 0.1283 - accuracy: 0.9619\n",
      "Epoch 3/10\n",
      "1654/1654 [==============================] - 16s 10ms/step - loss: 0.0890 - accuracy: 0.9725\n",
      "Epoch 4/10\n",
      "1654/1654 [==============================] - 16s 10ms/step - loss: 0.0698 - accuracy: 0.9787\n",
      "Epoch 5/10\n",
      "1654/1654 [==============================] - 16s 10ms/step - loss: 0.0541 - accuracy: 0.9830\n",
      "Epoch 6/10\n",
      "1654/1654 [==============================] - 16s 10ms/step - loss: 0.0435 - accuracy: 0.9862\n",
      "Epoch 7/10\n",
      "1654/1654 [==============================] - 16s 10ms/step - loss: 0.0364 - accuracy: 0.9888\n",
      "Epoch 8/10\n",
      "1654/1654 [==============================] - 16s 10ms/step - loss: 0.0293 - accuracy: 0.9905\n",
      "Epoch 9/10\n",
      "1654/1654 [==============================] - 16s 10ms/step - loss: 0.0222 - accuracy: 0.9927\n",
      "Epoch 10/10\n",
      "1654/1654 [==============================] - 16s 10ms/step - loss: 0.0223 - accuracy: 0.9928\n"
     ]
    },
    {
     "data": {
      "text/plain": [
       "<keras.callbacks.History at 0x7fe1aa4761a0>"
      ]
     },
     "execution_count": 20,
     "metadata": {},
     "output_type": "execute_result"
    }
   ],
   "source": [
    "model.fit(X_train, y_train, epochs = 10)"
   ]
  },
  {
   "cell_type": "code",
   "execution_count": null,
   "id": "a226c0ed",
   "metadata": {},
   "outputs": [],
   "source": [
    "model.save('model_CNN10.h5')"
   ]
  },
  {
   "cell_type": "code",
   "execution_count": 16,
   "id": "b13c6605",
   "metadata": {},
   "outputs": [],
   "source": [
    "m_cnn10 = tf.keras.models.load_model('model_CNN10.h5')"
   ]
  },
  {
   "cell_type": "code",
   "execution_count": 17,
   "id": "67cf8220",
   "metadata": {},
   "outputs": [
    {
     "name": "stdout",
     "output_type": "stream",
     "text": [
      "3702/3702 [==============================] - 17s 5ms/step - loss: 1.2267 - accuracy: 0.5837\n"
     ]
    },
    {
     "data": {
      "text/plain": [
       "[1.2266993522644043, 0.5836886167526245]"
      ]
     },
     "execution_count": 17,
     "metadata": {},
     "output_type": "execute_result"
    }
   ],
   "source": [
    "m_cnn10.evaluate(X_test, y_test)"
   ]
  },
  {
   "cell_type": "markdown",
   "id": "92c360e2",
   "metadata": {},
   "source": [
    "### 10,10으로 했을 때도 5,5보다 좋지 못한 성능을 보인다. kernel size를 10과 5사이에서 조율이 필요하다."
   ]
  },
  {
   "cell_type": "code",
   "execution_count": 31,
   "id": "fd22517b",
   "metadata": {},
   "outputs": [
    {
     "name": "stdout",
     "output_type": "stream",
     "text": [
      "Model: \"sequential_1\"\n",
      "_________________________________________________________________\n",
      " Layer (type)                Output Shape              Param #   \n",
      "=================================================================\n",
      " conv2d_2 (Conv2D)           (None, 73, 73, 32)        2080      \n",
      "                                                                 \n",
      " max_pooling2d_2 (MaxPooling  (None, 36, 36, 32)       0         \n",
      " 2D)                                                             \n",
      "                                                                 \n",
      " conv2d_3 (Conv2D)           (None, 29, 29, 32)        65568     \n",
      "                                                                 \n",
      " max_pooling2d_3 (MaxPooling  (None, 14, 14, 32)       0         \n",
      " 2D)                                                             \n",
      "                                                                 \n",
      " flatten_1 (Flatten)         (None, 6272)              0         \n",
      "                                                                 \n",
      " dense_2 (Dense)             (None, 128)               802944    \n",
      "                                                                 \n",
      " dense_3 (Dense)             (None, 9)                 1161      \n",
      "                                                                 \n",
      "=================================================================\n",
      "Total params: 871,753\n",
      "Trainable params: 871,753\n",
      "Non-trainable params: 0\n",
      "_________________________________________________________________\n"
     ]
    }
   ],
   "source": [
    "model = keras.Sequential([\n",
    "    keras.layers.Conv2D(32, kernel_size=(8,8), activation = 'relu', input_shape=(80, 80, 1),\n",
    "                       padding = 'valid', data_format = 'channels_last'), # 2D는 평면\n",
    "    keras.layers.MaxPooling2D(pool_size = (2,2)),\n",
    "    keras.layers.Conv2D(32, kernel_size = (8,8), activation='relu'),\n",
    "    keras.layers.MaxPooling2D(pool_size = (2,2)),\n",
    "    keras.layers.Flatten(),\n",
    "    keras.layers.Dense(128, activation='relu'),\n",
    "    #keras.layers.Dense(64, activation='relu'),\n",
    "    keras.layers.Dense(9)\n",
    "])\n",
    "\n",
    "\n",
    "model.compile(loss = keras.losses.SparseCategoricalCrossentropy(from_logits = True),\n",
    "         optimizer = keras.optimizers.Adam(learning_rate = 0.001),\n",
    "         metrics = ['accuracy'])\n",
    "\n",
    "model.summary()"
   ]
  },
  {
   "cell_type": "code",
   "execution_count": 32,
   "id": "ec1b265b",
   "metadata": {},
   "outputs": [
    {
     "name": "stdout",
     "output_type": "stream",
     "text": [
      "Epoch 1/10\n",
      "1654/1654 [==============================] - 19s 9ms/step - loss: 0.2756 - accuracy: 0.9242\n",
      "Epoch 2/10\n",
      "1654/1654 [==============================] - 16s 9ms/step - loss: 0.1173 - accuracy: 0.9643\n",
      "Epoch 3/10\n",
      "1654/1654 [==============================] - 16s 9ms/step - loss: 0.0836 - accuracy: 0.9738\n",
      "Epoch 4/10\n",
      "1654/1654 [==============================] - 16s 10ms/step - loss: 0.0675 - accuracy: 0.9790\n",
      "Epoch 5/10\n",
      "1654/1654 [==============================] - 16s 9ms/step - loss: 0.0523 - accuracy: 0.9831\n",
      "Epoch 6/10\n",
      "1654/1654 [==============================] - 16s 10ms/step - loss: 0.0400 - accuracy: 0.9873\n",
      "Epoch 7/10\n",
      "1654/1654 [==============================] - 15s 9ms/step - loss: 0.0312 - accuracy: 0.9902\n",
      "Epoch 8/10\n",
      "1654/1654 [==============================] - 15s 9ms/step - loss: 0.0266 - accuracy: 0.9916\n",
      "Epoch 9/10\n",
      "1654/1654 [==============================] - 15s 9ms/step - loss: 0.0226 - accuracy: 0.9927\n",
      "Epoch 10/10\n",
      "1654/1654 [==============================] - 15s 9ms/step - loss: 0.0181 - accuracy: 0.9943\n"
     ]
    },
    {
     "data": {
      "text/plain": [
       "<keras.callbacks.History at 0x7fe188f65fc0>"
      ]
     },
     "execution_count": 32,
     "metadata": {},
     "output_type": "execute_result"
    }
   ],
   "source": [
    "model.fit(X_train, y_train, epochs = 10)"
   ]
  },
  {
   "cell_type": "code",
   "execution_count": 33,
   "id": "6ad6f930",
   "metadata": {},
   "outputs": [],
   "source": [
    "model.save('model_CNN8.h5')"
   ]
  },
  {
   "cell_type": "code",
   "execution_count": 24,
   "id": "7e27459a",
   "metadata": {},
   "outputs": [],
   "source": [
    "m_cnn8 = tf.keras.models.load_model('model_CNN8.h5')"
   ]
  },
  {
   "cell_type": "code",
   "execution_count": 25,
   "id": "dc2c20e5",
   "metadata": {},
   "outputs": [
    {
     "name": "stdout",
     "output_type": "stream",
     "text": [
      "3702/3702 [==============================] - 17s 4ms/step - loss: 1.0979 - accuracy: 0.7371\n"
     ]
    },
    {
     "data": {
      "text/plain": [
       "[1.097948670387268, 0.7370594143867493]"
      ]
     },
     "execution_count": 25,
     "metadata": {},
     "output_type": "execute_result"
    }
   ],
   "source": [
    "m_cnn8.evaluate(X_test, y_test)"
   ]
  },
  {
   "cell_type": "markdown",
   "id": "ac1d3978",
   "metadata": {},
   "source": [
    "### kernel size는 5,5가 가장 높은 정확도를 보여준다. 이제 5,5모델의 learning_rate를 바꿔보자"
   ]
  },
  {
   "cell_type": "code",
   "execution_count": 36,
   "id": "3fc1dde9",
   "metadata": {},
   "outputs": [
    {
     "name": "stdout",
     "output_type": "stream",
     "text": [
      "Model: \"sequential_2\"\n",
      "_________________________________________________________________\n",
      " Layer (type)                Output Shape              Param #   \n",
      "=================================================================\n",
      " conv2d_4 (Conv2D)           (None, 76, 76, 32)        832       \n",
      "                                                                 \n",
      " max_pooling2d_4 (MaxPooling  (None, 38, 38, 32)       0         \n",
      " 2D)                                                             \n",
      "                                                                 \n",
      " conv2d_5 (Conv2D)           (None, 34, 34, 32)        25632     \n",
      "                                                                 \n",
      " max_pooling2d_5 (MaxPooling  (None, 17, 17, 32)       0         \n",
      " 2D)                                                             \n",
      "                                                                 \n",
      " flatten_2 (Flatten)         (None, 9248)              0         \n",
      "                                                                 \n",
      " dense_4 (Dense)             (None, 128)               1183872   \n",
      "                                                                 \n",
      " dense_5 (Dense)             (None, 9)                 1161      \n",
      "                                                                 \n",
      "=================================================================\n",
      "Total params: 1,211,497\n",
      "Trainable params: 1,211,497\n",
      "Non-trainable params: 0\n",
      "_________________________________________________________________\n"
     ]
    }
   ],
   "source": [
    "#learning_rate = 0.01\n",
    "\n",
    "model = keras.Sequential([\n",
    "    keras.layers.Conv2D(32, kernel_size=(5,5), activation = 'relu', input_shape=(80, 80, 1),\n",
    "                       padding = 'valid', data_format = 'channels_last'), # 2D는 평면\n",
    "    keras.layers.MaxPooling2D(pool_size = (2,2)),\n",
    "    keras.layers.Conv2D(32, kernel_size = (5,5), activation='relu'),\n",
    "    keras.layers.MaxPooling2D(pool_size = (2,2)),\n",
    "    keras.layers.Flatten(),\n",
    "    keras.layers.Dense(128, activation='relu'),\n",
    "    #keras.layers.Dense(64, activation='relu'),\n",
    "    keras.layers.Dense(9)\n",
    "])\n",
    "\n",
    "\n",
    "model.compile(loss = keras.losses.SparseCategoricalCrossentropy(from_logits = True),\n",
    "         optimizer = keras.optimizers.Adam(learning_rate = 0.01),\n",
    "         metrics = ['accuracy'])\n",
    "\n",
    "model.summary()"
   ]
  },
  {
   "cell_type": "code",
   "execution_count": 37,
   "id": "5614c404",
   "metadata": {},
   "outputs": [
    {
     "name": "stdout",
     "output_type": "stream",
     "text": [
      "Epoch 1/10\n",
      "1654/1654 [==============================] - 17s 9ms/step - loss: 0.3598 - accuracy: 0.9050\n",
      "Epoch 2/10\n",
      "1654/1654 [==============================] - 14s 9ms/step - loss: 0.2724 - accuracy: 0.9274\n",
      "Epoch 3/10\n",
      "1654/1654 [==============================] - 14s 9ms/step - loss: 0.2500 - accuracy: 0.9326\n",
      "Epoch 4/10\n",
      "1654/1654 [==============================] - 14s 9ms/step - loss: 0.2352 - accuracy: 0.9357\n",
      "Epoch 5/10\n",
      "1654/1654 [==============================] - 14s 9ms/step - loss: 0.2245 - accuracy: 0.9387\n",
      "Epoch 6/10\n",
      "1654/1654 [==============================] - 14s 9ms/step - loss: 0.2166 - accuracy: 0.9418\n",
      "Epoch 7/10\n",
      "1654/1654 [==============================] - 14s 9ms/step - loss: 0.2099 - accuracy: 0.9420\n",
      "Epoch 8/10\n",
      "1654/1654 [==============================] - 14s 9ms/step - loss: 0.2022 - accuracy: 0.9451\n",
      "Epoch 9/10\n",
      "1654/1654 [==============================] - 14s 9ms/step - loss: 0.1892 - accuracy: 0.9480\n",
      "Epoch 10/10\n",
      "1654/1654 [==============================] - 14s 9ms/step - loss: 0.1854 - accuracy: 0.9499\n"
     ]
    },
    {
     "data": {
      "text/plain": [
       "<keras.callbacks.History at 0x7fe1aac28cd0>"
      ]
     },
     "execution_count": 37,
     "metadata": {},
     "output_type": "execute_result"
    }
   ],
   "source": [
    "model.fit(X_train, y_train, epochs = 10)"
   ]
  },
  {
   "cell_type": "code",
   "execution_count": 38,
   "id": "ceda1632",
   "metadata": {},
   "outputs": [],
   "source": [
    "model.save('m_cnn5_rate001.h5')"
   ]
  },
  {
   "cell_type": "code",
   "execution_count": 29,
   "id": "a2993a84",
   "metadata": {},
   "outputs": [],
   "source": [
    "m_cnn5_rate001 = tf.keras.models.load_model('m_cnn5_rate001.h5')"
   ]
  },
  {
   "cell_type": "code",
   "execution_count": 30,
   "id": "94a0c004",
   "metadata": {},
   "outputs": [
    {
     "name": "stdout",
     "output_type": "stream",
     "text": [
      "3702/3702 [==============================] - 16s 4ms/step - loss: 5.8369 - accuracy: 0.4293\n"
     ]
    },
    {
     "data": {
      "text/plain": [
       "[5.836947441101074, 0.4293469488620758]"
      ]
     },
     "execution_count": 30,
     "metadata": {},
     "output_type": "execute_result"
    }
   ],
   "source": [
    "m_cnn5_rate001.evaluate(X_test, y_test)"
   ]
  },
  {
   "cell_type": "markdown",
   "id": "bda23bc4",
   "metadata": {},
   "source": [
    "### learning_rate 0.01은 매우 낮은 정확도를 보인다."
   ]
  },
  {
   "cell_type": "code",
   "execution_count": 37,
   "id": "00dddd45",
   "metadata": {},
   "outputs": [
    {
     "name": "stdout",
     "output_type": "stream",
     "text": [
      "Model: \"sequential_2\"\n",
      "_________________________________________________________________\n",
      " Layer (type)                Output Shape              Param #   \n",
      "=================================================================\n",
      " conv2d_4 (Conv2D)           (None, 76, 76, 32)        832       \n",
      "                                                                 \n",
      " max_pooling2d_4 (MaxPooling  (None, 38, 38, 32)       0         \n",
      " 2D)                                                             \n",
      "                                                                 \n",
      " conv2d_5 (Conv2D)           (None, 34, 34, 32)        25632     \n",
      "                                                                 \n",
      " max_pooling2d_5 (MaxPooling  (None, 17, 17, 32)       0         \n",
      " 2D)                                                             \n",
      "                                                                 \n",
      " flatten_2 (Flatten)         (None, 9248)              0         \n",
      "                                                                 \n",
      " dense_4 (Dense)             (None, 128)               1183872   \n",
      "                                                                 \n",
      " dense_5 (Dense)             (None, 9)                 1161      \n",
      "                                                                 \n",
      "=================================================================\n",
      "Total params: 1,211,497\n",
      "Trainable params: 1,211,497\n",
      "Non-trainable params: 0\n",
      "_________________________________________________________________\n"
     ]
    }
   ],
   "source": [
    "#learning_rate = 0.0001\n",
    "model = keras.Sequential([\n",
    "    keras.layers.Conv2D(32, kernel_size=(5,5), activation = 'relu', input_shape=(80, 80, 1),\n",
    "                       padding = 'valid', data_format = 'channels_last'), # 2D는 평면\n",
    "    keras.layers.MaxPooling2D(pool_size = (2,2)),\n",
    "    keras.layers.Conv2D(32, kernel_size = (5,5), activation='relu'),\n",
    "    keras.layers.MaxPooling2D(pool_size = (2,2)),\n",
    "    keras.layers.Flatten(),\n",
    "    keras.layers.Dense(128, activation='relu'),\n",
    "    #keras.layers.Dense(64, activation='relu'),\n",
    "    keras.layers.Dense(9)\n",
    "])\n",
    "\n",
    "\n",
    "model.compile(loss = keras.losses.SparseCategoricalCrossentropy(from_logits = True),\n",
    "         optimizer = keras.optimizers.Adam(learning_rate = 0.0001),\n",
    "         metrics = ['accuracy'])\n",
    "\n",
    "model.summary()"
   ]
  },
  {
   "cell_type": "code",
   "execution_count": 38,
   "id": "4acd56e4",
   "metadata": {},
   "outputs": [
    {
     "name": "stdout",
     "output_type": "stream",
     "text": [
      "Epoch 1/10\n"
     ]
    },
    {
     "name": "stderr",
     "output_type": "stream",
     "text": [
      "2023-07-16 15:52:07.407648: I tensorflow/compiler/xla/service/service.cc:169] XLA service 0x556312dc6d60 initialized for platform CUDA (this does not guarantee that XLA will be used). Devices:\n",
      "2023-07-16 15:52:07.407694: I tensorflow/compiler/xla/service/service.cc:177]   StreamExecutor device (0): NVIDIA GeForce RTX 3050 Ti Laptop GPU, Compute Capability 8.6\n",
      "2023-07-16 15:52:07.474351: I tensorflow/compiler/mlir/tensorflow/utils/dump_mlir_util.cc:269] disabling MLIR crash reproducer, set env var `MLIR_CRASH_REPRODUCER_DIRECTORY` to enable.\n",
      "2023-07-16 15:52:07.981290: I ./tensorflow/compiler/jit/device_compiler.h:180] Compiled cluster using XLA!  This line is logged at most once for the lifetime of the process.\n"
     ]
    },
    {
     "name": "stdout",
     "output_type": "stream",
     "text": [
      "3702/3702 [==============================] - 37s 9ms/step - loss: 0.3127 - accuracy: 0.9350\n",
      "Epoch 2/10\n",
      "3702/3702 [==============================] - 32s 9ms/step - loss: 0.2258 - accuracy: 0.9425\n",
      "Epoch 3/10\n",
      "3702/3702 [==============================] - 32s 9ms/step - loss: 0.1887 - accuracy: 0.9500\n",
      "Epoch 4/10\n",
      "3702/3702 [==============================] - 32s 9ms/step - loss: 0.1687 - accuracy: 0.9534\n",
      "Epoch 5/10\n",
      "3702/3702 [==============================] - 32s 9ms/step - loss: 0.1531 - accuracy: 0.9566\n",
      "Epoch 6/10\n",
      "3702/3702 [==============================] - 32s 9ms/step - loss: 0.1399 - accuracy: 0.9590\n",
      "Epoch 7/10\n",
      "3702/3702 [==============================] - 32s 9ms/step - loss: 0.1287 - accuracy: 0.9610\n",
      "Epoch 8/10\n",
      "3702/3702 [==============================] - 32s 9ms/step - loss: 0.1202 - accuracy: 0.9625\n",
      "Epoch 9/10\n",
      "3702/3702 [==============================] - 32s 9ms/step - loss: 0.1135 - accuracy: 0.9641\n",
      "Epoch 10/10\n",
      "3702/3702 [==============================] - 32s 9ms/step - loss: 0.1072 - accuracy: 0.9656\n"
     ]
    },
    {
     "data": {
      "text/plain": [
       "<keras.callbacks.History at 0x7fd06b3ffa00>"
      ]
     },
     "execution_count": 38,
     "metadata": {},
     "output_type": "execute_result"
    }
   ],
   "source": [
    "model.fit(X_test, y_test, epochs = 10)"
   ]
  },
  {
   "cell_type": "code",
   "execution_count": 41,
   "id": "d3c8b671",
   "metadata": {},
   "outputs": [],
   "source": [
    "model.save('model_cnn5_rate.h5')"
   ]
  },
  {
   "cell_type": "code",
   "execution_count": 42,
   "id": "0b21eec1",
   "metadata": {},
   "outputs": [],
   "source": [
    "m_cnn5_rate = tf.keras.models.load_model('model_cnn5_rate.h5')"
   ]
  },
  {
   "cell_type": "code",
   "execution_count": 44,
   "id": "59eb61f3",
   "metadata": {},
   "outputs": [
    {
     "name": "stdout",
     "output_type": "stream",
     "text": [
      "3702/3702 [==============================] - 16s 4ms/step - loss: 0.0963 - accuracy: 0.9693\n"
     ]
    },
    {
     "data": {
      "text/plain": [
       "[0.09626504778862, 0.9692515730857849]"
      ]
     },
     "execution_count": 44,
     "metadata": {},
     "output_type": "execute_result"
    }
   ],
   "source": [
    "m_cnn5_rate.evaluate(X_test, y_test)"
   ]
  },
  {
   "cell_type": "code",
   "execution_count": 12,
   "id": "724a4c0b",
   "metadata": {},
   "outputs": [
    {
     "name": "stdout",
     "output_type": "stream",
     "text": [
      "Model: \"sequential_1\"\n",
      "_________________________________________________________________\n",
      " Layer (type)                Output Shape              Param #   \n",
      "=================================================================\n",
      " conv2d_2 (Conv2D)           (None, 76, 76, 32)        832       \n",
      "                                                                 \n",
      " max_pooling2d_2 (MaxPooling  (None, 38, 38, 32)       0         \n",
      " 2D)                                                             \n",
      "                                                                 \n",
      " conv2d_3 (Conv2D)           (None, 34, 34, 32)        25632     \n",
      "                                                                 \n",
      " max_pooling2d_3 (MaxPooling  (None, 17, 17, 32)       0         \n",
      " 2D)                                                             \n",
      "                                                                 \n",
      " flatten_1 (Flatten)         (None, 9248)              0         \n",
      "                                                                 \n",
      " dense_2 (Dense)             (None, 128)               1183872   \n",
      "                                                                 \n",
      " dense_3 (Dense)             (None, 9)                 1161      \n",
      "                                                                 \n",
      "=================================================================\n",
      "Total params: 1,211,497\n",
      "Trainable params: 1,211,497\n",
      "Non-trainable params: 0\n",
      "_________________________________________________________________\n"
     ]
    }
   ],
   "source": [
    "#learning_rate = 0.0001\n",
    "model = keras.Sequential([\n",
    "    keras.layers.Conv2D(32, kernel_size=(5,5), activation = 'relu', input_shape=(80, 80, 1),\n",
    "                       padding = 'valid', data_format = 'channels_last'), # 2D는 평면\n",
    "    keras.layers.MaxPooling2D(pool_size = (2,2)),\n",
    "    keras.layers.Conv2D(32, kernel_size = (5,5), activation='relu'),\n",
    "    keras.layers.MaxPooling2D(pool_size = (2,2)),\n",
    "    keras.layers.Flatten(),\n",
    "    keras.layers.Dense(128, activation='relu'),\n",
    "    #keras.layers.Dense(64, activation='relu'),\n",
    "    keras.layers.Dense(9)\n",
    "])\n",
    "\n",
    "\n",
    "model.compile(loss = keras.losses.SparseCategoricalCrossentropy(from_logits = True),\n",
    "         optimizer = keras.optimizers.Adam(learning_rate = 0.00001),\n",
    "         metrics = ['accuracy'])\n",
    "\n",
    "model.summary()"
   ]
  },
  {
   "cell_type": "code",
   "execution_count": 13,
   "id": "7e7bc081",
   "metadata": {},
   "outputs": [
    {
     "name": "stdout",
     "output_type": "stream",
     "text": [
      "Epoch 1/10\n"
     ]
    },
    {
     "name": "stderr",
     "output_type": "stream",
     "text": [
      "2023-07-17 16:14:48.498771: I tensorflow/compiler/xla/stream_executor/cuda/cuda_dnn.cc:424] Loaded cuDNN version 8902\n",
      "2023-07-17 16:14:50.416938: I tensorflow/compiler/xla/stream_executor/cuda/cuda_blas.cc:637] TensorFloat-32 will be used for the matrix multiplication. This will only be logged once.\n",
      "2023-07-17 16:14:50.440436: I tensorflow/compiler/xla/service/service.cc:169] XLA service 0x55963a05db60 initialized for platform CUDA (this does not guarantee that XLA will be used). Devices:\n",
      "2023-07-17 16:14:50.440480: I tensorflow/compiler/xla/service/service.cc:177]   StreamExecutor device (0): NVIDIA GeForce RTX 3050 Ti Laptop GPU, Compute Capability 8.6\n",
      "2023-07-17 16:14:50.484921: I tensorflow/compiler/mlir/tensorflow/utils/dump_mlir_util.cc:269] disabling MLIR crash reproducer, set env var `MLIR_CRASH_REPRODUCER_DIRECTORY` to enable.\n",
      "2023-07-17 16:14:50.867461: I ./tensorflow/compiler/jit/device_compiler.h:180] Compiled cluster using XLA!  This line is logged at most once for the lifetime of the process.\n"
     ]
    },
    {
     "name": "stdout",
     "output_type": "stream",
     "text": [
      "3702/3702 [==============================] - 39s 8ms/step - loss: 0.3971 - accuracy: 0.9310\n",
      "Epoch 2/10\n",
      "3702/3702 [==============================] - 30s 8ms/step - loss: 0.3201 - accuracy: 0.9344\n",
      "Epoch 3/10\n",
      "3702/3702 [==============================] - 30s 8ms/step - loss: 0.2969 - accuracy: 0.9361\n",
      "Epoch 4/10\n",
      "3702/3702 [==============================] - 30s 8ms/step - loss: 0.2779 - accuracy: 0.9366\n",
      "Epoch 5/10\n",
      "3702/3702 [==============================] - 30s 8ms/step - loss: 0.2618 - accuracy: 0.9375\n",
      "Epoch 6/10\n",
      "3702/3702 [==============================] - 30s 8ms/step - loss: 0.2482 - accuracy: 0.9387\n",
      "Epoch 7/10\n",
      "3702/3702 [==============================] - 30s 8ms/step - loss: 0.2375 - accuracy: 0.9401\n",
      "Epoch 8/10\n",
      "3702/3702 [==============================] - 30s 8ms/step - loss: 0.2283 - accuracy: 0.9413\n",
      "Epoch 9/10\n",
      "3702/3702 [==============================] - 30s 8ms/step - loss: 0.2203 - accuracy: 0.9431\n",
      "Epoch 10/10\n",
      "3702/3702 [==============================] - 30s 8ms/step - loss: 0.2131 - accuracy: 0.9444\n"
     ]
    },
    {
     "data": {
      "text/plain": [
       "<keras.callbacks.History at 0x7efc66f80550>"
      ]
     },
     "execution_count": 13,
     "metadata": {},
     "output_type": "execute_result"
    }
   ],
   "source": [
    "model.fit(X_test, y_test, epochs = 10)"
   ]
  },
  {
   "cell_type": "code",
   "execution_count": 15,
   "id": "2bcb4ac6",
   "metadata": {},
   "outputs": [],
   "source": [
    "model.save('m_cnn5_rate2.h5')"
   ]
  },
  {
   "cell_type": "code",
   "execution_count": 16,
   "id": "57e6cee4",
   "metadata": {},
   "outputs": [],
   "source": [
    "cnn_rate2 = tf.keras.models.load_model('m_cnn5_rate2.h5')"
   ]
  },
  {
   "cell_type": "code",
   "execution_count": 17,
   "id": "5ebd8e61",
   "metadata": {},
   "outputs": [
    {
     "name": "stdout",
     "output_type": "stream",
     "text": [
      "3702/3702 [==============================] - 16s 4ms/step - loss: 0.2070 - accuracy: 0.9448\n"
     ]
    },
    {
     "data": {
      "text/plain": [
       "[0.20704811811447144, 0.944843590259552]"
      ]
     },
     "execution_count": 17,
     "metadata": {},
     "output_type": "execute_result"
    }
   ],
   "source": [
    "cnn_rate2.evaluate(X_test, y_test)"
   ]
  },
  {
   "cell_type": "code",
   "execution_count": null,
   "id": "73098d90",
   "metadata": {},
   "outputs": [],
   "source": []
  },
  {
   "cell_type": "markdown",
   "id": "3ac1ae4f",
   "metadata": {},
   "source": [
    "### 딥러닝 CNN 모델 중 kernel size 는 (5,5), learning_rate는 0.0001(10e-4)모델이 가장 이상적인 모델이다."
   ]
  }
 ],
 "metadata": {
  "kernelspec": {
   "display_name": "Python 3 (ipykernel)",
   "language": "python",
   "name": "python3"
  },
  "language_info": {
   "codemirror_mode": {
    "name": "ipython",
    "version": 3
   },
   "file_extension": ".py",
   "mimetype": "text/x-python",
   "name": "python",
   "nbconvert_exporter": "python",
   "pygments_lexer": "ipython3",
   "version": "3.10.6"
  }
 },
 "nbformat": 4,
 "nbformat_minor": 5
}
