{
 "cells": [
  {
   "cell_type": "markdown",
   "id": "d561edaa",
   "metadata": {},
   "source": [
    "### Wafer maps\n",
    "#### - wafer 품질검사 분류기\n",
    " - **data** : http://mirlab.org/dataSet/public/\n",
    " \n",
    "> ***811457 웨이퍼 맵, 각 웨이퍼 맵은 실제 제작에서 수집되었습니다.*** \n",
    "> \n",
    "> ***WM-811K 데이터 세트에서 웨이퍼 맵의 약 20%에 대한 패턴 유형에 주석을 달기 위해 도메인 전문가를 모집했습니다.***\n",
    ">\n",
    "> 기부일자 : **2015년 2월**\n",
    ">\n",
    "> 수집한 사람 : **Roger Jang, professor**\n",
    ">\n",
    "> 수집한 장소 : **mirlab**\n",
    "\n",
    "**데이터 사용을 위한 인용 구문 두 문장**\n",
    "\n",
    "> [1] Ming-Ju Wu, Jyh-Shing Roger Jang, and Jui-Long Chen, \"Wafer Map Failure Pattern Recognition and Similarity Ranking for Large-Scale Data Sets,\" in IEEE Transactions on Semiconductor Manufacturing, vol. 28, no. 1, pp. 1-12, Feb. 2015, doi: 10.1109/TSM.2014.2364237.\n",
    "\n",
    "> [2] MIR-WM811K: Dataset for wafer map failure pattern recognition, 2015 http://mirlab.org/dataset/public/\n",
    "\n",
    " **shape**의 설명 :\n",
    " > waferMap : 2차원 배열에 각기 다른 shape의 숫자들이 기록되어 있다.\n",
    " >\n",
    "          - 0 : wafer가 존재하지 않는 영역\n",
    "          - 1 : wafer안의 normal die가 존재\n",
    "          - 2 : defect(결함) die가 존재\n",
    " \n",
    " - die size :\n",
    " \n",
    " > wafer안의 하나의 칩의 크기를 말해준다.\n",
    " \n",
    " - 불량의 타입 :\n",
    " ***불량의 종류에는 다음과 같이 존재한다.***\n",
    "> [사진] 들어갈 예정\n",
    " \n",
    " - 개발모델 : CNN, Flatten 후 DNN"
   ]
  },
  {
   "cell_type": "code",
   "execution_count": 132,
   "id": "d38fddd6",
   "metadata": {},
   "outputs": [],
   "source": [
    "import numpy as np\n",
    "import pandas as pd\n",
    "import matplotlib.pyplot as plt\n",
    "import seaborn as sns\n",
    "import os\n",
    "import pickle\n",
    "os.environ[\"CUDA_VISIBLE_DEVICES\"] = \"0\""
   ]
  },
  {
   "cell_type": "code",
   "execution_count": 133,
   "id": "84756d11",
   "metadata": {},
   "outputs": [],
   "source": [
    "# 리눅스 한글 설정\n",
    "plt.rc('font', family = 'NanumGothic')"
   ]
  },
  {
   "cell_type": "code",
   "execution_count": 134,
   "id": "c7303657",
   "metadata": {},
   "outputs": [],
   "source": [
    "df = pd.read_pickle('LSWMD.pkl')"
   ]
  },
  {
   "cell_type": "markdown",
   "id": "069ac24e",
   "metadata": {},
   "source": [
    "## 데이터 탐색"
   ]
  },
  {
   "cell_type": "code",
   "execution_count": 135,
   "id": "c689692a",
   "metadata": {},
   "outputs": [
    {
     "name": "stdout",
     "output_type": "stream",
     "text": [
      "<class 'pandas.core.frame.DataFrame'>\n",
      "RangeIndex: 811457 entries, 0 to 811456\n",
      "Data columns (total 6 columns):\n",
      " #   Column          Non-Null Count   Dtype  \n",
      "---  ------          --------------   -----  \n",
      " 0   waferMap        811457 non-null  object \n",
      " 1   dieSize         811457 non-null  float64\n",
      " 2   lotName         811457 non-null  object \n",
      " 3   waferIndex      811457 non-null  float64\n",
      " 4   trianTestLabel  811457 non-null  object \n",
      " 5   failureType     811457 non-null  object \n",
      "dtypes: float64(2), object(4)\n",
      "memory usage: 37.1+ MB\n"
     ]
    }
   ],
   "source": [
    "df.info()"
   ]
  },
  {
   "cell_type": "code",
   "execution_count": 136,
   "id": "67fee334",
   "metadata": {},
   "outputs": [
    {
     "data": {
      "text/html": [
       "<div>\n",
       "<style scoped>\n",
       "    .dataframe tbody tr th:only-of-type {\n",
       "        vertical-align: middle;\n",
       "    }\n",
       "\n",
       "    .dataframe tbody tr th {\n",
       "        vertical-align: top;\n",
       "    }\n",
       "\n",
       "    .dataframe thead th {\n",
       "        text-align: right;\n",
       "    }\n",
       "</style>\n",
       "<table border=\"1\" class=\"dataframe\">\n",
       "  <thead>\n",
       "    <tr style=\"text-align: right;\">\n",
       "      <th></th>\n",
       "      <th>waferMap</th>\n",
       "      <th>dieSize</th>\n",
       "      <th>lotName</th>\n",
       "      <th>waferIndex</th>\n",
       "      <th>trianTestLabel</th>\n",
       "      <th>failureType</th>\n",
       "    </tr>\n",
       "  </thead>\n",
       "  <tbody>\n",
       "    <tr>\n",
       "      <th>0</th>\n",
       "      <td>[[0, 0, 0, 0, 0, 0, 0, 0, 0, 0, 0, 0, 0, 0, 0,...</td>\n",
       "      <td>1683.0</td>\n",
       "      <td>lot1</td>\n",
       "      <td>1.0</td>\n",
       "      <td>[[Training]]</td>\n",
       "      <td>[[none]]</td>\n",
       "    </tr>\n",
       "    <tr>\n",
       "      <th>1</th>\n",
       "      <td>[[0, 0, 0, 0, 0, 0, 0, 0, 0, 0, 0, 0, 0, 0, 0,...</td>\n",
       "      <td>1683.0</td>\n",
       "      <td>lot1</td>\n",
       "      <td>2.0</td>\n",
       "      <td>[[Training]]</td>\n",
       "      <td>[[none]]</td>\n",
       "    </tr>\n",
       "    <tr>\n",
       "      <th>2</th>\n",
       "      <td>[[0, 0, 0, 0, 0, 0, 0, 0, 0, 0, 0, 0, 0, 0, 0,...</td>\n",
       "      <td>1683.0</td>\n",
       "      <td>lot1</td>\n",
       "      <td>3.0</td>\n",
       "      <td>[[Training]]</td>\n",
       "      <td>[[none]]</td>\n",
       "    </tr>\n",
       "    <tr>\n",
       "      <th>3</th>\n",
       "      <td>[[0, 0, 0, 0, 0, 0, 0, 0, 0, 0, 0, 0, 0, 0, 0,...</td>\n",
       "      <td>1683.0</td>\n",
       "      <td>lot1</td>\n",
       "      <td>4.0</td>\n",
       "      <td>[[Training]]</td>\n",
       "      <td>[[none]]</td>\n",
       "    </tr>\n",
       "    <tr>\n",
       "      <th>4</th>\n",
       "      <td>[[0, 0, 0, 0, 0, 0, 0, 0, 0, 0, 0, 0, 0, 0, 0,...</td>\n",
       "      <td>1683.0</td>\n",
       "      <td>lot1</td>\n",
       "      <td>5.0</td>\n",
       "      <td>[[Training]]</td>\n",
       "      <td>[[none]]</td>\n",
       "    </tr>\n",
       "  </tbody>\n",
       "</table>\n",
       "</div>"
      ],
      "text/plain": [
       "                                            waferMap  dieSize lotName  \\\n",
       "0  [[0, 0, 0, 0, 0, 0, 0, 0, 0, 0, 0, 0, 0, 0, 0,...   1683.0    lot1   \n",
       "1  [[0, 0, 0, 0, 0, 0, 0, 0, 0, 0, 0, 0, 0, 0, 0,...   1683.0    lot1   \n",
       "2  [[0, 0, 0, 0, 0, 0, 0, 0, 0, 0, 0, 0, 0, 0, 0,...   1683.0    lot1   \n",
       "3  [[0, 0, 0, 0, 0, 0, 0, 0, 0, 0, 0, 0, 0, 0, 0,...   1683.0    lot1   \n",
       "4  [[0, 0, 0, 0, 0, 0, 0, 0, 0, 0, 0, 0, 0, 0, 0,...   1683.0    lot1   \n",
       "\n",
       "   waferIndex trianTestLabel failureType  \n",
       "0         1.0   [[Training]]    [[none]]  \n",
       "1         2.0   [[Training]]    [[none]]  \n",
       "2         3.0   [[Training]]    [[none]]  \n",
       "3         4.0   [[Training]]    [[none]]  \n",
       "4         5.0   [[Training]]    [[none]]  "
      ]
     },
     "execution_count": 136,
     "metadata": {},
     "output_type": "execute_result"
    }
   ],
   "source": [
    "df.head()"
   ]
  },
  {
   "cell_type": "code",
   "execution_count": 137,
   "id": "17d5e7d2",
   "metadata": {},
   "outputs": [
    {
     "data": {
      "text/html": [
       "<div>\n",
       "<style scoped>\n",
       "    .dataframe tbody tr th:only-of-type {\n",
       "        vertical-align: middle;\n",
       "    }\n",
       "\n",
       "    .dataframe tbody tr th {\n",
       "        vertical-align: top;\n",
       "    }\n",
       "\n",
       "    .dataframe thead th {\n",
       "        text-align: right;\n",
       "    }\n",
       "</style>\n",
       "<table border=\"1\" class=\"dataframe\">\n",
       "  <thead>\n",
       "    <tr style=\"text-align: right;\">\n",
       "      <th></th>\n",
       "      <th>waferMap</th>\n",
       "      <th>dieSize</th>\n",
       "      <th>lotName</th>\n",
       "      <th>waferIndex</th>\n",
       "      <th>trianTestLabel</th>\n",
       "      <th>failureType</th>\n",
       "    </tr>\n",
       "  </thead>\n",
       "  <tbody>\n",
       "    <tr>\n",
       "      <th>811452</th>\n",
       "      <td>[[0, 0, 0, 0, 0, 0, 0, 0, 0, 0, 0, 1, 2, 1, 1,...</td>\n",
       "      <td>600.0</td>\n",
       "      <td>lot47542</td>\n",
       "      <td>23.0</td>\n",
       "      <td>[[Test]]</td>\n",
       "      <td>[[Edge-Ring]]</td>\n",
       "    </tr>\n",
       "    <tr>\n",
       "      <th>811453</th>\n",
       "      <td>[[0, 0, 0, 0, 0, 0, 0, 0, 0, 0, 0, 2, 2, 1, 1,...</td>\n",
       "      <td>600.0</td>\n",
       "      <td>lot47542</td>\n",
       "      <td>24.0</td>\n",
       "      <td>[[Test]]</td>\n",
       "      <td>[[Edge-Loc]]</td>\n",
       "    </tr>\n",
       "    <tr>\n",
       "      <th>811454</th>\n",
       "      <td>[[0, 0, 0, 0, 0, 0, 0, 0, 0, 0, 0, 1, 2, 1, 1,...</td>\n",
       "      <td>600.0</td>\n",
       "      <td>lot47542</td>\n",
       "      <td>25.0</td>\n",
       "      <td>[[Test]]</td>\n",
       "      <td>[[Edge-Ring]]</td>\n",
       "    </tr>\n",
       "    <tr>\n",
       "      <th>811455</th>\n",
       "      <td>[[0, 0, 0, 0, 0, 0, 0, 0, 0, 0, 0, 1, 1, 1, 1,...</td>\n",
       "      <td>600.0</td>\n",
       "      <td>lot47543</td>\n",
       "      <td>1.0</td>\n",
       "      <td>[]</td>\n",
       "      <td>[]</td>\n",
       "    </tr>\n",
       "    <tr>\n",
       "      <th>811456</th>\n",
       "      <td>[[0, 0, 0, 0, 0, 0, 0, 0, 0, 0, 0, 1, 2, 1, 1,...</td>\n",
       "      <td>600.0</td>\n",
       "      <td>lot47543</td>\n",
       "      <td>2.0</td>\n",
       "      <td>[]</td>\n",
       "      <td>[]</td>\n",
       "    </tr>\n",
       "  </tbody>\n",
       "</table>\n",
       "</div>"
      ],
      "text/plain": [
       "                                                 waferMap  dieSize   lotName  \\\n",
       "811452  [[0, 0, 0, 0, 0, 0, 0, 0, 0, 0, 0, 1, 2, 1, 1,...    600.0  lot47542   \n",
       "811453  [[0, 0, 0, 0, 0, 0, 0, 0, 0, 0, 0, 2, 2, 1, 1,...    600.0  lot47542   \n",
       "811454  [[0, 0, 0, 0, 0, 0, 0, 0, 0, 0, 0, 1, 2, 1, 1,...    600.0  lot47542   \n",
       "811455  [[0, 0, 0, 0, 0, 0, 0, 0, 0, 0, 0, 1, 1, 1, 1,...    600.0  lot47543   \n",
       "811456  [[0, 0, 0, 0, 0, 0, 0, 0, 0, 0, 0, 1, 2, 1, 1,...    600.0  lot47543   \n",
       "\n",
       "        waferIndex trianTestLabel    failureType  \n",
       "811452        23.0       [[Test]]  [[Edge-Ring]]  \n",
       "811453        24.0       [[Test]]   [[Edge-Loc]]  \n",
       "811454        25.0       [[Test]]  [[Edge-Ring]]  \n",
       "811455         1.0             []             []  \n",
       "811456         2.0             []             []  "
      ]
     },
     "execution_count": 137,
     "metadata": {},
     "output_type": "execute_result"
    }
   ],
   "source": [
    "df.tail()"
   ]
  },
  {
   "cell_type": "code",
   "execution_count": 138,
   "id": "176ebbda",
   "metadata": {},
   "outputs": [
    {
     "data": {
      "text/plain": [
       "(array([ 1.,  2.,  3.,  4.,  5.,  6.,  7.,  8.,  9., 10., 11., 12., 13.,\n",
       "        14., 15., 16., 17., 18., 19., 20., 21., 22., 23., 24., 25.]),\n",
       " array([32516, 32663, 32621, 32714, 32701, 32745, 32672, 32650, 32636,\n",
       "        32586, 32637, 32598, 32381, 32353, 32301, 32362, 32333, 32333,\n",
       "        32285, 32290, 32320, 32312, 32202, 32197, 32049]))"
      ]
     },
     "execution_count": 138,
     "metadata": {},
     "output_type": "execute_result"
    }
   ],
   "source": [
    "np.unique(df['waferIndex'], return_counts = True)"
   ]
  },
  {
   "cell_type": "code",
   "execution_count": 139,
   "id": "afc1e3cb",
   "metadata": {},
   "outputs": [
    {
     "data": {
      "text/plain": [
       "(array(['lot1', 'lot10', 'lot100', ..., 'lot9997', 'lot9998', 'lot9999'],\n",
       "       dtype=object),\n",
       " array([25, 25, 25, ..., 23, 23, 23]))"
      ]
     },
     "execution_count": 139,
     "metadata": {},
     "output_type": "execute_result"
    }
   ],
   "source": [
    "np.unique(df['lotName'], return_counts = True)"
   ]
  },
  {
   "cell_type": "markdown",
   "id": "406cad48",
   "metadata": {},
   "source": [
    "### 1. 데이터 정제"
   ]
  },
  {
   "cell_type": "code",
   "execution_count": 140,
   "id": "7c8c7063",
   "metadata": {},
   "outputs": [
    {
     "name": "stdout",
     "output_type": "stream",
     "text": [
      "(45, 48)\n"
     ]
    }
   ],
   "source": [
    "print(df['waferMap'][0].shape)"
   ]
  },
  {
   "cell_type": "code",
   "execution_count": 141,
   "id": "2923919e",
   "metadata": {},
   "outputs": [],
   "source": [
    "#print(df['waferMap'].shape)\n",
    "#dim_x = np.size(df['waferMap'][0], axis = 0)\n",
    "#print(dim_x)\n",
    "\n",
    "# columns의 name 바꾸기\n",
    "df.columns = ['wafermap', 'diesize', 'lotname', 'waferindex', 'traintestlabel', 'failuretype']\n",
    "\n",
    "# 2차원 shape 가져오기\n",
    "def check_shape(df_data):\n",
    "    return df_data.shape\n",
    "\n",
    "df['waferdims'] = df['wafermap'].apply(check_shape)"
   ]
  },
  {
   "cell_type": "code",
   "execution_count": 142,
   "id": "1a6371c8",
   "metadata": {},
   "outputs": [],
   "source": [
    "# train_test_lable과 failuretype의 이차원 배열 벗기기\n",
    "def out_array(df_data):\n",
    "    x = df_data\n",
    "    if len(x)>0:\n",
    "        return x[0,0]\n",
    "    else:\n",
    "        return np.NaN"
   ]
  },
  {
   "cell_type": "code",
   "execution_count": 143,
   "id": "2797bde0",
   "metadata": {},
   "outputs": [],
   "source": [
    "# train_test_label과 failuretype의 라벨값 뽑아내기\n",
    "df['train_test_label'] = df['traintestlabel'].apply(out_array)\n",
    "df['failure_type'] = df['failuretype'].apply(out_array)"
   ]
  },
  {
   "cell_type": "code",
   "execution_count": 144,
   "id": "981edb33",
   "metadata": {},
   "outputs": [],
   "source": [
    "# 필요없는 columns drop\n",
    "df.drop(['traintestlabel', 'failuretype'], axis = 1, inplace = True)"
   ]
  },
  {
   "cell_type": "code",
   "execution_count": 145,
   "id": "0567bf86",
   "metadata": {},
   "outputs": [
    {
     "data": {
      "text/html": [
       "<div>\n",
       "<style scoped>\n",
       "    .dataframe tbody tr th:only-of-type {\n",
       "        vertical-align: middle;\n",
       "    }\n",
       "\n",
       "    .dataframe tbody tr th {\n",
       "        vertical-align: top;\n",
       "    }\n",
       "\n",
       "    .dataframe thead th {\n",
       "        text-align: right;\n",
       "    }\n",
       "</style>\n",
       "<table border=\"1\" class=\"dataframe\">\n",
       "  <thead>\n",
       "    <tr style=\"text-align: right;\">\n",
       "      <th></th>\n",
       "      <th>wafermap</th>\n",
       "      <th>diesize</th>\n",
       "      <th>lotname</th>\n",
       "      <th>waferindex</th>\n",
       "      <th>waferdims</th>\n",
       "      <th>train_test_label</th>\n",
       "      <th>failure_type</th>\n",
       "    </tr>\n",
       "  </thead>\n",
       "  <tbody>\n",
       "    <tr>\n",
       "      <th>0</th>\n",
       "      <td>[[0, 0, 0, 0, 0, 0, 0, 0, 0, 0, 0, 0, 0, 0, 0,...</td>\n",
       "      <td>1683.0</td>\n",
       "      <td>lot1</td>\n",
       "      <td>1.0</td>\n",
       "      <td>(45, 48)</td>\n",
       "      <td>Training</td>\n",
       "      <td>none</td>\n",
       "    </tr>\n",
       "    <tr>\n",
       "      <th>1</th>\n",
       "      <td>[[0, 0, 0, 0, 0, 0, 0, 0, 0, 0, 0, 0, 0, 0, 0,...</td>\n",
       "      <td>1683.0</td>\n",
       "      <td>lot1</td>\n",
       "      <td>2.0</td>\n",
       "      <td>(45, 48)</td>\n",
       "      <td>Training</td>\n",
       "      <td>none</td>\n",
       "    </tr>\n",
       "    <tr>\n",
       "      <th>2</th>\n",
       "      <td>[[0, 0, 0, 0, 0, 0, 0, 0, 0, 0, 0, 0, 0, 0, 0,...</td>\n",
       "      <td>1683.0</td>\n",
       "      <td>lot1</td>\n",
       "      <td>3.0</td>\n",
       "      <td>(45, 48)</td>\n",
       "      <td>Training</td>\n",
       "      <td>none</td>\n",
       "    </tr>\n",
       "    <tr>\n",
       "      <th>3</th>\n",
       "      <td>[[0, 0, 0, 0, 0, 0, 0, 0, 0, 0, 0, 0, 0, 0, 0,...</td>\n",
       "      <td>1683.0</td>\n",
       "      <td>lot1</td>\n",
       "      <td>4.0</td>\n",
       "      <td>(45, 48)</td>\n",
       "      <td>Training</td>\n",
       "      <td>none</td>\n",
       "    </tr>\n",
       "    <tr>\n",
       "      <th>4</th>\n",
       "      <td>[[0, 0, 0, 0, 0, 0, 0, 0, 0, 0, 0, 0, 0, 0, 0,...</td>\n",
       "      <td>1683.0</td>\n",
       "      <td>lot1</td>\n",
       "      <td>5.0</td>\n",
       "      <td>(45, 48)</td>\n",
       "      <td>Training</td>\n",
       "      <td>none</td>\n",
       "    </tr>\n",
       "  </tbody>\n",
       "</table>\n",
       "</div>"
      ],
      "text/plain": [
       "                                            wafermap  diesize lotname  \\\n",
       "0  [[0, 0, 0, 0, 0, 0, 0, 0, 0, 0, 0, 0, 0, 0, 0,...   1683.0    lot1   \n",
       "1  [[0, 0, 0, 0, 0, 0, 0, 0, 0, 0, 0, 0, 0, 0, 0,...   1683.0    lot1   \n",
       "2  [[0, 0, 0, 0, 0, 0, 0, 0, 0, 0, 0, 0, 0, 0, 0,...   1683.0    lot1   \n",
       "3  [[0, 0, 0, 0, 0, 0, 0, 0, 0, 0, 0, 0, 0, 0, 0,...   1683.0    lot1   \n",
       "4  [[0, 0, 0, 0, 0, 0, 0, 0, 0, 0, 0, 0, 0, 0, 0,...   1683.0    lot1   \n",
       "\n",
       "   waferindex waferdims train_test_label failure_type  \n",
       "0         1.0  (45, 48)         Training         none  \n",
       "1         2.0  (45, 48)         Training         none  \n",
       "2         3.0  (45, 48)         Training         none  \n",
       "3         4.0  (45, 48)         Training         none  \n",
       "4         5.0  (45, 48)         Training         none  "
      ]
     },
     "execution_count": 145,
     "metadata": {},
     "output_type": "execute_result"
    }
   ],
   "source": [
    "df.head()"
   ]
  },
  {
   "cell_type": "code",
   "execution_count": 146,
   "id": "1cedffd6",
   "metadata": {},
   "outputs": [
    {
     "data": {
      "text/plain": [
       "Index([(32, 29), (25, 27), (49, 39), (26, 26), (30, 34), (33, 33), (33, 29),\n",
       "       (39, 37), (52, 59), (31, 31),\n",
       "       ...\n",
       "       (26, 44), (54, 64), (37, 51), (54, 65), (49, 67), (53, 70), (99, 69),\n",
       "       (38, 50), (45, 47), (27, 71)],\n",
       "      dtype='object', name='waferdims', length=632)"
      ]
     },
     "execution_count": 146,
     "metadata": {},
     "output_type": "execute_result"
    }
   ],
   "source": [
    "#np.unique(df['waferdims'], return_counts = True)\n",
    "df['waferdims'].value_counts().index"
   ]
  },
  {
   "cell_type": "markdown",
   "id": "7e007f94",
   "metadata": {},
   "source": [
    "### 2. 모델을 만들기 위해 wafermap의 크기를 일정하게 해주기 위한 필요"
   ]
  },
  {
   "cell_type": "code",
   "execution_count": 147,
   "id": "4ea4f017",
   "metadata": {},
   "outputs": [
    {
     "name": "stdout",
     "output_type": "stream",
     "text": [
      "19\n"
     ]
    }
   ],
   "source": [
    "# shape의 max값을 찾아야한다.\n",
    "# shape의 max값은 (300,202)이고, min값은 (6, 21)이다.\n",
    "# 이러면 가장 작은 값이 잘 안보일 수 있기 때문에 \n",
    "# 가장 큰 max값 19개로 81만개의 일부이기 때문에 drop하고 두번 째 큰 값을 기준으로 맞추자는 방향\n",
    "\n",
    "filter1 = df['waferdims'] == (300, 202)\n",
    "print(len(df[filter1]))"
   ]
  },
  {
   "cell_type": "code",
   "execution_count": 148,
   "id": "eb0539d5",
   "metadata": {},
   "outputs": [
    {
     "name": "stdout",
     "output_type": "stream",
     "text": [
      "튜플에서 x는 : [(147, 116), (148, 183), (151, 78), (152, 172), (153, 187), (155, 175), (156, 139), (173, 48), (212, 84), (300, 202)]\n",
      "튜플에서 y는 : [(63, 160), (152, 172), (155, 175), (107, 183), (148, 183), (153, 187), (300, 202), (122, 204), (144, 204), (136, 205)]\n"
     ]
    }
   ],
   "source": [
    "# 두번째 가장 큰 shape을 찾기 위해\n",
    "# (x, y)중 x가 두번째로 큰것\n",
    "v = list(df['waferdims'].value_counts().index)\n",
    "v.sort(key = lambda x:x[0])\n",
    "print('튜플에서 x는 :', v[-10:]) # x는 212\n",
    "\n",
    "\n",
    "# (x,y)중 y가 두번째로 큰 것\n",
    "m = list(df['waferdims'].value_counts().index)\n",
    "v.sort(key = lambda x:x[1])\n",
    "print('튜플에서 y는 :', v[-10:])"
   ]
  },
  {
   "cell_type": "code",
   "execution_count": 149,
   "id": "e32d0320",
   "metadata": {},
   "outputs": [],
   "source": [
    "# 하지만 생각보다 max 값과 min값이 차이가 너무나서 분포도를 그려 분포가 적은 기준을 잡아 기준에 적합하지 않은 값들은 drop\n",
    "# 튜플의 x 값 추출\n",
    "list2 = []\n",
    "for i in df['waferdims']:\n",
    "    list2.append(i[0])\n",
    "    \n",
    "# 튜플의 y 값 추출\n",
    "list3 = []\n",
    "for e in df['waferdims']:\n",
    "    list3.append(e[1])"
   ]
  },
  {
   "cell_type": "code",
   "execution_count": 150,
   "id": "cfda212a",
   "metadata": {},
   "outputs": [
    {
     "name": "stderr",
     "output_type": "stream",
     "text": [
      "/tmp/ipykernel_5533/48284952.py:6: UserWarning: \n",
      "\n",
      "`distplot` is a deprecated function and will be removed in seaborn v0.14.0.\n",
      "\n",
      "Please adapt your code to use either `displot` (a figure-level function with\n",
      "similar flexibility) or `histplot` (an axes-level function for histograms).\n",
      "\n",
      "For a guide to updating your code to use the new functions, please see\n",
      "https://gist.github.com/mwaskom/de44147ed2974457ad6372750bbe5751\n",
      "\n",
      "  sns.distplot(x = list2, ax = axes[0])\n",
      "/tmp/ipykernel_5533/48284952.py:7: UserWarning: \n",
      "\n",
      "`distplot` is a deprecated function and will be removed in seaborn v0.14.0.\n",
      "\n",
      "Please adapt your code to use either `displot` (a figure-level function with\n",
      "similar flexibility) or `histplot` (an axes-level function for histograms).\n",
      "\n",
      "For a guide to updating your code to use the new functions, please see\n",
      "https://gist.github.com/mwaskom/de44147ed2974457ad6372750bbe5751\n",
      "\n",
      "  sns.distplot(x = list3, ax = axes[1])\n"
     ]
    },
    {
     "data": {
      "text/plain": [
       "Text(0.5, 1.0, 'Wafer shape의 y 분포')"
      ]
     },
     "execution_count": 150,
     "metadata": {},
     "output_type": "execute_result"
    },
    {
     "data": {
      "image/png": "[encoded data removed]",
      "text/plain": [
       "<Figure size 1008x432 with 2 Axes>"
      ]
     },
     "metadata": {
      "needs_background": "light"
     },
     "output_type": "display_data"
    }
   ],
   "source": [
    "# x와 y의 분포를 보자\n",
    "\n",
    "fig, axes = plt.subplots(1,2, figsize = (14,6))\n",
    "\n",
    "\n",
    "sns.distplot(x = list2, ax = axes[0])\n",
    "sns.distplot(x = list3, ax = axes[1])\n",
    "\n",
    "axes[0].axvline(x = 100, color = 'r', linewidth = 1.5, label = '기준')\n",
    "axes[1].axvline(x = 100, color = 'r', linewidth = 1.5, label = '기준')\n",
    "#axes[0].axvline(list2.median(), color='r', linewidth=2.5, label='중앙값 : '+ str(list2.median()))\n",
    "#axes[0].axvline(list2.mean(), color='g', linewidth=2.5, label='평균값 : '+ str(list2.mean()))\n",
    "\n",
    "axes[0].legend(loc = 'upper right')\n",
    "axes[0].set_title('Wafer shape의 x 분포')\n",
    "axes[1].legend(loc = 'upper right')\n",
    "axes[1].set_title('Wafer shape의 y 분포')"
   ]
  },
  {
   "cell_type": "code",
   "execution_count": 151,
   "id": "d1804122",
   "metadata": {},
   "outputs": [],
   "source": [
    "# 대부분의 shape이 100아래에 존재하기 때문에 100을 기준으로 100 이상의 것들은 drop\n",
    "# 우선 100이상의 것들을 뽑아내기 위해\n",
    "def check_tuple(s):\n",
    "    if s[0] > 100 | s[1] > 100:\n",
    "        return False\n",
    "    else:\n",
    "        return True"
   ]
  },
  {
   "cell_type": "code",
   "execution_count": 152,
   "id": "a0917049",
   "metadata": {},
   "outputs": [],
   "source": [
    "#filter1 = df['wafermap']\n",
    "df['check_tuple'] = df['waferdims'].apply(check_tuple)"
   ]
  },
  {
   "cell_type": "code",
   "execution_count": 153,
   "id": "f72254d1",
   "metadata": {},
   "outputs": [
    {
     "data": {
      "text/html": [
       "<div>\n",
       "<style scoped>\n",
       "    .dataframe tbody tr th:only-of-type {\n",
       "        vertical-align: middle;\n",
       "    }\n",
       "\n",
       "    .dataframe tbody tr th {\n",
       "        vertical-align: top;\n",
       "    }\n",
       "\n",
       "    .dataframe thead th {\n",
       "        text-align: right;\n",
       "    }\n",
       "</style>\n",
       "<table border=\"1\" class=\"dataframe\">\n",
       "  <thead>\n",
       "    <tr style=\"text-align: right;\">\n",
       "      <th></th>\n",
       "      <th>wafermap</th>\n",
       "      <th>diesize</th>\n",
       "      <th>lotname</th>\n",
       "      <th>waferindex</th>\n",
       "      <th>waferdims</th>\n",
       "      <th>train_test_label</th>\n",
       "      <th>failure_type</th>\n",
       "      <th>check_tuple</th>\n",
       "    </tr>\n",
       "  </thead>\n",
       "  <tbody>\n",
       "    <tr>\n",
       "      <th>0</th>\n",
       "      <td>[[0, 0, 0, 0, 0, 0, 0, 0, 0, 0, 0, 0, 0, 0, 0,...</td>\n",
       "      <td>1683.0</td>\n",
       "      <td>lot1</td>\n",
       "      <td>1.0</td>\n",
       "      <td>(45, 48)</td>\n",
       "      <td>Training</td>\n",
       "      <td>none</td>\n",
       "      <td>False</td>\n",
       "    </tr>\n",
       "    <tr>\n",
       "      <th>1</th>\n",
       "      <td>[[0, 0, 0, 0, 0, 0, 0, 0, 0, 0, 0, 0, 0, 0, 0,...</td>\n",
       "      <td>1683.0</td>\n",
       "      <td>lot1</td>\n",
       "      <td>2.0</td>\n",
       "      <td>(45, 48)</td>\n",
       "      <td>Training</td>\n",
       "      <td>none</td>\n",
       "      <td>False</td>\n",
       "    </tr>\n",
       "    <tr>\n",
       "      <th>2</th>\n",
       "      <td>[[0, 0, 0, 0, 0, 0, 0, 0, 0, 0, 0, 0, 0, 0, 0,...</td>\n",
       "      <td>1683.0</td>\n",
       "      <td>lot1</td>\n",
       "      <td>3.0</td>\n",
       "      <td>(45, 48)</td>\n",
       "      <td>Training</td>\n",
       "      <td>none</td>\n",
       "      <td>False</td>\n",
       "    </tr>\n",
       "    <tr>\n",
       "      <th>3</th>\n",
       "      <td>[[0, 0, 0, 0, 0, 0, 0, 0, 0, 0, 0, 0, 0, 0, 0,...</td>\n",
       "      <td>1683.0</td>\n",
       "      <td>lot1</td>\n",
       "      <td>4.0</td>\n",
       "      <td>(45, 48)</td>\n",
       "      <td>Training</td>\n",
       "      <td>none</td>\n",
       "      <td>False</td>\n",
       "    </tr>\n",
       "    <tr>\n",
       "      <th>4</th>\n",
       "      <td>[[0, 0, 0, 0, 0, 0, 0, 0, 0, 0, 0, 0, 0, 0, 0,...</td>\n",
       "      <td>1683.0</td>\n",
       "      <td>lot1</td>\n",
       "      <td>5.0</td>\n",
       "      <td>(45, 48)</td>\n",
       "      <td>Training</td>\n",
       "      <td>none</td>\n",
       "      <td>False</td>\n",
       "    </tr>\n",
       "  </tbody>\n",
       "</table>\n",
       "</div>"
      ],
      "text/plain": [
       "                                            wafermap  diesize lotname  \\\n",
       "0  [[0, 0, 0, 0, 0, 0, 0, 0, 0, 0, 0, 0, 0, 0, 0,...   1683.0    lot1   \n",
       "1  [[0, 0, 0, 0, 0, 0, 0, 0, 0, 0, 0, 0, 0, 0, 0,...   1683.0    lot1   \n",
       "2  [[0, 0, 0, 0, 0, 0, 0, 0, 0, 0, 0, 0, 0, 0, 0,...   1683.0    lot1   \n",
       "3  [[0, 0, 0, 0, 0, 0, 0, 0, 0, 0, 0, 0, 0, 0, 0,...   1683.0    lot1   \n",
       "4  [[0, 0, 0, 0, 0, 0, 0, 0, 0, 0, 0, 0, 0, 0, 0,...   1683.0    lot1   \n",
       "\n",
       "   waferindex waferdims train_test_label failure_type  check_tuple  \n",
       "0         1.0  (45, 48)         Training         none        False  \n",
       "1         2.0  (45, 48)         Training         none        False  \n",
       "2         3.0  (45, 48)         Training         none        False  \n",
       "3         4.0  (45, 48)         Training         none        False  \n",
       "4         5.0  (45, 48)         Training         none        False  "
      ]
     },
     "execution_count": 153,
     "metadata": {},
     "output_type": "execute_result"
    }
   ],
   "source": [
    "df.head()"
   ]
  },
  {
   "cell_type": "code",
   "execution_count": 154,
   "id": "96193d2f",
   "metadata": {},
   "outputs": [],
   "source": [
    "# 조건 만족 행 drop\n",
    "filter2 = df['check_tuple'] == False\n",
    "df.drop(df[filter2].index, axis=0, inplace = True)\n",
    "df = df.reset_index()"
   ]
  },
  {
   "cell_type": "code",
   "execution_count": 156,
   "id": "6b570a9e",
   "metadata": {},
   "outputs": [
    {
     "data": {
      "text/html": [
       "<div>\n",
       "<style scoped>\n",
       "    .dataframe tbody tr th:only-of-type {\n",
       "        vertical-align: middle;\n",
       "    }\n",
       "\n",
       "    .dataframe tbody tr th {\n",
       "        vertical-align: top;\n",
       "    }\n",
       "\n",
       "    .dataframe thead th {\n",
       "        text-align: right;\n",
       "    }\n",
       "</style>\n",
       "<table border=\"1\" class=\"dataframe\">\n",
       "  <thead>\n",
       "    <tr style=\"text-align: right;\">\n",
       "      <th></th>\n",
       "      <th>index</th>\n",
       "      <th>wafermap</th>\n",
       "      <th>diesize</th>\n",
       "      <th>lotname</th>\n",
       "      <th>waferindex</th>\n",
       "      <th>waferdims</th>\n",
       "      <th>train_test_label</th>\n",
       "      <th>failure_type</th>\n",
       "      <th>check_tuple</th>\n",
       "    </tr>\n",
       "  </thead>\n",
       "  <tbody>\n",
       "    <tr>\n",
       "      <th>0</th>\n",
       "      <td>0</td>\n",
       "      <td>[[0, 0, 0, 0, 0, 0, 0, 0, 0, 0, 0, 0, 0, 0, 0,...</td>\n",
       "      <td>1683.0</td>\n",
       "      <td>lot1</td>\n",
       "      <td>1.0</td>\n",
       "      <td>(45, 48)</td>\n",
       "      <td>Training</td>\n",
       "      <td>none</td>\n",
       "      <td>False</td>\n",
       "    </tr>\n",
       "    <tr>\n",
       "      <th>1</th>\n",
       "      <td>1</td>\n",
       "      <td>[[0, 0, 0, 0, 0, 0, 0, 0, 0, 0, 0, 0, 0, 0, 0,...</td>\n",
       "      <td>1683.0</td>\n",
       "      <td>lot1</td>\n",
       "      <td>2.0</td>\n",
       "      <td>(45, 48)</td>\n",
       "      <td>Training</td>\n",
       "      <td>none</td>\n",
       "      <td>False</td>\n",
       "    </tr>\n",
       "    <tr>\n",
       "      <th>2</th>\n",
       "      <td>2</td>\n",
       "      <td>[[0, 0, 0, 0, 0, 0, 0, 0, 0, 0, 0, 0, 0, 0, 0,...</td>\n",
       "      <td>1683.0</td>\n",
       "      <td>lot1</td>\n",
       "      <td>3.0</td>\n",
       "      <td>(45, 48)</td>\n",
       "      <td>Training</td>\n",
       "      <td>none</td>\n",
       "      <td>False</td>\n",
       "    </tr>\n",
       "    <tr>\n",
       "      <th>3</th>\n",
       "      <td>3</td>\n",
       "      <td>[[0, 0, 0, 0, 0, 0, 0, 0, 0, 0, 0, 0, 0, 0, 0,...</td>\n",
       "      <td>1683.0</td>\n",
       "      <td>lot1</td>\n",
       "      <td>4.0</td>\n",
       "      <td>(45, 48)</td>\n",
       "      <td>Training</td>\n",
       "      <td>none</td>\n",
       "      <td>False</td>\n",
       "    </tr>\n",
       "    <tr>\n",
       "      <th>4</th>\n",
       "      <td>4</td>\n",
       "      <td>[[0, 0, 0, 0, 0, 0, 0, 0, 0, 0, 0, 0, 0, 0, 0,...</td>\n",
       "      <td>1683.0</td>\n",
       "      <td>lot1</td>\n",
       "      <td>5.0</td>\n",
       "      <td>(45, 48)</td>\n",
       "      <td>Training</td>\n",
       "      <td>none</td>\n",
       "      <td>False</td>\n",
       "    </tr>\n",
       "  </tbody>\n",
       "</table>\n",
       "</div>"
      ],
      "text/plain": [
       "   index                                           wafermap  diesize lotname  \\\n",
       "0      0  [[0, 0, 0, 0, 0, 0, 0, 0, 0, 0, 0, 0, 0, 0, 0,...   1683.0    lot1   \n",
       "1      1  [[0, 0, 0, 0, 0, 0, 0, 0, 0, 0, 0, 0, 0, 0, 0,...   1683.0    lot1   \n",
       "2      2  [[0, 0, 0, 0, 0, 0, 0, 0, 0, 0, 0, 0, 0, 0, 0,...   1683.0    lot1   \n",
       "3      3  [[0, 0, 0, 0, 0, 0, 0, 0, 0, 0, 0, 0, 0, 0, 0,...   1683.0    lot1   \n",
       "4      4  [[0, 0, 0, 0, 0, 0, 0, 0, 0, 0, 0, 0, 0, 0, 0,...   1683.0    lot1   \n",
       "\n",
       "   waferindex waferdims train_test_label failure_type  check_tuple  \n",
       "0         1.0  (45, 48)         Training         none        False  \n",
       "1         2.0  (45, 48)         Training         none        False  \n",
       "2         3.0  (45, 48)         Training         none        False  \n",
       "3         4.0  (45, 48)         Training         none        False  \n",
       "4         5.0  (45, 48)         Training         none        False  "
      ]
     },
     "execution_count": 156,
     "metadata": {},
     "output_type": "execute_result"
    }
   ],
   "source": [
    "df.head()"
   ]
  },
  {
   "cell_type": "code",
   "execution_count": 165,
   "id": "27e6d095",
   "metadata": {},
   "outputs": [
    {
     "data": {
      "text/plain": [
       "check_tuple\n",
       "False    796188\n",
       "Name: count, dtype: int64"
      ]
     },
     "execution_count": 165,
     "metadata": {},
     "output_type": "execute_result"
    }
   ],
   "source": [
    "df['check_tuple'].value_counts()"
   ]
  },
  {
   "cell_type": "code",
   "execution_count": 163,
   "id": "d336876f",
   "metadata": {},
   "outputs": [
    {
     "name": "stdout",
     "output_type": "stream",
     "text": [
      "튜플에서 x는 : (156, 139)\n",
      "튜플에서 y는 : (136, 205)\n"
     ]
    }
   ],
   "source": [
    "#다시 한 번 check\n",
    "v = list(df['waferdims'].value_counts().index)\n",
    "v.sort(key = lambda x:x[0])\n",
    "print('튜플에서 x는 :', v[-1])\n",
    "\n",
    "m = list(df['waferdims'].value_counts().index)\n",
    "m.sort(key = lambda x:x[1])\n",
    "print('튜플에서 y는 :', m[-1])\n",
    "#nda_2 = [[x in x for i range()]]"
   ]
  },
  {
   "cell_type": "code",
   "execution_count": 88,
   "id": "1a3d0b64",
   "metadata": {},
   "outputs": [
    {
     "data": {
      "text/plain": [
       "<matplotlib.image.AxesImage at 0x7f4d182b8c40>"
      ]
     },
     "execution_count": 88,
     "metadata": {},
     "output_type": "execute_result"
    },
    {
     "data": {
      "image/png": "[encoded data removed]",
      "text/plain": [
       "<Figure size 432x288 with 2 Axes>"
      ]
     },
     "metadata": {
      "needs_background": "light"
     },
     "output_type": "display_data"
    }
   ],
   "source": [
    "_, axe = plt.subplots(1,2)\n",
    "axe[0].imshow(df['waferMap'][142524])\n",
    "axe[1].imshow(df['waferMap'][469440])"
   ]
  },
  {
   "cell_type": "code",
   "execution_count": null,
   "id": "b0b3cb47",
   "metadata": {},
   "outputs": [],
   "source": [
    "# lotname groupby meanmax\n",
    "# 0부분 패딩 처리\n",
    "# EDA lot개수 lot별로 fault 난 횟수 여러가지 통계치를 많이 뽑아보자"
   ]
  }
 ],
 "metadata": {
  "kernelspec": {
   "display_name": "Python 3 (ipykernel)",
   "language": "python",
   "name": "python3"
  },
  "language_info": {
   "codemirror_mode": {
    "name": "ipython",
    "version": 3
   },
   "file_extension": ".py",
   "mimetype": "text/x-python",
   "name": "python",
   "nbconvert_exporter": "python",
   "pygments_lexer": "ipython3",
   "version": "3.10.6"
  }
 },
 "nbformat": 4,
 "nbformat_minor": 5
}
